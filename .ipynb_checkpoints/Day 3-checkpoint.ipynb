{
 "cells": [
  {
   "cell_type": "markdown",
   "metadata": {},
   "source": [
    "# Day 3: Toboggan Trajectory"
   ]
  },
  {
   "cell_type": "markdown",
   "metadata": {},
   "source": [
    "## Task 1\n",
    "\n",
    "Movement rule: down 1, right 3  \n",
    "The map repeats if right edge is reached, just use modulo here"
   ]
  },
  {
   "cell_type": "code",
   "execution_count": 21,
   "metadata": {},
   "outputs": [
    {
     "name": "stdout",
     "output_type": "stream",
     "text": [
      "Tree encounters: 286\n"
     ]
    }
   ],
   "source": [
    "train_map = open(\"input-day-3.txt\", \"r\")\n",
    "train_map = train_map.read().split(\"\\n\")[0:-1]\n",
    "\n",
    "map_height = len(train_map)\n",
    "map_width = len(train_map[0])\n",
    "\n",
    "tree_hits = 0\n",
    "x,y = 0,0\n",
    "\n",
    "# While we are inside the map in te y direction\n",
    "while y <= map_height - 1:\n",
    "    \n",
    "    # If this coordinate is a tree\n",
    "    if train_map[y][x] == \"#\":\n",
    "        tree_hits += 1\n",
    "    \n",
    "    # Move to next coordinate\n",
    "    x += 3\n",
    "    y += 1\n",
    "    \n",
    "    # Repeat the map in the x direction\n",
    "    x %= map_width\n",
    "    \n",
    "print(\"Tree encounters: \" + str(tree_hits))"
   ]
  },
  {
   "cell_type": "code",
   "execution_count": null,
   "metadata": {},
   "outputs": [],
   "source": []
  }
 ],
 "metadata": {
  "kernelspec": {
   "display_name": "Python 3",
   "language": "python",
   "name": "python3"
  },
  "language_info": {
   "codemirror_mode": {
    "name": "ipython",
    "version": 3
   },
   "file_extension": ".py",
   "mimetype": "text/x-python",
   "name": "python",
   "nbconvert_exporter": "python",
   "pygments_lexer": "ipython3",
   "version": "3.8.3"
  },
  "toc": {
   "base_numbering": 1,
   "nav_menu": {},
   "number_sections": true,
   "sideBar": true,
   "skip_h1_title": false,
   "title_cell": "Table of Contents",
   "title_sidebar": "Contents",
   "toc_cell": false,
   "toc_position": {},
   "toc_section_display": true,
   "toc_window_display": false
  }
 },
 "nbformat": 4,
 "nbformat_minor": 4
}
