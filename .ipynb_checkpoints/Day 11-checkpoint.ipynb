{
 "cells": [
  {
   "cell_type": "markdown",
   "metadata": {},
   "source": [
    "# Part 1"
   ]
  },
  {
   "cell_type": "code",
   "execution_count": 1,
   "metadata": {
    "ExecuteTime": {
     "end_time": "2020-12-30T13:25:43.036124Z",
     "start_time": "2020-12-30T13:25:43.011122Z"
    }
   },
   "outputs": [],
   "source": [
    "%load_ext line_profiler"
   ]
  },
  {
   "cell_type": "code",
   "execution_count": 2,
   "metadata": {
    "ExecuteTime": {
     "end_time": "2020-12-30T13:25:43.163026Z",
     "start_time": "2020-12-30T13:25:43.038126Z"
    }
   },
   "outputs": [],
   "source": [
    "import numpy as np"
   ]
  },
  {
   "cell_type": "code",
   "execution_count": 3,
   "metadata": {
    "ExecuteTime": {
     "end_time": "2020-12-30T13:25:43.178026Z",
     "start_time": "2020-12-30T13:25:43.166026Z"
    }
   },
   "outputs": [],
   "source": [
    "input_data = open(\"input/input-day-11.txt\", \"r\")\n",
    "input_data = input_data.read().split(\"\\n\")[:-1]\n",
    "\n",
    "input_data = [x.split() for x in input_data]\n",
    "\n",
    "seat_state_original = []\n",
    "for row in input_data:\n",
    "    seat_state_original.append([char for char in row[0]])\n",
    "\n",
    "seat_state_original = np.array(seat_state_original)"
   ]
  },
  {
   "cell_type": "markdown",
   "metadata": {},
   "source": [
    "**RULES**  \n",
    "All decisions are based on the number of occupied seats adjacent to a given seat (one of the eight positions immediately up, down, left, right, or diagonal from the seat)\n",
    "\n",
    "* If a seat is empty (L) and there are no occupied seats adjacent to it, the seat becomes occupied.\n",
    "* If a seat is occupied (#) and four or more seats adjacent to it are also occupied, the seat becomes empty.\n",
    "    Otherwise, the seat's state does not change.\n",
    "* Floor (.) never changes; seats don't move, and nobody sits on the floor."
   ]
  },
  {
   "cell_type": "code",
   "execution_count": 4,
   "metadata": {
    "ExecuteTime": {
     "end_time": "2020-12-30T13:25:43.194125Z",
     "start_time": "2020-12-30T13:25:43.179027Z"
    }
   },
   "outputs": [],
   "source": [
    "adjacent = np.array([\n",
    "    [1,0],   # East\n",
    "    [1,1],   # South East\n",
    "    [0,1],   # South\n",
    "    [-1,1],  # South West\n",
    "    [-1,0],  # West\n",
    "    [-1,-1], # North West\n",
    "    [0,-1],  # North\n",
    "    [1,-1]   # North East\n",
    "])"
   ]
  },
  {
   "cell_type": "code",
   "execution_count": 5,
   "metadata": {
    "ExecuteTime": {
     "end_time": "2020-12-30T13:25:43.210116Z",
     "start_time": "2020-12-30T13:25:43.195127Z"
    }
   },
   "outputs": [],
   "source": [
    "x_dim_size = seat_state_original.shape[0]\n",
    "y_dim_size = seat_state_original.shape[1]"
   ]
  },
  {
   "cell_type": "code",
   "execution_count": 21,
   "metadata": {
    "ExecuteTime": {
     "end_time": "2020-12-30T13:52:36.199134Z",
     "start_time": "2020-12-30T13:52:16.898137Z"
    }
   },
   "outputs": [
    {
     "name": "stdout",
     "output_type": "stream",
     "text": [
      "New seat state didn't change!\n",
      "Number of occupied seats: 2194\n"
     ]
    }
   ],
   "source": [
    "def main():\n",
    "    new_seat_state_equal = False\n",
    "\n",
    "    seat_state = np.array(seat_state_original)\n",
    "\n",
    "    while not new_seat_state_equal:\n",
    "\n",
    "        # Blank slate to store the new seating. \n",
    "        # Since check for each seat happens all at once, hence we can't update the current layout\n",
    "        new_seat_state = np.empty(shape=(x_dim_size,y_dim_size), dtype=str)\n",
    "\n",
    "        # Iterate over each element and update seatings!\n",
    "        for index, element in np.ndenumerate(seat_state):\n",
    "            x_pos = index[0]\n",
    "            y_pos = index[1]\n",
    "\n",
    "            # Ignore if this is a floor tile\n",
    "            if element == \".\":\n",
    "                new_seat_state[x_pos, y_pos] = \".\"\n",
    "                continue\n",
    "\n",
    "            # Check if the current seat is occupied or not\n",
    "            current_seat_occupied = True if element == \"#\" else False\n",
    "\n",
    "            nr_of_occupied_adjacent = 0\n",
    "            for direction in adjacent:\n",
    "                if x_pos + direction[0] < 0 or y_pos + direction[1] < 0:\n",
    "                    continue\n",
    "                if x_pos + direction[0] > x_dim_size - 1 or y_pos + direction[1] > y_dim_size - 1:\n",
    "                    continue                \n",
    "                \n",
    "                if seat_state[x_pos + direction[0], y_pos + direction[1]] == \"#\":\n",
    "                    nr_of_occupied_adjacent += 1\n",
    "                    \n",
    "            # If current seat is not occupied and there are no adjacent seats occupied. Occupie the seat\n",
    "            if not current_seat_occupied and nr_of_occupied_adjacent == 0:\n",
    "                new_seat_state[x_pos, y_pos] = \"#\"\n",
    "\n",
    "            elif current_seat_occupied and nr_of_occupied_adjacent >= 4:\n",
    "                new_seat_state[x_pos, y_pos] = \"L\"\n",
    "\n",
    "            else:\n",
    "                new_seat_state[x_pos, y_pos] = element\n",
    "\n",
    "        if np.array_equal(seat_state, new_seat_state):\n",
    "            print(\"New seat state didn't change!\")\n",
    "            print(\"Number of occupied seats:\", np.count_nonzero(new_seat_state == \"#\"))\n",
    "            new_seat_state_equal = True\n",
    "\n",
    "        # Update the seating to check for the next iteration\n",
    "        seat_state = np.copy(new_seat_state)\n",
    "    \n",
    "#%lprun -f main main()\n",
    "main()\n"
   ]
  }
 ],
 "metadata": {
  "kernelspec": {
   "display_name": "Python 3",
   "language": "python",
   "name": "python3"
  },
  "language_info": {
   "codemirror_mode": {
    "name": "ipython",
    "version": 3
   },
   "file_extension": ".py",
   "mimetype": "text/x-python",
   "name": "python",
   "nbconvert_exporter": "python",
   "pygments_lexer": "ipython3",
   "version": "3.8.3"
  },
  "toc": {
   "base_numbering": 1,
   "nav_menu": {},
   "number_sections": true,
   "sideBar": true,
   "skip_h1_title": false,
   "title_cell": "Table of Contents",
   "title_sidebar": "Contents",
   "toc_cell": false,
   "toc_position": {},
   "toc_section_display": true,
   "toc_window_display": false
  }
 },
 "nbformat": 4,
 "nbformat_minor": 4
}
