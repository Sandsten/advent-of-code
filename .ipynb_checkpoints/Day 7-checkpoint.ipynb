{
 "cells": [
  {
   "cell_type": "markdown",
   "metadata": {},
   "source": [
    "# Day 7: Handy Haversacks"
   ]
  },
  {
   "cell_type": "code",
   "execution_count": 1,
   "metadata": {},
   "outputs": [],
   "source": [
    "from termcolor import colored\n",
    "from colorama import Fore, Style"
   ]
  },
  {
   "cell_type": "code",
   "execution_count": 2,
   "metadata": {},
   "outputs": [
    {
     "name": "stdout",
     "output_type": "stream",
     "text": [
      "\u001b[31mTest\u001b[0m\n"
     ]
    }
   ],
   "source": [
    "colors = [\"grey\",\"red\",\"green\",\"yellow\",\"blue\",\"magenta\",\"cyan\"]\n",
    "colors\n",
    "print(colored(\"Test\", colors[1]))\n",
    "fore_colors = [Fore.BLACK, Fore.RED, Fore.GREEN, Fore.YELLOW, Fore.BLUE, Fore.MAGENTA, Fore.CYAN]"
   ]
  },
  {
   "cell_type": "code",
   "execution_count": 3,
   "metadata": {},
   "outputs": [
    {
     "name": "stdout",
     "output_type": "stream",
     "text": [
      "This is \u001b[30mcolor color color \n"
     ]
    }
   ],
   "source": [
    "print(f\"This is {fore_colors[0]}color color color \")"
   ]
  },
  {
   "cell_type": "markdown",
   "metadata": {},
   "source": [
    "## Part 1\n",
    "How many different bags can contain a *shiny gold bag*?  \n",
    "It counts if the *shiny gold bag* is deep inside other bags!"
   ]
  },
  {
   "cell_type": "code",
   "execution_count": 4,
   "metadata": {},
   "outputs": [],
   "source": [
    "bag_rules = open(\"input-day-7.txt\", \"r\")\n",
    "bag_rules = bag_rules.read().split(\"\\n\")[0:-1]"
   ]
  },
  {
   "cell_type": "markdown",
   "metadata": {},
   "source": [
    "### Create a dictionary with all the different bag types as keys. \n",
    "The value for each key is an array with the bag types required  "
   ]
  },
  {
   "cell_type": "code",
   "execution_count": 5,
   "metadata": {},
   "outputs": [],
   "source": [
    "# First element is the bag type\n",
    "# The latter elements are the content rules for that particular bag\n",
    "# Some bags have \"no other bags\" as their rule\n",
    "rules_dict = {}\n",
    "for rule in bag_rules:\n",
    "    rule = rule.replace(\".\",\"\") # Remove periods\n",
    "    rule = rule.replace(\" bags contain\", \",\") # Replace the separator between bag and its rule with \",\"\n",
    "    rule = rule.split(\",\") # Make it into an array\n",
    "    rule = [r.strip() for r in rule] # Remove all surrounding spaces\n",
    "    \n",
    "    # Go through all the rules for the current bag. The first element is the bag who's rules it is.\n",
    "    bag_content_rules = []\n",
    "    for r in rule[1:]:\n",
    "        # Leave it as an empty array if there are no other bags\n",
    "        if r != \"no other bags\":\n",
    "            bag_content_rules.append([r[0:1], r[1:].replace(\"bags\", \"\").replace(\"bag\", \"\").strip()])\n",
    "    \n",
    "    # Create a new dict entry for the parsed bag!\n",
    "    rules_dict[rule[0]] = bag_content_rules"
   ]
  },
  {
   "cell_type": "code",
   "execution_count": 6,
   "metadata": {},
   "outputs": [
    {
     "name": "stdout",
     "output_type": "stream",
     "text": [
      "Example\n",
      "bag rules for 'light salmon': [['5', 'dotted olive'], ['4', 'wavy lavender']]\n",
      "Nr of bag types = 594\n"
     ]
    }
   ],
   "source": [
    "all_bag_types = list(rules_dict.keys())\n",
    "print(\"Example\")\n",
    "print(\"bag rules for 'light salmon': \" + str(rules_dict[\"light salmon\"]))\n",
    "print(\"Nr of bag types = \" + str(len(all_bag_types)))"
   ]
  },
  {
   "cell_type": "markdown",
   "metadata": {},
   "source": [
    "### Do the search\n",
    "Find the answer to the question  \n",
    "*How many bag colors can eventually contain at least one shiny gold bag?*\n",
    "\n",
    "Idea recursive:  \n",
    "Define a function which \"opens\" the bags inside the bag until a gold bag is found. Then return and add 1.  \n",
    "Or if there are no other bags inside, then return without adding."
   ]
  },
  {
   "cell_type": "code",
   "execution_count": 7,
   "metadata": {},
   "outputs": [
    {
     "name": "stdout",
     "output_type": "stream",
     "text": [
      "Number of bag colors which eventually contain a gold bag = 261\n"
     ]
    }
   ],
   "source": [
    "debug = False\n",
    "\n",
    "# Open the bag and look in all bags withing that bag\n",
    "def do_bag_contain_shiny_gold(bag_type, depth):\n",
    "    gold_found = False\n",
    "    \n",
    "    # If this is a gold bag, return true. Don't coun't if the outer most bag is a shiny golden one\n",
    "    if(bag_type == \"shiny gold\" and depth > 0):\n",
    "        if(debug): print(str(\"  \"*depth) + \"**Shiny gold bag found, no need to look any further in this bag**\")\n",
    "        return True\n",
    "    \n",
    "    if(debug): print(str(\"  \"*depth) + \"Looking in bag: \" + bag_type)\n",
    "    \n",
    "    # Look in the current bag\n",
    "    bag = rules_dict[bag_type]\n",
    "    \n",
    "    if(debug): print(str(\"  \"*depth) + \"Has \" + str(len(bag)) + \" sub-bags\")\n",
    "    if(debug): print(str(\"  \"*depth) + str(bag))\n",
    "    \n",
    "    # If the bag is empty, there's no gold to be found in this path\n",
    "    if(len(bag) == 0): \n",
    "        if(debug): print(str(\"  \"*depth) + \"Done looking in \" + bag_type)\n",
    "        return False;\n",
    "    \n",
    "    # Go through all sub bags\n",
    "    for b in bag:\n",
    "        # See if there's a gold bag in the sub bag recursivly.\n",
    "        gold_found = do_bag_contain_shiny_gold(b[1], depth + 1)\n",
    "        # As soon as gold is found, retun true. No need to look in the rest of the sub bags.\n",
    "        if(gold_found):\n",
    "            return True\n",
    "    \n",
    "    if(debug): print(str(\"  \"*depth) + \"Done looking in \" + bag_type)\n",
    "    \n",
    "    # Finally return wether or not there's gold to be found in this bag\n",
    "    return gold_found\n",
    "\n",
    "# Look in all bags\n",
    "bags_containing_gold = 0\n",
    "for bag_type in all_bag_types:\n",
    "    is_there_gold = do_bag_contain_shiny_gold(bag_type, 0)\n",
    "    \n",
    "    if is_there_gold:\n",
    "        #print(\"There's eventually a gold bag in \" + str(bag_type))\n",
    "        bags_containing_gold += 1\n",
    "        \n",
    "print(\"Number of bag colors which eventually contain a gold bag = \" + str(bags_containing_gold))"
   ]
  },
  {
   "cell_type": "markdown",
   "metadata": {},
   "source": [
    "## Part 2"
   ]
  },
  {
   "cell_type": "code",
   "execution_count": 13,
   "metadata": {
    "scrolled": false
   },
   "outputs": [
    {
     "name": "stdout",
     "output_type": "stream",
     "text": [
      "\u001b[30mLooking in bag: shiny gold\u001b[0m\n",
      "\u001b[30mHas 1 sub-bags\n",
      "\u001b[30m[['5', 'wavy chartreuse']]\n",
      "\u001b[31m  Looking in bag: wavy chartreuse\u001b[0m\n",
      "\u001b[31m  Has 4 sub-bags\n",
      "\u001b[31m  [['5', 'muted blue'], ['1', 'bright crimson'], ['1', 'pale gray'], ['1', 'shiny silver']]\n",
      "\u001b[32m    Looking in bag: muted blue\u001b[0m\n",
      "\u001b[32m    Has 3 sub-bags\n",
      "\u001b[32m    [['3', 'shiny aqua'], ['5', 'dark turquoise'], ['1', 'dotted silver']]\n",
      "\u001b[33m      Looking in bag: shiny aqua\u001b[0m\n",
      "\u001b[33m      Has 1 sub-bags\n",
      "\u001b[33m      [['1', 'posh turquoise']]\n",
      "\u001b[34m        Looking in bag: posh turquoise\u001b[0m\n",
      "\u001b[34m        Has 1 sub-bags\n",
      "\u001b[34m        [['1', 'dim chartreuse']]\n",
      "\u001b[35m          Looking in bag: dim chartreuse\u001b[0m\n",
      "\u001b[35m          Has 0 sub-bags\n",
      "\u001b[35m          No sub bags in dim chartreuse. Base case reached!\n",
      "\u001b[33m      Looking in bag: dark turquoise\u001b[0m\n",
      "\u001b[33m      Has 2 sub-bags\n",
      "\u001b[33m      [['5', 'shiny violet'], ['3', 'dark brown']]\n",
      "\u001b[34m        Looking in bag: shiny violet\u001b[0m\n",
      "\u001b[34m        Has 0 sub-bags\n",
      "\u001b[34m        No sub bags in shiny violet. Base case reached!\n",
      "\u001b[34m        Looking in bag: dark brown\u001b[0m\n",
      "\u001b[34m        Has 0 sub-bags\n",
      "\u001b[34m        No sub bags in dark brown. Base case reached!\n",
      "\u001b[33m      Looking in bag: dotted silver\u001b[0m\n",
      "\u001b[33m      Has 3 sub-bags\n",
      "\u001b[33m      [['1', 'dark brown'], ['5', 'dark turquoise'], ['4', 'dim violet']]\n",
      "\u001b[34m        Looking in bag: dark brown\u001b[0m\n",
      "\u001b[34m        Has 0 sub-bags\n",
      "\u001b[34m        No sub bags in dark brown. Base case reached!\n",
      "\u001b[34m        Looking in bag: dark turquoise\u001b[0m\n",
      "\u001b[34m        Has 2 sub-bags\n",
      "\u001b[34m        [['5', 'shiny violet'], ['3', 'dark brown']]\n",
      "\u001b[35m          Looking in bag: shiny violet\u001b[0m\n",
      "\u001b[35m          Has 0 sub-bags\n",
      "\u001b[35m          No sub bags in shiny violet. Base case reached!\n",
      "\u001b[35m          Looking in bag: dark brown\u001b[0m\n",
      "\u001b[35m          Has 0 sub-bags\n",
      "\u001b[35m          No sub bags in dark brown. Base case reached!\n",
      "\u001b[34m        Looking in bag: dim violet\u001b[0m\n",
      "\u001b[34m        Has 0 sub-bags\n",
      "\u001b[34m        No sub bags in dim violet. Base case reached!\n",
      "\u001b[32m    Looking in bag: bright crimson\u001b[0m\n",
      "\u001b[32m    Has 2 sub-bags\n",
      "\u001b[32m    [['1', 'plaid fuchsia'], ['2', 'drab black']]\n",
      "\u001b[33m      Looking in bag: plaid fuchsia\u001b[0m\n",
      "\u001b[33m      Has 0 sub-bags\n",
      "\u001b[33m      No sub bags in plaid fuchsia. Base case reached!\n",
      "\u001b[33m      Looking in bag: drab black\u001b[0m\n",
      "\u001b[33m      Has 0 sub-bags\n",
      "\u001b[33m      No sub bags in drab black. Base case reached!\n",
      "\u001b[32m    Looking in bag: pale gray\u001b[0m\n",
      "\u001b[32m    Has 3 sub-bags\n",
      "\u001b[32m    [['1', 'dull green'], ['2', 'dotted orange'], ['2', 'dark turquoise']]\n",
      "\u001b[33m      Looking in bag: dull green\u001b[0m\n",
      "\u001b[33m      Has 2 sub-bags\n",
      "\u001b[33m      [['2', 'light teal'], ['5', 'drab black']]\n",
      "\u001b[34m        Looking in bag: light teal\u001b[0m\n",
      "\u001b[34m        Has 0 sub-bags\n",
      "\u001b[34m        No sub bags in light teal. Base case reached!\n",
      "\u001b[34m        Looking in bag: drab black\u001b[0m\n",
      "\u001b[34m        Has 0 sub-bags\n",
      "\u001b[34m        No sub bags in drab black. Base case reached!\n",
      "\u001b[33m      Looking in bag: dotted orange\u001b[0m\n",
      "\u001b[33m      Has 2 sub-bags\n",
      "\u001b[33m      [['1', 'light aqua'], ['4', 'posh turquoise']]\n",
      "\u001b[34m        Looking in bag: light aqua\u001b[0m\n",
      "\u001b[34m        Has 0 sub-bags\n",
      "\u001b[34m        No sub bags in light aqua. Base case reached!\n",
      "\u001b[34m        Looking in bag: posh turquoise\u001b[0m\n",
      "\u001b[34m        Has 1 sub-bags\n",
      "\u001b[34m        [['1', 'dim chartreuse']]\n",
      "\u001b[35m          Looking in bag: dim chartreuse\u001b[0m\n",
      "\u001b[35m          Has 0 sub-bags\n",
      "\u001b[35m          No sub bags in dim chartreuse. Base case reached!\n",
      "\u001b[33m      Looking in bag: dark turquoise\u001b[0m\n",
      "\u001b[33m      Has 2 sub-bags\n",
      "\u001b[33m      [['5', 'shiny violet'], ['3', 'dark brown']]\n",
      "\u001b[34m        Looking in bag: shiny violet\u001b[0m\n",
      "\u001b[34m        Has 0 sub-bags\n",
      "\u001b[34m        No sub bags in shiny violet. Base case reached!\n",
      "\u001b[34m        Looking in bag: dark brown\u001b[0m\n",
      "\u001b[34m        Has 0 sub-bags\n",
      "\u001b[34m        No sub bags in dark brown. Base case reached!\n",
      "\u001b[32m    Looking in bag: shiny silver\u001b[0m\n",
      "\u001b[32m    Has 3 sub-bags\n",
      "\u001b[32m    [['3', 'light gold'], ['5', 'bright crimson'], ['4', 'dark turquoise']]\n",
      "\u001b[33m      Looking in bag: light gold\u001b[0m\n",
      "\u001b[33m      Has 3 sub-bags\n",
      "\u001b[33m      [['4', 'shiny aqua'], ['5', 'dim violet'], ['2', 'dotted orange']]\n",
      "\u001b[34m        Looking in bag: shiny aqua\u001b[0m\n",
      "\u001b[34m        Has 1 sub-bags\n",
      "\u001b[34m        [['1', 'posh turquoise']]\n",
      "\u001b[35m          Looking in bag: posh turquoise\u001b[0m\n",
      "\u001b[35m          Has 1 sub-bags\n",
      "\u001b[35m          [['1', 'dim chartreuse']]\n",
      "\u001b[36m            Looking in bag: dim chartreuse\u001b[0m\n",
      "\u001b[36m            Has 0 sub-bags\n",
      "\u001b[36m            No sub bags in dim chartreuse. Base case reached!\n",
      "\u001b[34m        Looking in bag: dim violet\u001b[0m\n",
      "\u001b[34m        Has 0 sub-bags\n",
      "\u001b[34m        No sub bags in dim violet. Base case reached!\n",
      "\u001b[34m        Looking in bag: dotted orange\u001b[0m\n",
      "\u001b[34m        Has 2 sub-bags\n",
      "\u001b[34m        [['1', 'light aqua'], ['4', 'posh turquoise']]\n",
      "\u001b[35m          Looking in bag: light aqua\u001b[0m\n",
      "\u001b[35m          Has 0 sub-bags\n",
      "\u001b[35m          No sub bags in light aqua. Base case reached!\n",
      "\u001b[35m          Looking in bag: posh turquoise\u001b[0m\n",
      "\u001b[35m          Has 1 sub-bags\n",
      "\u001b[35m          [['1', 'dim chartreuse']]\n",
      "\u001b[36m            Looking in bag: dim chartreuse\u001b[0m\n",
      "\u001b[36m            Has 0 sub-bags\n",
      "\u001b[36m            No sub bags in dim chartreuse. Base case reached!\n",
      "\u001b[33m      Looking in bag: bright crimson\u001b[0m\n",
      "\u001b[33m      Has 2 sub-bags\n",
      "\u001b[33m      [['1', 'plaid fuchsia'], ['2', 'drab black']]\n",
      "\u001b[34m        Looking in bag: plaid fuchsia\u001b[0m\n",
      "\u001b[34m        Has 0 sub-bags\n",
      "\u001b[34m        No sub bags in plaid fuchsia. Base case reached!\n",
      "\u001b[34m        Looking in bag: drab black\u001b[0m\n",
      "\u001b[34m        Has 0 sub-bags\n",
      "\u001b[34m        No sub bags in drab black. Base case reached!\n",
      "\u001b[33m      Looking in bag: dark turquoise\u001b[0m\n",
      "\u001b[33m      Has 2 sub-bags\n",
      "\u001b[33m      [['5', 'shiny violet'], ['3', 'dark brown']]\n",
      "\u001b[34m        Looking in bag: shiny violet\u001b[0m\n",
      "\u001b[34m        Has 0 sub-bags\n",
      "\u001b[34m        No sub bags in shiny violet. Base case reached!\n",
      "\u001b[34m        Looking in bag: dark brown\u001b[0m\n",
      "\u001b[34m        Has 0 sub-bags\n",
      "\u001b[34m        No sub bags in dark brown. Base case reached!\n",
      "\n",
      "Total number of bags in shiny gold = 3765\n"
     ]
    }
   ],
   "source": [
    "# Open the bag and look in all bags withing that bag\n",
    "def nr_of_bags_in(bag_type, depth):\n",
    "    depth_color = fore_colors[depth%len(fore_colors)]\n",
    "\n",
    "    print(f\"{depth_color}\"+str(\"  \"*depth) + colored(\"Looking in bag: \" + bag_type))\n",
    "    \n",
    "    # Look for sub bags in bag type\n",
    "    bag = rules_dict[bag_type]\n",
    "    \n",
    "    print(f\"{depth_color}\"+str(\"  \"*depth) + \"Has \" + str(len(bag)) + \" sub-bags\")\n",
    "    \n",
    "    # Base case. If there are no sub bags\n",
    "    if(len(bag) == 0): \n",
    "        print(f\"{depth_color}\"+str(\"  \"*depth) + \"No sub bags in \" + bag_type + \". Base case reached!\")\n",
    "        return 0; # There are no sub bags here!\n",
    "    \n",
    "    print(f\"{depth_color}\"+str(\"  \"*depth) + str(bag))\n",
    "    \n",
    "    # Go through all sub bags for this bag type recursivly\n",
    "    bag_count = 0\n",
    "    \n",
    "    for b in bag:\n",
    "        \n",
    "        nr_of_sub_bag = int(b[0])\n",
    "        \n",
    "        nr_of_bags_in_sub_bag = int(nr_of_bags_in(b[1], depth + 1))\n",
    "        \n",
    "        bag_count += nr_of_sub_bag +  (nr_of_sub_bag * nr_of_bags_in_sub_bag)\n",
    "        \n",
    "        print(f\"{depth_color}\"+str(\"  \"*depth)+ str(bag_type), end=\" = \")\n",
    "        print(f\"{depth_color}\"+str(nr_of_sub_bag) + \" + \" +\"(\" + str(nr_of_sub_bag) + \" * \" + str(nr_of_bags_in_sub_bag) + \")\", end=\" = \")\n",
    "        print(f\"{depth_color}\"+str(bag_count))\n",
    "\n",
    "    # Finally return wether or not there's gold to be found in this bag\n",
    "    return bag_count\n",
    "\n",
    "# Look in all bags\n",
    "bags_containing_gold = 0\n",
    "\n",
    "bag_type = \"shiny gold\"\n",
    "\n",
    "total_nr_of_bags = nr_of_bags_in(bag_type, 0)\n",
    "\n",
    "print(\"\\nTotal number of bags in \"+bag_type+\" = \" + str(total_nr_of_bags))"
   ]
  },
  {
   "cell_type": "code",
   "execution_count": null,
   "metadata": {},
   "outputs": [],
   "source": []
  }
 ],
 "metadata": {
  "kernelspec": {
   "display_name": "Python 3",
   "language": "python",
   "name": "python3"
  },
  "language_info": {
   "codemirror_mode": {
    "name": "ipython",
    "version": 3
   },
   "file_extension": ".py",
   "mimetype": "text/x-python",
   "name": "python",
   "nbconvert_exporter": "python",
   "pygments_lexer": "ipython3",
   "version": "3.8.3"
  },
  "toc": {
   "base_numbering": 1,
   "nav_menu": {},
   "number_sections": true,
   "sideBar": true,
   "skip_h1_title": false,
   "title_cell": "Table of Contents",
   "title_sidebar": "Contents",
   "toc_cell": false,
   "toc_position": {},
   "toc_section_display": true,
   "toc_window_display": false
  }
 },
 "nbformat": 4,
 "nbformat_minor": 4
}
