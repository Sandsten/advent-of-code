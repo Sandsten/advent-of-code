{
 "cells": [
  {
   "cell_type": "markdown",
   "metadata": {},
   "source": [
    "## Day 6: Custom Customs"
   ]
  },
  {
   "cell_type": "markdown",
   "metadata": {},
   "source": [
    "## Part 1  \n",
    "Count the number of questions any one answered yes to in each group. Then add the total sum"
   ]
  },
  {
   "cell_type": "code",
   "execution_count": 62,
   "metadata": {},
   "outputs": [
    {
     "data": {
      "text/plain": [
       "6911"
      ]
     },
     "execution_count": 62,
     "metadata": {},
     "output_type": "execute_result"
    }
   ],
   "source": [
    "group_answers = open(\"input-day-6.txt\", \"r\")\n",
    "group_answers = group_answers.read().split(\"\\n\\n\")\n",
    "group_answers = [x.split(\"\\n\") for x in group_answers]\n",
    "\n",
    "yes_answers_per_group = []\n",
    "for group in group_answers:\n",
    "    \n",
    "    # Create a list of each persons answer where each element is a single answer\n",
    "    group = [list(x) for x in group]\n",
    "    \n",
    "    # Find the union of all yes answers in this group\n",
    "    group_yes_answers = set().union(*group)\n",
    "    #group_yes_answers = set(group[0]).intersection(*group)\n",
    "\n",
    "    yes_answers_per_group.append(group_yes_answers)\n",
    "    \n",
    "    #print(group)\n",
    "    #print(yes_answers_per_group)\n",
    "    \n",
    "# Find the number of yes answers in each group and calculate the total sum\n",
    "\n",
    "\n",
    "lengths = [len(x) for x in yes_answers_per_group]\n",
    "sum(lengths)"
   ]
  },
  {
   "cell_type": "code",
   "execution_count": 56,
   "metadata": {},
   "outputs": [
    {
     "data": {
      "text/plain": [
       "{'q', 'x'}"
      ]
     },
     "execution_count": 56,
     "metadata": {},
     "output_type": "execute_result"
    }
   ],
   "source": [
    "a = [['h', 'x', 'c', 'q'], ['x', 'q']]\n",
    "\n",
    "set(a[0]).intersection(*a)"
   ]
  },
  {
   "cell_type": "code",
   "execution_count": null,
   "metadata": {},
   "outputs": [],
   "source": [
    "\n"
   ]
  }
 ],
 "metadata": {
  "kernelspec": {
   "display_name": "Python 3",
   "language": "python",
   "name": "python3"
  },
  "language_info": {
   "codemirror_mode": {
    "name": "ipython",
    "version": 3
   },
   "file_extension": ".py",
   "mimetype": "text/x-python",
   "name": "python",
   "nbconvert_exporter": "python",
   "pygments_lexer": "ipython3",
   "version": "3.8.3"
  },
  "toc": {
   "base_numbering": 1,
   "nav_menu": {},
   "number_sections": true,
   "sideBar": true,
   "skip_h1_title": false,
   "title_cell": "Table of Contents",
   "title_sidebar": "Contents",
   "toc_cell": false,
   "toc_position": {},
   "toc_section_display": true,
   "toc_window_display": false
  }
 },
 "nbformat": 4,
 "nbformat_minor": 4
}
