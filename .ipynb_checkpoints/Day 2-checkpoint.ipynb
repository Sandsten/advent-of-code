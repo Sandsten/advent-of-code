{
 "cells": [
  {
   "cell_type": "code",
   "execution_count": 14,
   "metadata": {},
   "outputs": [],
   "source": [
    "import re"
   ]
  },
  {
   "cell_type": "code",
   "execution_count": 26,
   "metadata": {},
   "outputs": [
    {
     "name": "stdout",
     "output_type": "stream",
     "text": [
      "['13', '14']\n",
      "['f']\n",
      "11\n",
      "13-14 f\n",
      "ffffffffnfffvv\n",
      "----------\n"
     ]
    }
   ],
   "source": [
    "inputs = open(\"input-task-2.txt\", \"r\")\n",
    "inputs = inputs.read().split(\"\\n\")[0:-1] # Array with inputs\n",
    "\n",
    "for line in inputs:\n",
    "    rule, passw = line.split(\": \")\n",
    "    # Regular expression for finding first number, second number and letter\n",
    "    occur = re.findall(\"\\d*\", rule)\n",
    "    letter = re.findall(\"[a-zA-Z]\", rule)\n",
    "    \n",
    "    # First value is min. Second value is max\n",
    "    # Remove the empty values from the list\n",
    "    occur = [x for x in occur if x != \"\"]\n",
    "\n",
    "    print(occur)\n",
    "    print(letter)\n",
    "    \n",
    "    x = passw.count(letter[0])\n",
    "    \n",
    "    if x >= occur[0] and x < occur[1]:\n",
    "        print(\"Password is accepted by our rules\")\n",
    "    \n",
    "    print(x)\n",
    "    \n",
    "    \n",
    "    print(rule)\n",
    "    print(passw)\n",
    "    print(\"-\"*10)\n",
    "    break;\n",
    "    \n"
   ]
  },
  {
   "cell_type": "code",
   "execution_count": null,
   "metadata": {},
   "outputs": [],
   "source": []
  }
 ],
 "metadata": {
  "kernelspec": {
   "display_name": "Python 3",
   "language": "python",
   "name": "python3"
  },
  "language_info": {
   "codemirror_mode": {
    "name": "ipython",
    "version": 3
   },
   "file_extension": ".py",
   "mimetype": "text/x-python",
   "name": "python",
   "nbconvert_exporter": "python",
   "pygments_lexer": "ipython3",
   "version": "3.8.3"
  },
  "toc": {
   "base_numbering": 1,
   "nav_menu": {},
   "number_sections": true,
   "sideBar": true,
   "skip_h1_title": false,
   "title_cell": "Table of Contents",
   "title_sidebar": "Contents",
   "toc_cell": false,
   "toc_position": {},
   "toc_section_display": true,
   "toc_window_display": false
  }
 },
 "nbformat": 4,
 "nbformat_minor": 4
}
