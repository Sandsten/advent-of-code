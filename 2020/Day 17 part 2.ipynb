{
 "cells": [
  {
   "cell_type": "markdown",
   "metadata": {},
   "source": [
    "# Day 17: Conway Cubes"
   ]
  },
  {
   "cell_type": "code",
   "execution_count": 2,
   "metadata": {
    "ExecuteTime": {
     "end_time": "2021-01-06T15:02:30.356905Z",
     "start_time": "2021-01-06T15:02:30.019902Z"
    }
   },
   "outputs": [
    {
     "data": {
      "text/plain": [
       "array([['#', '.', '.', '.', '.', '.', '.', '.'],\n",
       "       ['.', '#', '.', '.', '#', '.', '.', '#'],\n",
       "       ['.', '.', '.', '.', '#', '.', '#', '.'],\n",
       "       ['.', '#', '#', '.', '.', '#', '.', '#'],\n",
       "       ['#', '#', '#', '#', '#', '#', '#', '.'],\n",
       "       ['#', '.', '.', '.', '#', '#', '#', '#'],\n",
       "       ['#', '#', '#', '.', '#', '#', '.', '.'],\n",
       "       ['.', '#', '#', '.', '#', '.', '#', '.']], dtype='<U1')"
      ]
     },
     "execution_count": 2,
     "metadata": {},
     "output_type": "execute_result"
    }
   ],
   "source": [
    "import numpy as np\n",
    "import matplotlib.pyplot as plt\n",
    "initial_state = open(\"input/input-day-17.txt\", \"r\").read().split(\"\\n\")[:-1]\n",
    "initial_state = [list(x) for x in initial_state]\n",
    "initial_state = np.array(initial_state)\n",
    "\n",
    "\n",
    "#initial_state = np.array([[\".\",\"#\",\".\"],[\".\",\".\",\"#\"],[\"#\",\"#\",\"#\"]])\n",
    "initial_state"
   ]
  },
  {
   "cell_type": "markdown",
   "metadata": {},
   "source": [
    "**Rules of the game**  \n",
    "\n",
    "If a cube is ```active``` and ```exactly 2 or 3``` of its neighbors are ```also active```, the cube ```remains active```. Otherwise, the cube becomes inactive.  \n",
    "\n",
    "If a cube is ```inactive``` but ```exactly 3``` of its neighbors are ```active```, the cube ```becomes active```. Otherwise, the cube remains inactive.\n"
   ]
  },
  {
   "cell_type": "markdown",
   "metadata": {},
   "source": [
    "**Thoughts**  \n",
    "Which inactive cubes can we ignore? There can be no inactive cubes which are two steps further out than the furthest active cube, to keep it simple.  \n",
    "\n",
    "Lets see it as an ever size changing uniform search cube, which size (relative to origin) is always two more than the largest coordinate of any active cube. Only check active and inactive cubes within this region. There are many more ways of optimizing this but lets start with this simple one."
   ]
  },
  {
   "cell_type": "code",
   "execution_count": 3,
   "metadata": {
    "ExecuteTime": {
     "end_time": "2021-01-06T15:02:31.058904Z",
     "start_time": "2021-01-06T15:02:31.051905Z"
    }
   },
   "outputs": [
    {
     "data": {
      "text/plain": [
       "(8, 8)"
      ]
     },
     "execution_count": 3,
     "metadata": {},
     "output_type": "execute_result"
    }
   ],
   "source": [
    "initial_state.shape"
   ]
  },
  {
   "cell_type": "code",
   "execution_count": 6,
   "metadata": {
    "ExecuteTime": {
     "end_time": "2021-01-06T15:02:54.290458Z",
     "start_time": "2021-01-06T15:02:54.275461Z"
    }
   },
   "outputs": [
    {
     "name": "stdout",
     "output_type": "stream",
     "text": [
      "Number of neighbours:  80\n"
     ]
    }
   ],
   "source": [
    "import itertools\n",
    "\n",
    "# Generate every relative position to each neighbor. Should be 80st in 4 dimensions \n",
    "combinations = list(itertools.product(\"-01\", repeat=4))\n",
    "\n",
    "# transform each item to a list and replace \"-\" with -1\n",
    "for i, comb in enumerate(combinations):\n",
    "    comb = list(comb)\n",
    "    comb = [-1 if x == \"-\" else int(x) for x in comb]\n",
    "    combinations[i] = comb\n",
    "\n",
    "# Remove the coordinate which is our own position, hence not a neighbor\n",
    "neighbor_vectors = [x for x in combinations if x != [0,0,0,0]]\n",
    "neighbor_vectors = np.array(neighbor_vectors)\n",
    "\n",
    "print(\"Number of neighbours: \", len(neighbor_vectors))"
   ]
  },
  {
   "cell_type": "markdown",
   "metadata": {},
   "source": [
    "**How do we know how much space to allocate in our pocket universe?**  \n",
    "\n",
    "To start with we have the ```initial_state``` which is a plane in our 3D universe. During each round we have to be able to look one step further out in all dimensions in order to look at the neighbors "
   ]
  },
  {
   "cell_type": "code",
   "execution_count": 10,
   "metadata": {
    "ExecuteTime": {
     "end_time": "2021-01-06T15:04:35.581123Z",
     "start_time": "2021-01-06T15:04:35.579122Z"
    }
   },
   "outputs": [],
   "source": [
    "pocket_universe_base = {}"
   ]
  },
  {
   "cell_type": "code",
   "execution_count": 15,
   "metadata": {
    "ExecuteTime": {
     "end_time": "2021-01-06T15:10:30.642997Z",
     "start_time": "2021-01-06T15:10:23.849997Z"
    }
   },
   "outputs": [],
   "source": [
    "# Lest just use a key map for our 3d matrix, only one index can exist at a time anyways\n",
    "def posToKey(pos):\n",
    "    i = pos[0]\n",
    "    j = pos[1]\n",
    "    k = pos[2]\n",
    "    l = pos[3]\n",
    "    return str(i)+\",\"+str(j)+\",\"+str(k)+\",\"+str(l)\n",
    "\n",
    "initial_universe_size = [-15, 15]\n",
    "for i in range(*initial_universe_size):\n",
    "    for j in range(*initial_universe_size):\n",
    "        for k in range(*initial_universe_size):\n",
    "            for l in range(*initial_universe_size):\n",
    "                pocket_universe_base[posToKey([i,j,k,l])] = \".\"\n",
    "\n",
    "# Fill one layer of our 4D matrix with the initial state\n",
    "for i,x in enumerate(initial_state):\n",
    "    for j,y in enumerate(x):\n",
    "        pocket_universe_base[posToKey([i,j,0,0])] = y"
   ]
  },
  {
   "cell_type": "code",
   "execution_count": 16,
   "metadata": {
    "ExecuteTime": {
     "end_time": "2021-01-06T15:23:38.160766Z",
     "start_time": "2021-01-06T15:10:35.659035Z"
    }
   },
   "outputs": [
    {
     "name": "stdout",
     "output_type": "stream",
     "text": [
      "Cycle: 1\n",
      "Search range x: [-1, 9]\n",
      "Search range y: [-1, 9]\n",
      "Search range z: [-1, 2]\n",
      "Search range w: [-1, 2]\n",
      "Nr of active cubes: 122\n",
      "\n",
      "Cycle: 2\n",
      "Search range x: [-2, 10]\n",
      "Search range y: [-2, 10]\n",
      "Search range z: [-2, 3]\n",
      "Search range w: [-2, 3]\n",
      "Nr of active cubes: 193\n",
      "\n",
      "Cycle: 3\n",
      "Search range x: [-3, 11]\n",
      "Search range y: [-3, 11]\n",
      "Search range z: [-3, 4]\n",
      "Search range w: [-3, 4]\n",
      "Nr of active cubes: 688\n",
      "\n",
      "Cycle: 4\n",
      "Search range x: [-4, 12]\n",
      "Search range y: [-4, 12]\n",
      "Search range z: [-4, 5]\n",
      "Search range w: [-4, 5]\n",
      "Nr of active cubes: 572\n",
      "\n",
      "Cycle: 5\n",
      "Search range x: [-5, 13]\n",
      "Search range y: [-5, 13]\n",
      "Search range z: [-5, 6]\n",
      "Search range w: [-5, 6]\n",
      "Nr of active cubes: 1992\n",
      "\n",
      "Cycle: 6\n",
      "Search range x: [-6, 14]\n",
      "Search range y: [-6, 14]\n",
      "Search range z: [-6, 7]\n",
      "Search range w: [-6, 7]\n",
      "Nr of active cubes: 1908\n",
      "\n"
     ]
    }
   ],
   "source": [
    "search_range_x = [0, initial_state.shape[0]]\n",
    "search_range_y = [0, initial_state.shape[1]]\n",
    "search_range_z = [0, 1]\n",
    "search_range_w = [0, 1]\n",
    "\n",
    "pocket_universe = pocket_universe_base.copy()\n",
    "\n",
    "number_of_cycles = 6\n",
    "\n",
    "for cycle in range(number_of_cycles):\n",
    "    print(\"Cycle:\", cycle+1)\n",
    "    # Increase the search range by one in both directions for each new cycle.\n",
    "    # TODO: Find better way of optimizing this\n",
    "    search_range_x[0] -= 1\n",
    "    search_range_y[0] -= 1\n",
    "    search_range_z[0] -= 1\n",
    "    search_range_w[0] -= 1\n",
    "    search_range_x[1] += 1\n",
    "    search_range_y[1] += 1\n",
    "    search_range_z[1] += 1\n",
    "    search_range_w[1] += 1\n",
    "    \n",
    "    next_pocket_universe_state = pocket_universe.copy()\n",
    "    \n",
    "    print(\"Search range x:\", search_range_x)\n",
    "    print(\"Search range y:\", search_range_y)\n",
    "    print(\"Search range z:\", search_range_z)\n",
    "    print(\"Search range w:\", search_range_w)\n",
    "    \n",
    "    # Go through all cubes in our defined search ranges\n",
    "    for x in range(*search_range_x):\n",
    "        for y in range(*search_range_y):\n",
    "            for z in range(*search_range_z):\n",
    "                for w in range(*search_range_w):\n",
    "                    cube_pos = np.array([x,y,z,w])\n",
    "                    cube_pos_key = posToKey(cube_pos)\n",
    "                    cube_state = pocket_universe[cube_pos_key]\n",
    "\n",
    "                    nr_active_neighbor_cubes = 0\n",
    "                    # Check cube neighbors\n",
    "                    for neighbor_vec in neighbor_vectors:\n",
    "                        neighbor_pos = cube_pos + neighbor_vec\n",
    "                        neighbor_pos_key = posToKey(neighbor_pos)\n",
    "\n",
    "                        neighbor_cube_state = pocket_universe[neighbor_pos_key]\n",
    "                        if(neighbor_cube_state == \"#\"):\n",
    "                            nr_active_neighbor_cubes += 1\n",
    "\n",
    "                    if cube_state == \"#\":\n",
    "                        if nr_active_neighbor_cubes == 2 or nr_active_neighbor_cubes == 3:\n",
    "                            next_pocket_universe_state[cube_pos_key] = \"#\"\n",
    "                        else:\n",
    "                            next_pocket_universe_state[cube_pos_key] = \".\"\n",
    "\n",
    "                    elif cube_state == \".\":\n",
    "                        if nr_active_neighbor_cubes == 3:\n",
    "                            next_pocket_universe_state[cube_pos_key] = \"#\"\n",
    "                        else:\n",
    "                            next_pocket_universe_state[cube_pos_key] = \".\"\n",
    "    \n",
    "    # Assign the current pocket_universe to the new one\n",
    "    pocket_universe = next_pocket_universe_state.copy()\n",
    "    \n",
    "    # Count nr of active cubes in pocket universe\n",
    "    nr_active_cubes = 0\n",
    "    for x in range(*search_range_x):\n",
    "        for y in range(*search_range_y):\n",
    "            for z in range(*search_range_z):\n",
    "                for w in range(*search_range_w):\n",
    "                    cube_pos = np.array([x,y,z,w])\n",
    "                    cube_pos_key = posToKey(cube_pos)\n",
    "                    cube_state = pocket_universe[cube_pos_key]\n",
    "                    if cube_state == \"#\":\n",
    "                        nr_active_cubes += 1\n",
    "    \n",
    "    print(\"Nr of active cubes:\", nr_active_cubes)\n",
    "    print(\"\")"
   ]
  },
  {
   "cell_type": "code",
   "execution_count": null,
   "metadata": {},
   "outputs": [],
   "source": []
  }
 ],
 "metadata": {
  "kernelspec": {
   "display_name": "Python 3",
   "language": "python",
   "name": "python3"
  },
  "language_info": {
   "codemirror_mode": {
    "name": "ipython",
    "version": 3
   },
   "file_extension": ".py",
   "mimetype": "text/x-python",
   "name": "python",
   "nbconvert_exporter": "python",
   "pygments_lexer": "ipython3",
   "version": "3.8.3"
  },
  "toc": {
   "base_numbering": 1,
   "nav_menu": {},
   "number_sections": true,
   "sideBar": true,
   "skip_h1_title": false,
   "title_cell": "Table of Contents",
   "title_sidebar": "Contents",
   "toc_cell": false,
   "toc_position": {},
   "toc_section_display": true,
   "toc_window_display": false
  }
 },
 "nbformat": 4,
 "nbformat_minor": 4
}
