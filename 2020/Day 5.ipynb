{
 "cells": [
  {
   "cell_type": "markdown",
   "metadata": {},
   "source": [
    "# Day 5: Binary Boarding"
   ]
  },
  {
   "cell_type": "markdown",
   "metadata": {},
   "source": [
    "## Part 1\n",
    "\n",
    "Binary search:  \n",
    "\n",
    "The first 7 characters  \n",
    "* B - Lower half\n",
    "* F - Upper half\n",
    "out of 128\n",
    "\n",
    "The last 3 characters  \n",
    "* R - Upper half\n",
    "* L - Lower half  \n",
    "out of 8\n"
   ]
  },
  {
   "cell_type": "code",
   "execution_count": 17,
   "metadata": {},
   "outputs": [],
   "source": [
    "boarading_passes = open(\"input/input-day-5.txt\", \"r\")\n",
    "boarding_passes = boarading_passes.read().split(\"\\n\")[0:-1]"
   ]
  },
  {
   "cell_type": "code",
   "execution_count": 43,
   "metadata": {},
   "outputs": [
    {
     "name": "stdout",
     "output_type": "stream",
     "text": [
      "Highest ID: 855\n"
     ]
    }
   ],
   "source": [
    "highest_id = 0\n",
    "\n",
    "for b_pass in boarding_passes:\n",
    "    row = [x for x in range(128)]\n",
    "    for char in b_pass[0:7]:\n",
    "        if char == \"F\":\n",
    "            row = row[:int(len(row)/2)]\n",
    "        \n",
    "        if char == \"B\":\n",
    "            row = row[int(len(row)/2):]\n",
    "    \n",
    "    col = [x for x in range(8)]\n",
    "    for char in b_pass[7:10]:\n",
    "        if char == \"L\":\n",
    "            col = col[:int(len(col)/2)]\n",
    "        \n",
    "        if char == \"R\":\n",
    "            col = col[int(len(col)/2):]\n",
    "    \n",
    "    pass_id = (row[0] * 8) + col[0]\n",
    "    \n",
    "    if pass_id > highest_id:\n",
    "        highest_id = pass_id\n",
    "    \n",
    "print(\"Highest ID: \" + str(highest_id))"
   ]
  },
  {
   "cell_type": "markdown",
   "metadata": {},
   "source": [
    "## Part 2\n",
    "Our seat is the only one not taken and it should be between the lowest and the highest id in the list.  \n",
    "Store all taken seat ids and go through them one by one. Expect the next one to be incremented by one, if not, there's a free seat for us\n"
   ]
  },
  {
   "cell_type": "code",
   "execution_count": 58,
   "metadata": {},
   "outputs": [
    {
     "name": "stdout",
     "output_type": "stream",
     "text": [
      "Seat not taken: \n",
      "552\n"
     ]
    }
   ],
   "source": [
    "all_ids = []\n",
    "\n",
    "for b_pass in boarding_passes:\n",
    "    row = [x for x in range(128)]\n",
    "    for char in b_pass[0:7]:\n",
    "        if char == \"F\":\n",
    "            row = row[:int(len(row)/2)]\n",
    "        \n",
    "        if char == \"B\":\n",
    "            row = row[int(len(row)/2):]\n",
    "    \n",
    "    col = [x for x in range(8)]\n",
    "    for char in b_pass[7:10]:\n",
    "        if char == \"L\":\n",
    "            col = col[:int(len(col)/2)]\n",
    "        \n",
    "        if char == \"R\":\n",
    "            col = col[int(len(col)/2):]\n",
    "    \n",
    "    pass_id = (row[0] * 8) + col[0]\n",
    "    all_ids.append(pass_id)\n",
    "    \n",
    "all_ids.sort()\n",
    "\n",
    "expected_next = all_ids[0]\n",
    "for id in all_ids:\n",
    "    if id != expected_next:\n",
    "        print(\"Seat not taken: \")\n",
    "        print(expected_next)\n",
    "    \n",
    "    expected_next = id + 1\n"
   ]
  }
 ],
 "metadata": {
  "kernelspec": {
   "display_name": "Python 3",
   "language": "python",
   "name": "python3"
  },
  "language_info": {
   "codemirror_mode": {
    "name": "ipython",
    "version": 3
   },
   "file_extension": ".py",
   "mimetype": "text/x-python",
   "name": "python",
   "nbconvert_exporter": "python",
   "pygments_lexer": "ipython3",
   "version": "3.8.3"
  },
  "toc": {
   "base_numbering": 1,
   "nav_menu": {},
   "number_sections": true,
   "sideBar": true,
   "skip_h1_title": false,
   "title_cell": "Table of Contents",
   "title_sidebar": "Contents",
   "toc_cell": false,
   "toc_position": {},
   "toc_section_display": true,
   "toc_window_display": false
  }
 },
 "nbformat": 4,
 "nbformat_minor": 4
}
