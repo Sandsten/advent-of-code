{
 "cells": [
  {
   "cell_type": "markdown",
   "metadata": {},
   "source": [
    "# Day 13: Shuttle Search"
   ]
  },
  {
   "cell_type": "code",
   "execution_count": 29,
   "metadata": {
    "ExecuteTime": {
     "end_time": "2020-12-31T13:40:12.670654Z",
     "start_time": "2020-12-31T13:40:12.654670Z"
    }
   },
   "outputs": [
    {
     "data": {
      "text/plain": [
       "['1008713',\n",
       " '13,x,x,41,x,x,x,x,x,x,x,x,x,467,x,x,x,x,x,x,x,x,x,x,x,19,x,x,x,x,17,x,x,x,x,x,x,x,x,x,x,x,29,x,353,x,x,x,x,x,37,x,x,x,x,x,x,x,x,x,x,x,x,x,x,x,x,23']"
      ]
     },
     "execution_count": 29,
     "metadata": {},
     "output_type": "execute_result"
    }
   ],
   "source": [
    "notes = open(\"input/input-day-13.txt\", \"r\").read().split(\"\\n\")[:-1]\n",
    "notes"
   ]
  },
  {
   "cell_type": "markdown",
   "metadata": {},
   "source": [
    "First element is the earliest timestamp I can depart at from a bus  \n",
    "The second row is the buses in service. \"x\" means that particular bus is out of service"
   ]
  },
  {
   "cell_type": "code",
   "execution_count": 2,
   "metadata": {
    "ExecuteTime": {
     "end_time": "2020-12-31T13:26:59.237247Z",
     "start_time": "2020-12-31T13:26:59.222245Z"
    }
   },
   "outputs": [
    {
     "data": {
      "text/plain": [
       "1008713"
      ]
     },
     "execution_count": 2,
     "metadata": {},
     "output_type": "execute_result"
    }
   ],
   "source": [
    "earliest_departure = int(notes[0])\n",
    "earliest_departure"
   ]
  },
  {
   "cell_type": "code",
   "execution_count": 3,
   "metadata": {
    "ExecuteTime": {
     "end_time": "2020-12-31T13:26:59.252244Z",
     "start_time": "2020-12-31T13:26:59.239245Z"
    }
   },
   "outputs": [
    {
     "data": {
      "text/plain": [
       "[13, 41, 467, 19, 17, 29, 353, 37, 23]"
      ]
     },
     "execution_count": 3,
     "metadata": {},
     "output_type": "execute_result"
    }
   ],
   "source": [
    "busses = notes[1].split(\",\")\n",
    "busses_in_service = [int(buss) for buss in busses if buss != \"x\"]\n",
    "busses_in_service"
   ]
  },
  {
   "cell_type": "markdown",
   "metadata": {},
   "source": [
    "## Part 1\n",
    "Find the bus which we can take to minimize the time we have to wait for it"
   ]
  },
  {
   "cell_type": "code",
   "execution_count": 30,
   "metadata": {
    "ExecuteTime": {
     "end_time": "2020-12-31T13:43:51.644951Z",
     "start_time": "2020-12-31T13:43:51.637951Z"
    }
   },
   "outputs": [
    {
     "name": "stdout",
     "output_type": "stream",
     "text": [
      "Buss id 13 Wait time: 9\n",
      "Buss id 41 Wait time: 10\n",
      "Buss id 467 Wait time: 7\n",
      "Buss id 19 Wait time: 16\n",
      "Buss id 17 Wait time: 16\n",
      "Buss id 29 Wait time: 23\n",
      "Buss id 353 Wait time: 161\n",
      "Buss id 37 Wait time: 18\n",
      "Buss id 23 Wait time: 21\n",
      "\n",
      "Earliest buss {'id': 467, 'time': 7}\n",
      "Secret: 3269\n"
     ]
    }
   ],
   "source": [
    "import math\n",
    "\n",
    "earliest_buss = { \"id\":0, \"time\":math.inf }\n",
    "\n",
    "for buss_id in busses_in_service:\n",
    "    # Calculate how many \"minutes\" we missed this bus by\n",
    "    nearest_time = earliest_departure % buss_id \n",
    "    # Calculate how long we have to wait for the buss to arrive back at the port\n",
    "    wait_time = buss_id - nearest_time \n",
    "    \n",
    "    # Save the shortest wait time\n",
    "    if(wait_time < earliest_buss[\"time\"]):\n",
    "        earliest_buss[\"id\"] = buss_id\n",
    "        earliest_buss[\"time\"] = wait_time\n",
    "    \n",
    "    print(\"Buss id\", buss_id, \"Wait time:\", wait_time)\n",
    "    \n",
    "print(\"\\nEarliest buss\", earliest_buss)\n",
    "\n",
    "print(\"Secret:\", earliest_buss[\"id\"] * earliest_buss[\"time\"])"
   ]
  },
  {
   "cell_type": "markdown",
   "metadata": {},
   "source": [
    "## Part 2\n",
    "Find the timestamp where each buss will depart in the given order.  \n",
    "And where the time between buses match the amount of \"x\" between them!"
   ]
  },
  {
   "cell_type": "code",
   "execution_count": 33,
   "metadata": {
    "ExecuteTime": {
     "end_time": "2020-12-31T14:53:41.057523Z",
     "start_time": "2020-12-31T14:53:41.039519Z"
    }
   },
   "outputs": [
    {
     "data": {
      "text/plain": [
       "['13',\n",
       " 'x',\n",
       " 'x',\n",
       " '41',\n",
       " 'x',\n",
       " 'x',\n",
       " 'x',\n",
       " 'x',\n",
       " 'x',\n",
       " 'x',\n",
       " 'x',\n",
       " 'x',\n",
       " 'x',\n",
       " '467',\n",
       " 'x',\n",
       " 'x',\n",
       " 'x',\n",
       " 'x',\n",
       " 'x',\n",
       " 'x',\n",
       " 'x',\n",
       " 'x',\n",
       " 'x',\n",
       " 'x',\n",
       " 'x',\n",
       " '19',\n",
       " 'x',\n",
       " 'x',\n",
       " 'x',\n",
       " 'x',\n",
       " '17',\n",
       " 'x',\n",
       " 'x',\n",
       " 'x',\n",
       " 'x',\n",
       " 'x',\n",
       " 'x',\n",
       " 'x',\n",
       " 'x',\n",
       " 'x',\n",
       " 'x',\n",
       " 'x',\n",
       " '29',\n",
       " 'x',\n",
       " '353',\n",
       " 'x',\n",
       " 'x',\n",
       " 'x',\n",
       " 'x',\n",
       " 'x',\n",
       " '37',\n",
       " 'x',\n",
       " 'x',\n",
       " 'x',\n",
       " 'x',\n",
       " 'x',\n",
       " 'x',\n",
       " 'x',\n",
       " 'x',\n",
       " 'x',\n",
       " 'x',\n",
       " 'x',\n",
       " 'x',\n",
       " 'x',\n",
       " 'x',\n",
       " 'x',\n",
       " 'x',\n",
       " '23']"
      ]
     },
     "execution_count": 33,
     "metadata": {},
     "output_type": "execute_result"
    }
   ],
   "source": [
    "busses_time_table = [buss for buss in busses]\n",
    "busses_time_table"
   ]
  },
  {
   "cell_type": "markdown",
   "metadata": {},
   "source": [
    "dep_time % 13 = 0  \n",
    "dep_time % 41 = 41-3"
   ]
  },
  {
   "cell_type": "code",
   "execution_count": 34,
   "metadata": {
    "ExecuteTime": {
     "end_time": "2020-12-31T15:03:41.278738Z",
     "start_time": "2020-12-31T15:03:41.266740Z"
    }
   },
   "outputs": [
    {
     "data": {
      "text/plain": [
       "38"
      ]
     },
     "execution_count": 34,
     "metadata": {},
     "output_type": "execute_result"
    }
   ],
   "source": [
    "41-3"
   ]
  },
  {
   "cell_type": "code",
   "execution_count": 35,
   "metadata": {
    "ExecuteTime": {
     "end_time": "2020-12-31T15:03:58.448142Z",
     "start_time": "2020-12-31T15:03:58.435142Z"
    }
   },
   "outputs": [
    {
     "data": {
      "text/plain": [
       "3"
      ]
     },
     "execution_count": 35,
     "metadata": {},
     "output_type": "execute_result"
    }
   ],
   "source": [
    "-38 + 41"
   ]
  },
  {
   "cell_type": "code",
   "execution_count": null,
   "metadata": {},
   "outputs": [],
   "source": []
  }
 ],
 "metadata": {
  "kernelspec": {
   "display_name": "Python 3",
   "language": "python",
   "name": "python3"
  },
  "language_info": {
   "codemirror_mode": {
    "name": "ipython",
    "version": 3
   },
   "file_extension": ".py",
   "mimetype": "text/x-python",
   "name": "python",
   "nbconvert_exporter": "python",
   "pygments_lexer": "ipython3",
   "version": "3.8.3"
  },
  "toc": {
   "base_numbering": 1,
   "nav_menu": {},
   "number_sections": true,
   "sideBar": true,
   "skip_h1_title": false,
   "title_cell": "Table of Contents",
   "title_sidebar": "Contents",
   "toc_cell": false,
   "toc_position": {},
   "toc_section_display": true,
   "toc_window_display": false
  }
 },
 "nbformat": 4,
 "nbformat_minor": 4
}
