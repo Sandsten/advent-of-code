{
 "cells": [
  {
   "cell_type": "markdown",
   "metadata": {},
   "source": [
    "# Task 2: Password philosophy"
   ]
  },
  {
   "cell_type": "code",
   "execution_count": 1,
   "metadata": {},
   "outputs": [],
   "source": [
    "import re"
   ]
  },
  {
   "cell_type": "markdown",
   "metadata": {},
   "source": [
    "## Part 1\n",
    "Check how many passwords are okay according to the given rule!"
   ]
  },
  {
   "cell_type": "code",
   "execution_count": 8,
   "metadata": {},
   "outputs": [
    {
     "name": "stdout",
     "output_type": "stream",
     "text": [
      "\n",
      "Accepted number of passwords: 603\n"
     ]
    }
   ],
   "source": [
    "inputs = open(\"input/input-task-2.txt\", \"r\")\n",
    "inputs = inputs.read().split(\"\\n\")[0:-1] # Array with inputs\n",
    "\n",
    "accepted_passwords = 0\n",
    "\n",
    "for line in inputs:\n",
    "    #print(line)\n",
    "    \n",
    "    # Split the line into rule and given password\n",
    "    rule, passw = line.split(\": \")\n",
    "    \n",
    "    # Regular expression for finding first number, second number and letter\n",
    "    occur = re.findall(\"\\d*\", rule)\n",
    "    letter = re.findall(\"[a-zA-Z]\", rule)\n",
    "    \n",
    "    # First value is min. Second value is max\n",
    "    # Remove the empty values from the list\n",
    "    occur = [int(x) for x in occur if x != \"\"]\n",
    "\n",
    "    x = passw.count(letter[0])\n",
    "    \n",
    "    if x >= occur[0] and x <= occur[1]:\n",
    "        accepted_passwords += 1\n",
    "    \n",
    "print(\"\\nAccepted number of passwords: \" + str(accepted_passwords))"
   ]
  },
  {
   "cell_type": "markdown",
   "metadata": {},
   "source": [
    "## Part 2\n",
    "The rules mean something different!  \n",
    "The numbers are positions, and it's not zero-based. They start at 1"
   ]
  },
  {
   "cell_type": "code",
   "execution_count": 7,
   "metadata": {},
   "outputs": [
    {
     "name": "stdout",
     "output_type": "stream",
     "text": [
      "\n",
      "Accepted number of passwords: 404\n"
     ]
    }
   ],
   "source": [
    "inputs = open(\"input-task-2.txt\", \"r\")\n",
    "inputs = inputs.read().split(\"\\n\")[0:-1] # Array with inputs\n",
    "\n",
    "accepted_passwords = 0\n",
    "\n",
    "for line in inputs:\n",
    "    #print(line)\n",
    "    \n",
    "    # Split the line into rule and given password\n",
    "    rule, passw = line.split(\": \")\n",
    "    \n",
    "    # Regular expression for finding first number, second number and letter\n",
    "    positions = re.findall(\"\\d*\", rule)\n",
    "    letter = re.findall(\"[a-zA-Z]\", rule)\n",
    "    \n",
    "    # First value is min. Second value is max\n",
    "    # Remove the empty values from the list\n",
    "    positions = [int(x) for x in positions if x != \"\"]\n",
    "    \n",
    "    match_first = passw[positions[0] - 1] == letter[0]\n",
    "    match_second = passw[positions[1] - 1] == letter[0]\n",
    "\n",
    "    # Check so that only one is true\n",
    "    if (match_first or match_second) and (match_first is not match_second):\n",
    "        accepted_passwords += 1\n",
    "\n",
    "print(\"\\nAccepted number of passwords: \" + str(accepted_passwords))"
   ]
  }
 ],
 "metadata": {
  "kernelspec": {
   "display_name": "Python 3",
   "language": "python",
   "name": "python3"
  },
  "language_info": {
   "codemirror_mode": {
    "name": "ipython",
    "version": 3
   },
   "file_extension": ".py",
   "mimetype": "text/x-python",
   "name": "python",
   "nbconvert_exporter": "python",
   "pygments_lexer": "ipython3",
   "version": "3.8.3"
  },
  "toc": {
   "base_numbering": 1,
   "nav_menu": {},
   "number_sections": true,
   "sideBar": true,
   "skip_h1_title": false,
   "title_cell": "Table of Contents",
   "title_sidebar": "Contents",
   "toc_cell": false,
   "toc_position": {},
   "toc_section_display": true,
   "toc_window_display": false
  }
 },
 "nbformat": 4,
 "nbformat_minor": 4
}
