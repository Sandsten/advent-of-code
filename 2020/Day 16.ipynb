{
 "cells": [
  {
   "cell_type": "markdown",
   "metadata": {},
   "source": [
    "# Day 16: Ticket Translation"
   ]
  },
  {
   "cell_type": "code",
   "execution_count": 1,
   "metadata": {
    "ExecuteTime": {
     "end_time": "2021-01-02T16:18:30.038405Z",
     "start_time": "2021-01-02T16:18:30.032409Z"
    }
   },
   "outputs": [],
   "source": [
    "import re"
   ]
  },
  {
   "cell_type": "code",
   "execution_count": 2,
   "metadata": {
    "ExecuteTime": {
     "end_time": "2021-01-02T16:18:30.054404Z",
     "start_time": "2021-01-02T16:18:30.039410Z"
    }
   },
   "outputs": [],
   "source": [
    "data = open(\"input/input-day-16.txt\", \"r\").read().split(\"\\n\")[:-1]\n",
    "\n",
    "# Hardcoded indices for now\n",
    "rules = data[0:20]\n",
    "my_ticket = data[22]\n",
    "my_ticket = list(map(int, my_ticket.split(\",\")))\n",
    "nearby_tickets = data[25:]"
   ]
  },
  {
   "cell_type": "markdown",
   "metadata": {},
   "source": [
    "## Part 1"
   ]
  },
  {
   "cell_type": "code",
   "execution_count": 3,
   "metadata": {
    "ExecuteTime": {
     "end_time": "2021-01-02T16:18:30.070407Z",
     "start_time": "2021-01-02T16:18:30.055405Z"
    }
   },
   "outputs": [
    {
     "data": {
      "text/plain": [
       "30869"
      ]
     },
     "execution_count": 3,
     "metadata": {},
     "output_type": "execute_result"
    }
   ],
   "source": [
    "def isNumberInRange(number, rule):\n",
    "    if (rule[0] <= number <= rule[1]):\n",
    "        return True\n",
    "    return False\n",
    "\n",
    "def isNumberValid(number, rules):\n",
    "    # The number has to exist in only one of the ranges in order to be valid\n",
    "    for rule in rules:\n",
    "        if isNumberInRange(number, rule):\n",
    "            return True\n",
    "\n",
    "    return False\n",
    "\n",
    "pattern_1 = re.compile(r\"(\\d+\\-\\d+) or (\\d+\\-\\d+)\")\n",
    "ticket_rules = []\n",
    "\n",
    "for rule in rules:\n",
    "    # Find the numbers listed in the rules\n",
    "    result = pattern_1.search(rule)\n",
    "    # Create a list of each rule with the min and max values\n",
    "    rule_1 = list(map(int, result.group(1).split(\"-\")))\n",
    "    rule_2 = list(map(int, result.group(2).split(\"-\")))\n",
    "    # Save all rules in a single list\n",
    "    ticket_rules.extend([rule_1,rule_2])\n",
    "\n",
    "\n",
    "# Find invalid numbers (and valid tickets which we need for part 2)\n",
    "invalid_numbers = []\n",
    "valid_tickets = []\n",
    "for i, ticket in enumerate(nearby_tickets):\n",
    "    ticket_numbers = list(map(int,ticket.split(\",\")))\n",
    "    \n",
    "    # Go through each number in the ticket and save it if it's invalid\n",
    "    is_ticket_valid = True\n",
    "    for ticket_number in ticket_numbers:\n",
    "        if not isNumberValid(ticket_number, ticket_rules):\n",
    "            invalid_numbers.append(ticket_number)\n",
    "            is_ticket_valid = False\n",
    "    if is_ticket_valid:\n",
    "        valid_tickets.append(ticket_numbers)\n",
    "    \n",
    "# Find the secret value for our answer.\n",
    "# It's the sum of all the invalid numbers found\n",
    "sum(invalid_numbers)"
   ]
  },
  {
   "cell_type": "markdown",
   "metadata": {},
   "source": [
    "## Part 2\n",
    "Use the remaining valid tickets to determine which field is which."
   ]
  },
  {
   "cell_type": "code",
   "execution_count": 17,
   "metadata": {
    "ExecuteTime": {
     "end_time": "2021-01-02T16:32:13.077738Z",
     "start_time": "2021-01-02T16:32:13.037744Z"
    },
    "scrolled": false
   },
   "outputs": [],
   "source": [
    "import math\n",
    "\n",
    "pattern_2 = re.compile(r\"^(.*):\")\n",
    "rule_names = []\n",
    "for rule in rules:\n",
    "    result = pattern_2.search(rule)\n",
    "    rule_names.append(result.group(1))\n",
    "\n",
    "possible_rules_for_number_at_index = {}\n",
    "for i in range(len(valid_tickets[0])):\n",
    "    possible_rules_for_number_at_index[i] = []\n",
    "    # Go through each rule name for the i:th number in each ticket untill all numbers are valid.\n",
    "    # If that's the case it means that the rule works for the i:th number\n",
    "    rule_found_for_number = True\n",
    "    for j, rule_name in enumerate(rule_names):        \n",
    "        \n",
    "        jth_rule_match_ith_number = True\n",
    "        \n",
    "        # Check the rule against all valid tickets\n",
    "        for k, valid_ticket in enumerate(valid_tickets):\n",
    "            k_ticket_ith_number = valid_ticket[i]\n",
    "            \n",
    "            # If the i:th number for this ticket is not in the range for this rule, move on to the next rule.\n",
    "            if (not isNumberInRange(k_ticket_ith_number, ticket_rules[j*2]) and\n",
    "                not isNumberInRange(k_ticket_ith_number, ticket_rules[(j*2) + 1])):\n",
    "                    jth_rule_match_ith_number = False\n",
    "                    break\n",
    "        \n",
    "        # If the rule works for the i:th number on all valid tickets. It means that the rule can be applied here.\n",
    "        if jth_rule_match_ith_number:\n",
    "            possible_rules_for_number_at_index[i].append(rule_name)\n",
    "        "
   ]
  },
  {
   "cell_type": "markdown",
   "metadata": {},
   "source": [
    "The problem is that numbers at position ```i``` could have many valid rules, but each rule can only be used once. Hence we have to find the only possible match between rules and numbers"
   ]
  },
  {
   "cell_type": "code",
   "execution_count": 16,
   "metadata": {
    "ExecuteTime": {
     "end_time": "2021-01-02T16:23:10.427358Z",
     "start_time": "2021-01-02T16:23:10.419358Z"
    }
   },
   "outputs": [
    {
     "data": {
      "text/plain": [
       "[[16, 'type'],\n",
       " [7, 'type', 'zone'],\n",
       " [5, 'class', 'type', 'zone'],\n",
       " [2, 'arrival station', 'class', 'type', 'zone'],\n",
       " [15, 'arrival station', 'class', 'row', 'type', 'zone']]"
      ]
     },
     "execution_count": 16,
     "metadata": {},
     "output_type": "execute_result"
    }
   ],
   "source": [
    "possible_rules_with_number_index = []\n",
    "# The first element in each list is for which number position i the rules are valid\n",
    "for key in possible_rules_for_number_at_index.keys():\n",
    "    possible_rules_with_number_index.append([key,*possible_rules_for_number_at_index[key]])\n",
    "\n",
    "possible_rules_with_number_index.sort(key=lambda x: len(x))\n",
    "possible_rules_with_number_index[:5]"
   ]
  },
  {
   "cell_type": "markdown",
   "metadata": {},
   "source": [
    "Here we can see from the first 5 entries when sorted after the number of accepted rules, that they increase by one and that all rules in previous items also exist in the latter ones. Hence we can find the only possible solution through deductive reasoning. Where we go through them in order from smallest to largest and delete duplicates found in the lists where the number of rules isn't equal to one."
   ]
  },
  {
   "cell_type": "code",
   "execution_count": 9,
   "metadata": {
    "ExecuteTime": {
     "end_time": "2021-01-02T16:20:23.568446Z",
     "start_time": "2021-01-02T16:20:23.559449Z"
    }
   },
   "outputs": [
    {
     "data": {
      "text/plain": [
       "[[0, 'departure date'],\n",
       " [1, 'arrival track'],\n",
       " [2, 'arrival station'],\n",
       " [3, 'arrival location'],\n",
       " [4, 'duration'],\n",
       " [5, 'class'],\n",
       " [6, 'route'],\n",
       " [7, 'zone'],\n",
       " [8, 'departure station'],\n",
       " [9, 'arrival platform'],\n",
       " [10, 'departure platform'],\n",
       " [11, 'departure track'],\n",
       " [12, 'seat'],\n",
       " [13, 'wagon'],\n",
       " [14, 'price'],\n",
       " [15, 'row'],\n",
       " [16, 'type'],\n",
       " [17, 'departure location'],\n",
       " [18, 'train'],\n",
       " [19, 'departure time']]"
      ]
     },
     "execution_count": 9,
     "metadata": {},
     "output_type": "execute_result"
    }
   ],
   "source": [
    "for i, rule in enumerate(possible_rules_with_number_index):\n",
    "    for j in range(i+1, len(possible_rules_with_number_index)):\n",
    "        possible_rules_with_number_index[j] = [x for x in possible_rules_with_number_index[j] if x != rule[1]]\n",
    "\n",
    "real_rules = possible_rules_with_number_index.copy()\n",
    "real_rules.sort(key=lambda x: x[0])\n",
    "real_rules"
   ]
  },
  {
   "cell_type": "markdown",
   "metadata": {},
   "source": [
    "Now look for the rules which start with ```departure```, get those numbers from your ticket. Multiply them and you have your answer!"
   ]
  },
  {
   "cell_type": "code",
   "execution_count": 10,
   "metadata": {
    "ExecuteTime": {
     "end_time": "2021-01-02T16:20:29.344997Z",
     "start_time": "2021-01-02T16:20:29.326000Z"
    }
   },
   "outputs": [
    {
     "data": {
      "text/plain": [
       "[[0, 'departure date'],\n",
       " [8, 'departure station'],\n",
       " [10, 'departure platform'],\n",
       " [11, 'departure track'],\n",
       " [17, 'departure location'],\n",
       " [19, 'departure time']]"
      ]
     },
     "execution_count": 10,
     "metadata": {},
     "output_type": "execute_result"
    }
   ],
   "source": [
    "rules_starting_with_departure = [x for x in real_rules if x[1].split(\" \")[0] == \"departure\"]\n",
    "rules_starting_with_departure"
   ]
  },
  {
   "cell_type": "code",
   "execution_count": 11,
   "metadata": {
    "ExecuteTime": {
     "end_time": "2021-01-02T16:20:29.644989Z",
     "start_time": "2021-01-02T16:20:29.629990Z"
    }
   },
   "outputs": [
    {
     "data": {
      "text/plain": [
       "4381476149273"
      ]
     },
     "execution_count": 11,
     "metadata": {},
     "output_type": "execute_result"
    }
   ],
   "source": [
    "answer = 1\n",
    "for rule in rules_starting_with_departure:\n",
    "    answer *= my_ticket[rule[0]]\n",
    "    \n",
    "answer"
   ]
  },
  {
   "cell_type": "code",
   "execution_count": null,
   "metadata": {},
   "outputs": [],
   "source": []
  }
 ],
 "metadata": {
  "kernelspec": {
   "display_name": "Python 3",
   "language": "python",
   "name": "python3"
  },
  "language_info": {
   "codemirror_mode": {
    "name": "ipython",
    "version": 3
   },
   "file_extension": ".py",
   "mimetype": "text/x-python",
   "name": "python",
   "nbconvert_exporter": "python",
   "pygments_lexer": "ipython3",
   "version": "3.8.3"
  },
  "toc": {
   "base_numbering": 1,
   "nav_menu": {},
   "number_sections": true,
   "sideBar": true,
   "skip_h1_title": false,
   "title_cell": "Table of Contents",
   "title_sidebar": "Contents",
   "toc_cell": false,
   "toc_position": {},
   "toc_section_display": true,
   "toc_window_display": false
  }
 },
 "nbformat": 4,
 "nbformat_minor": 4
}
