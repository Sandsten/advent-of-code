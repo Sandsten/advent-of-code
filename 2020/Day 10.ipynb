{
 "cells": [
  {
   "cell_type": "markdown",
   "metadata": {},
   "source": [
    "# Day 10: Adapter array"
   ]
  },
  {
   "cell_type": "code",
   "execution_count": 5,
   "metadata": {},
   "outputs": [],
   "source": [
    "adapters = open(\"input/input-day-10.txt\", \"r\")\n",
    "adapters = adapters.read().split(\"\\n\")[:-1]\n",
    "adapters = [int(x) for x in adapters]\n",
    "adapters.sort()"
   ]
  },
  {
   "cell_type": "markdown",
   "metadata": {},
   "source": [
    "## Part 1\n",
    "Find a chain which use all of the adapters in the list  \n",
    "Any adapter can take a \"joltage\" 1, 2 or 3 lower than its rating  \n",
    "The first adapter is plugged into the wall, the wall has a joltage rating of 0  \n",
    "\n",
    "IDEA: See if you can just plug the adapters into each other in order, lowest to highest"
   ]
  },
  {
   "cell_type": "code",
   "execution_count": 17,
   "metadata": {},
   "outputs": [
    {
     "name": "stdout",
     "output_type": "stream",
     "text": [
      "{1: 66, 3: 29}\n",
      "Product 1914\n"
     ]
    }
   ],
   "source": [
    "difference_count = {1: 0, 3: 0}\n",
    "\n",
    "# Difference between wall and the first adapter\n",
    "difference_count[adapters[0]] += 1\n",
    "\n",
    "# Difference between all adapters\n",
    "for i in range(len(adapters)-1):\n",
    "    diff = adapters[i+1] - adapters[i]\n",
    "    difference_count[diff] += 1\n",
    "    \n",
    "# Difference between last adapter and your device\n",
    "difference_count[3] += 1\n",
    "    \n",
    "print(difference_count)\n",
    "print(\"Product\", difference_count[1] * difference_count[3])"
   ]
  },
  {
   "cell_type": "code",
   "execution_count": null,
   "metadata": {},
   "outputs": [],
   "source": []
  }
 ],
 "metadata": {
  "kernelspec": {
   "display_name": "Python 3",
   "language": "python",
   "name": "python3"
  },
  "language_info": {
   "codemirror_mode": {
    "name": "ipython",
    "version": 3
   },
   "file_extension": ".py",
   "mimetype": "text/x-python",
   "name": "python",
   "nbconvert_exporter": "python",
   "pygments_lexer": "ipython3",
   "version": "3.6.9"
  }
 },
 "nbformat": 4,
 "nbformat_minor": 4
}
