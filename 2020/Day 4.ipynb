{
 "cells": [
  {
   "cell_type": "markdown",
   "metadata": {},
   "source": [
    "# Day 4: Passport processing"
   ]
  },
  {
   "cell_type": "code",
   "execution_count": 63,
   "metadata": {},
   "outputs": [],
   "source": [
    "import re"
   ]
  },
  {
   "cell_type": "markdown",
   "metadata": {},
   "source": [
    "## Part 1\n",
    "Check if all fields exist for the passports. cid is optional\n",
    "\n",
    "mbyr (Birth Year)  \n",
    "iyr (Issue Year)  \n",
    "eyr (Expiration Year)  \n",
    "hgt (Height)  \n",
    "hcl (Hair Color)  \n",
    "ecl (Eye Color)  \n",
    "pid (Passport ID)  \n",
    "cid (Country ID)  "
   ]
  },
  {
   "cell_type": "code",
   "execution_count": 62,
   "metadata": {},
   "outputs": [
    {
     "name": "stdout",
     "output_type": "stream",
     "text": [
      "Nr of valid: 247\n",
      "Tot nr of passports: 299\n"
     ]
    }
   ],
   "source": [
    "# Read the data and separate each passport into its own string in a list\n",
    "data = open(\"input/input-day-4.txt\", \"r\")\n",
    "data = data.read().split(\"\\n\\n\")\n",
    "data = [x.replace(\"\\n\", \" \") for x in data]\n",
    "\n",
    "p = re.compile(r\"(\\w+):\") # Pattern for finding all the keys\n",
    "required_fields = [\"byr\",\"iyr\",\"eyr\",\"hgt\",\"hcl\",\"ecl\",\"pid\"]\n",
    "\n",
    "nr_of_valid_passports = 0\n",
    "\n",
    "for passport in data:\n",
    "\n",
    "    passport_fields = p.findall(passport)\n",
    "\n",
    "    # Check if all fields are pressent. cid is optional!\n",
    "    # This can be acchieved by seeing if the required fields is a subset of the passport fields\n",
    "    if set(required_fields).issubset(passport_fields):\n",
    "        nr_of_valid_passports += 1\n",
    "    \n",
    "print(\"Nr of valid: \" + str(nr_of_valid_passports))\n",
    "print(\"Tot nr of passports: \" + str(len(data)))"
   ]
  },
  {
   "cell_type": "markdown",
   "metadata": {},
   "source": [
    "## Part 2\n",
    "\n",
    "Each field has specific rules\n",
    "\n",
    "    byr (Birth Year) - four digits; at least 1920 and at most 2002.\n",
    "    iyr (Issue Year) - four digits; at least 2010 and at most 2020.\n",
    "    eyr (Expiration Year) - four digits; at least 2020 and at most 2030.\n",
    "    hgt (Height) - a number followed by either cm or in:\n",
    "        If cm, the number must be at least 150 and at most 193.\n",
    "        If in, the number must be at least 59 and at most 76.\n",
    "    hcl (Hair Color) - a # followed by exactly six characters 0-9 or a-f.\n",
    "    ecl (Eye Color) - exactly one of: amb blu brn gry grn hzl oth.\n",
    "    pid (Passport ID) - a nine-digit number, including leading zeroes.\n",
    "     * \"including leading zeroes\" means just that if there are zeros are counted to if they are at the start \n",
    "    cid (Country ID) - ignored, missing or not.\n"
   ]
  },
  {
   "cell_type": "code",
   "execution_count": 409,
   "metadata": {},
   "outputs": [],
   "source": [
    "# Match string starting with 1 or more digits followed by \"cm\" or \"in\"\n",
    "height_p = re.compile(r\"(?P<height>\\d+)(?P<unit>cm|in)\")\n",
    "# Match string starting with \"#\" followed by 6 characters \"a-f\" or digits \"0-9\"\n",
    "hair_color_p = re.compile(r\"\\#[a-f0-9]{6,6}\")\n",
    "# Has to be exactly 9 numbers long.\n",
    "passport_id_p = re.compile(r\"[0-9]{8}[0-9]$\")\n",
    "\n",
    "def are_key_values_valid(fields):\n",
    "    valid = True\n",
    "    \n",
    "    for field in passport_fields:\n",
    "        key = field[0]\n",
    "        value = field[1]\n",
    "        \n",
    "        if key == \"byr\":\n",
    "            if not (int(value) >= 1920 and int(value) <= 2002):\n",
    "                valid = False\n",
    "            \n",
    "        if key == \"iyr\":\n",
    "            if not (int(value) >= 2010 and int(value) <= 2020):\n",
    "                valid = False\n",
    "    \n",
    "        if key == \"eyr\":\n",
    "            if not (int(value) >= 2020 and int(value) <= 2030):\n",
    "                valid = False\n",
    "            \n",
    "        if key == \"hgt\":\n",
    "            valid_pattern = height_p.search(value)\n",
    "            if valid_pattern:\n",
    "                height = valid_pattern.group(\"height\")\n",
    "                unit = valid_pattern.group(\"unit\")\n",
    "                if unit == \"cm\":\n",
    "                    if not (int(height) >= 150 and int(height) <= 193):\n",
    "                        valid = False\n",
    "                if unit == \"in\":\n",
    "                    if not (int(height) >= 59 and int(height) <= 76):\n",
    "                        valid = False\n",
    "            else:\n",
    "                valid = False\n",
    "\n",
    "        if key == \"hcl\":\n",
    "            valid_pattern = hair_color_p.search(value)\n",
    "            if not valid_pattern:\n",
    "                valid = False\n",
    "\n",
    "        if key == \"ecl\":\n",
    "            if not value in [\"amb\", \"blu\", \"brn\", \"gry\", \"grn\", \"hzl\", \"oth\"]:\n",
    "                valid = False\n",
    "\n",
    "        if key == \"pid\":\n",
    "            valid_pattern = passport_id_p.match(value)\n",
    "            if not valid_pattern:\n",
    "                valid = False\n",
    "\n",
    "    return valid"
   ]
  },
  {
   "cell_type": "code",
   "execution_count": 411,
   "metadata": {},
   "outputs": [
    {
     "name": "stdout",
     "output_type": "stream",
     "text": [
      "Nr of valid: 145\n",
      "Tot nr of passports: 299\n"
     ]
    }
   ],
   "source": [
    "# Read the data and separate each passport into its own string in a list\n",
    "data = open(\"input-day-4.txt\", \"r\")\n",
    "data = data.read().split(\"\\n\\n\")\n",
    "data = [x.replace(\"\\n\", \" \") for x in data]\n",
    "\n",
    "p = re.compile(r\"(\\w+):(\\#?\\w*)\") # Pattern for finding all the keys\n",
    "required_fields = [\"byr\",\"iyr\",\"eyr\",\"hgt\",\"hcl\",\"ecl\",\"pid\"]\n",
    "\n",
    "nr_of_valid_passports = 0\n",
    "\n",
    "for passport in data:\n",
    "    \n",
    "    passport_fields = p.findall(passport)\n",
    "\n",
    "    keys = [field[0] for field in passport_fields]\n",
    "    values = [field[1] for field in passport_fields]\n",
    "    \n",
    "    # Check if all fields are pressent. cid is optional!\n",
    "    # This can be acchieved by seeing if the required fields is a subset of the passport fields\n",
    "    if set(required_fields).issubset(keys):\n",
    "        \n",
    "        # Check if each key value is valid\n",
    "        if are_key_values_valid(passport_fields):\n",
    "            nr_of_valid_passports += 1\n",
    "            my_dict_list.append(my_dict)\n",
    "            \n",
    "    i += 1\n",
    "    \n",
    "print(\"Nr of valid: \" + str(nr_of_valid_passports))\n",
    "print(\"Tot nr of passports: \" + str(len(data)))"
   ]
  }
 ],
 "metadata": {
  "kernelspec": {
   "display_name": "Python 3",
   "language": "python",
   "name": "python3"
  },
  "language_info": {
   "codemirror_mode": {
    "name": "ipython",
    "version": 3
   },
   "file_extension": ".py",
   "mimetype": "text/x-python",
   "name": "python",
   "nbconvert_exporter": "python",
   "pygments_lexer": "ipython3",
   "version": "3.8.3"
  },
  "toc": {
   "base_numbering": 1,
   "nav_menu": {},
   "number_sections": true,
   "sideBar": true,
   "skip_h1_title": false,
   "title_cell": "Table of Contents",
   "title_sidebar": "Contents",
   "toc_cell": false,
   "toc_position": {},
   "toc_section_display": true,
   "toc_window_display": false
  }
 },
 "nbformat": 4,
 "nbformat_minor": 4
}
