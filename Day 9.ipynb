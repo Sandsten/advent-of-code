{
 "cells": [
  {
   "cell_type": "markdown",
   "metadata": {},
   "source": [
    "# Day 9: Encoding error"
   ]
  },
  {
   "cell_type": "markdown",
   "metadata": {},
   "source": [
    "## Part 1\n",
    "The first 25 numbers in the input is allocated without any rules attached  \n",
    "Each following number has to be a sum of the prior 25 numbers!  \n",
    "The two numbers can't be equal!  \n",
    "If the condition isn't met, stop the program and our answer is the number for which this condition isn't met"
   ]
  },
  {
   "cell_type": "code",
   "execution_count": 27,
   "metadata": {},
   "outputs": [],
   "source": [
    "data = open(\"input/input-day-9.txt\", \"r\")\n",
    "data = data.read().split(\"\\n\")[:-1]\n",
    "data = [int(x) for x in data]"
   ]
  },
  {
   "cell_type": "code",
   "execution_count": 68,
   "metadata": {},
   "outputs": [
    {
     "name": "stdout",
     "output_type": "stream",
     "text": [
      "Condition isn't met for number 675280050 at index 619\n"
     ]
    }
   ],
   "source": [
    "for i in range(25,len(data)):\n",
    "    lower_index = i - 25\n",
    "    upper_index = i\n",
    "    sum_check_list = data[lower_index:upper_index] # The upper index is excluded\n",
    "    answer = data[i]\n",
    "    \n",
    "    is_condition_met = False\n",
    "    for j in range(len(sum_check_list)):\n",
    "        if is_condition_met: break\n",
    "        for k in range(j+1,len(sum_check_list)):\n",
    "            \n",
    "            # a & b cant be equal\n",
    "            if sum_check_list[j] == sum_check_list[k]:\n",
    "                continue\n",
    "            \n",
    "            if sum_check_list[j] + sum_check_list[k] == answer: \n",
    "                is_condition_met = True\n",
    "                break\n",
    "    \n",
    "    if not is_condition_met:\n",
    "        print(\"Condition isn't met for number\", data[i], \"at index\", i)\n",
    "        invalid_number = data[i]\n",
    "        break"
   ]
  },
  {
   "cell_type": "markdown",
   "metadata": {},
   "source": [
    "## Part 2\n",
    "Find a contiguous set of numbers which adds up to our invalid number from part 1.  \n",
    "Add together the smallest and largest number in that particular set!"
   ]
  },
  {
   "cell_type": "code",
   "execution_count": 94,
   "metadata": {},
   "outputs": [
    {
     "name": "stdout",
     "output_type": "stream",
     "text": [
      "Contiguous range found! which equal our invalid number\n",
      "The range: [28897192, 36027566, 29971341, 37424124, 32516906, 30851516, 31185966, 51988916, 32257150, 52939136, 34927331, 67184481, 38597126, 44053552, 40538664, 41203828]\n",
      "\n",
      "Sum of max and min in range\n",
      "96081673\n"
     ]
    }
   ],
   "source": [
    "range_found = False\n",
    "for i in range(len(data)):\n",
    "    if range_found: break\n",
    "    sum_to_invalid_number = 0\n",
    "    sum_to_invalid_number += data[i]\n",
    "    for j in range(i+1,len(data)):\n",
    "        sum_to_invalid_number += data[j]\n",
    "        \n",
    "        if sum_to_invalid_number == invalid_number:\n",
    "            print(\"Contiguous range found! which equal our invalid number\")\n",
    "            range_found = True\n",
    "            \n",
    "            sum_range = data[i:j]\n",
    "            print(\"The range:\", ,sum_range)\n",
    "            print(\"\\nSum of max and min in range\")\n",
    "            print(min(sum_range) + max(sum_range))\n",
    "            break\n",
    "        if sum_to_invalid_number > invalid_number:\n",
    "            break\n"
   ]
  },
  {
   "cell_type": "code",
   "execution_count": null,
   "metadata": {},
   "outputs": [],
   "source": []
  }
 ],
 "metadata": {
  "kernelspec": {
   "display_name": "Python 3",
   "language": "python",
   "name": "python3"
  },
  "language_info": {
   "codemirror_mode": {
    "name": "ipython",
    "version": 3
   },
   "file_extension": ".py",
   "mimetype": "text/x-python",
   "name": "python",
   "nbconvert_exporter": "python",
   "pygments_lexer": "ipython3",
   "version": "3.6.9"
  }
 },
 "nbformat": 4,
 "nbformat_minor": 4
}
