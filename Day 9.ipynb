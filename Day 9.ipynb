{
 "cells": [
  {
   "cell_type": "markdown",
   "metadata": {},
   "source": [
    "# Day 9: Encoding error"
   ]
  },
  {
   "cell_type": "markdown",
   "metadata": {},
   "source": [
    "## Part 1\n",
    "The first 25 numbers in the input is allocated without any rules attached  \n",
    "Each following number has to be a sum of the prior 25 numbers!  \n",
    "The two numbers can't be equal!  \n",
    "If the condition isn't met, stop the program and our answer is the number for which this condition isn't met"
   ]
  },
  {
   "cell_type": "code",
   "execution_count": 27,
   "metadata": {},
   "outputs": [],
   "source": [
    "data = open(\"input/input-day-9.txt\", \"r\")\n",
    "data = data.read().split(\"\\n\")[:-1]\n",
    "data = [int(x) for x in data]"
   ]
  },
  {
   "cell_type": "code",
   "execution_count": 45,
   "metadata": {},
   "outputs": [
    {
     "name": "stdout",
     "output_type": "stream",
     "text": [
      "[0, 1, 2, 3, 4, 5, 6, 7, 8, 9, 10, 11, 12, 13, 14, 15, 16, 17, 18, 19, 20, 21, 22, 23, 24, 25, 26, 27, 28, 29]\n",
      "[0, 1, 2, 3, 4, 5, 6, 7, 8, 9, 10, 11, 12, 13, 14, 15, 16, 17, 18, 19, 20, 21, 22, 23, 24, 25]\n"
     ]
    }
   ],
   "source": [
    "#print(data[0:26])\n",
    "a = list(range(0,30))\n",
    "print(list(a))\n",
    "print(a[0:26])"
   ]
  },
  {
   "cell_type": "code",
   "execution_count": 66,
   "metadata": {},
   "outputs": [
    {
     "name": "stdout",
     "output_type": "stream",
     "text": [
      "Condition isn't met for number 675280050 at index 619\n"
     ]
    }
   ],
   "source": [
    "for i in range(25,len(data)):\n",
    "    lower_index = i - 25\n",
    "    upper_index = i\n",
    "    sum_check_list = data[lower_index:upper_index]\n",
    "    answer = data[i]\n",
    "    \n",
    "    #print(\"\\nChecking if number\", data[i], \"at index\", i, \"is a sum of two of the numbers between [\", lower_index, \",\", upper_index, \"]\")\n",
    "    \n",
    "    #print(sum_check_list)\n",
    "    #print(len(sum_check_list))\n",
    "    #rint(data[lower_index:upper_index+1])\n",
    "    \n",
    "    is_condition_met = False\n",
    "    for j in range(len(sum_check_list)):\n",
    "        if is_condition_met: break\n",
    "        for k in range(j,len(sum_check_list)):\n",
    "            \n",
    "            # a & b cant be equal\n",
    "            if sum_check_list[j] == sum_check_list[k]:\n",
    "                continue\n",
    "            \n",
    "            #print(j,k)\n",
    "            #print(\"Trying\", sum_check_list[j], \"+\", sum_check_list[k])    \n",
    "            \n",
    "            if sum_check_list[j] + sum_check_list[k] == answer: \n",
    "                is_condition_met = True\n",
    "                #print(\"Condition is met!\")\n",
    "                #print(sum_check_list[j], \"+\", sum_check_list[k], \"=\", answer)\n",
    "                break\n",
    "    \n",
    "    if not is_condition_met:\n",
    "        print(\"Condition isn't met for number\", data[i], \"at index\", i)\n",
    "        break\n",
    "    \n",
    "    # Only test one number for now\n",
    "    #break"
   ]
  },
  {
   "cell_type": "code",
   "execution_count": null,
   "metadata": {},
   "outputs": [],
   "source": [
    "\n"
   ]
  }
 ],
 "metadata": {
  "kernelspec": {
   "display_name": "Python 3",
   "language": "python",
   "name": "python3"
  },
  "language_info": {
   "codemirror_mode": {
    "name": "ipython",
    "version": 3
   },
   "file_extension": ".py",
   "mimetype": "text/x-python",
   "name": "python",
   "nbconvert_exporter": "python",
   "pygments_lexer": "ipython3",
   "version": "3.6.9"
  }
 },
 "nbformat": 4,
 "nbformat_minor": 4
}
