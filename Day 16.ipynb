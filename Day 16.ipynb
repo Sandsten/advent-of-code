{
 "cells": [
  {
   "cell_type": "markdown",
   "metadata": {},
   "source": [
    "# Day 16: Ticket Translation"
   ]
  },
  {
   "cell_type": "code",
   "execution_count": 1,
   "metadata": {
    "ExecuteTime": {
     "end_time": "2021-01-02T14:03:06.434520Z",
     "start_time": "2021-01-02T14:03:06.432518Z"
    }
   },
   "outputs": [],
   "source": [
    "import re"
   ]
  },
  {
   "cell_type": "code",
   "execution_count": 2,
   "metadata": {
    "ExecuteTime": {
     "end_time": "2021-01-02T14:03:06.450518Z",
     "start_time": "2021-01-02T14:03:06.435520Z"
    }
   },
   "outputs": [],
   "source": [
    "data = open(\"input/input-day-16.txt\", \"r\").read().split(\"\\n\")[:-1]\n",
    "\n",
    "rules = data[0:20]\n",
    "my_ticket = data[22]\n",
    "nearby_tickets = data[25:]"
   ]
  },
  {
   "cell_type": "code",
   "execution_count": 29,
   "metadata": {
    "ExecuteTime": {
     "end_time": "2021-01-02T14:15:07.138006Z",
     "start_time": "2021-01-02T14:15:07.113008Z"
    }
   },
   "outputs": [
    {
     "data": {
      "text/plain": [
       "30869"
      ]
     },
     "execution_count": 29,
     "metadata": {},
     "output_type": "execute_result"
    }
   ],
   "source": [
    "pattern_1 = re.compile(r\"(\\d+\\-\\d+) or (\\d+\\-\\d+)\")\n",
    "\n",
    "ticket_rules = []\n",
    "\n",
    "for rule in rules:\n",
    "    # Find the numbers listed in the rules\n",
    "    result = pattern_1.search(rule)\n",
    "    # Create a list of each rule with the min and max values\n",
    "    rule_1 = list(map(int, result.group(1).split(\"-\")))\n",
    "    rule_2 = list(map(int, result.group(2).split(\"-\")))\n",
    "    # Save all rules in a single list\n",
    "    ticket_rules.extend([rule_1,rule_2])\n",
    "\n",
    "def isNumberInRange(number, rule):\n",
    "    if (rule[0] <= number <= rule[1]):\n",
    "        return True\n",
    "    return False\n",
    "\n",
    "def isNumberValid(number, rules):\n",
    "    # The number has to exist in only one of the ranges in order to be valid\n",
    "    for rule in rules:\n",
    "        if isNumberInRange(number, rule):\n",
    "            return True\n",
    "            break\n",
    "\n",
    "    return False\n",
    "\n",
    "# Find invalid numbers\n",
    "invalid_numbers = []\n",
    "for i, ticket in enumerate(nearby_tickets):\n",
    "    ticket_numbers = list(map(int,ticket.split(\",\")))\n",
    "    \n",
    "    # Go through each number in the ticket and save it if it's invalid\n",
    "    for ticket_number in ticket_numbers:\n",
    "        if not isNumberValid(ticket_number, ticket_rules):\n",
    "            invalid_numbers.append(ticket_number)\n",
    "            \n",
    "    \n",
    "# Find the secret value for our answer.\n",
    "# It's the sum of all the invalid numbers found\n",
    "sum(invalid_numbers)"
   ]
  },
  {
   "cell_type": "code",
   "execution_count": null,
   "metadata": {},
   "outputs": [],
   "source": []
  }
 ],
 "metadata": {
  "kernelspec": {
   "display_name": "Python 3",
   "language": "python",
   "name": "python3"
  },
  "language_info": {
   "codemirror_mode": {
    "name": "ipython",
    "version": 3
   },
   "file_extension": ".py",
   "mimetype": "text/x-python",
   "name": "python",
   "nbconvert_exporter": "python",
   "pygments_lexer": "ipython3",
   "version": "3.8.3"
  },
  "toc": {
   "base_numbering": 1,
   "nav_menu": {},
   "number_sections": true,
   "sideBar": true,
   "skip_h1_title": false,
   "title_cell": "Table of Contents",
   "title_sidebar": "Contents",
   "toc_cell": false,
   "toc_position": {},
   "toc_section_display": true,
   "toc_window_display": false
  }
 },
 "nbformat": 4,
 "nbformat_minor": 4
}
