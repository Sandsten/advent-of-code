{
 "cells": [
  {
   "cell_type": "code",
   "execution_count": 41,
   "id": "d4bfeb60-f21a-4649-b502-aff7557bee54",
   "metadata": {},
   "outputs": [
    {
     "data": {
      "text/plain": [
       "['76-83,77-87',\n",
       " '68-73,55-68',\n",
       " '13-37,12-25',\n",
       " '7-7,12-96',\n",
       " '9-22,10-12',\n",
       " '52-77,12-52',\n",
       " '43-83,44-60',\n",
       " '33-90,78-89',\n",
       " '10-10,9-50']"
      ]
     },
     "execution_count": 41,
     "metadata": {},
     "output_type": "execute_result"
    }
   ],
   "source": [
    "with open(\"input/day4.txt\", \"r\") as f:\n",
    "    data = f.readlines()\n",
    "    \n",
    "data = [x.strip() for x in data]\n",
    "data[1:10]"
   ]
  },
  {
   "cell_type": "markdown",
   "id": "50f5ea74-71e8-45f3-9829-049f3425b9ff",
   "metadata": {},
   "source": [
    "# Part 1"
   ]
  },
  {
   "cell_type": "code",
   "execution_count": 42,
   "id": "e66474bd-97a4-43b6-92a5-8a12f8febaa0",
   "metadata": {},
   "outputs": [
    {
     "data": {
      "text/plain": [
       "509"
      ]
     },
     "execution_count": 42,
     "metadata": {},
     "output_type": "execute_result"
    }
   ],
   "source": [
    "p1_data = data\n",
    "\n",
    "nr_assignment_pairs_fully_contain_the_other = 0\n",
    "\n",
    "for pair in p1_data:\n",
    "    pair = pair.split(\",\")\n",
    "    elve_1 = [int(x) for x in pair[0].split(\"-\")]\n",
    "    elve_2 = [int(x) for x in pair[1].split(\"-\")]\n",
    "    \n",
    "    # Check if elve 1 range is in elve 2 range\n",
    "    if elve_1[0] >= elve_2[0] and elve_1[1] <= elve_2[1]:\n",
    "        nr_assignment_pairs_fully_contain_the_other += 1\n",
    "        continue\n",
    "    \n",
    "    # Check if elve 2 range is in elve 1 range\n",
    "    elif elve_2[0] >= elve_1[0] and elve_2[1] <= elve_1[1]:\n",
    "        nr_assignment_pairs_fully_contain_the_other += 1\n",
    "\n",
    "nr_assignment_pairs_fully_contain_the_other"
   ]
  },
  {
   "cell_type": "markdown",
   "id": "119a0fe1-bbaf-4441-80f2-882db702bc05",
   "metadata": {},
   "source": [
    "# Part 2"
   ]
  },
  {
   "cell_type": "code",
   "execution_count": 44,
   "id": "3ac4484e-c951-41dc-b0fd-999ee49f1404",
   "metadata": {},
   "outputs": [
    {
     "data": {
      "text/plain": [
       "870"
      ]
     },
     "execution_count": 44,
     "metadata": {},
     "output_type": "execute_result"
    }
   ],
   "source": [
    "p2_data = data\n",
    "\n",
    "nr_assignment_pairs_that_overlap = 0\n",
    "\n",
    "for pair in p2_data:\n",
    "    pair = pair.split(\",\")\n",
    "    elve_1 = [int(x) for x in pair[0].split(\"-\")]\n",
    "    elve_2 = [int(x) for x in pair[1].split(\"-\")]\n",
    "    \n",
    "    # Check if there's any overlap at all\n",
    "    \n",
    "    # If elve 1's starting or end number falls within the range of elve 2's\n",
    "    if elve_1[0] >= elve_2[0] and elve_1[0] <= elve_2[1]:\n",
    "        nr_assignment_pairs_that_overlap += 1\n",
    "    elif elve_1[1] >= elve_2[0] and elve_1[1] <= elve_2[1]:\n",
    "        nr_assignment_pairs_that_overlap += 1\n",
    "    # If elve 2's starting or end number falls within the range of elve 1's\n",
    "    elif elve_2[0] >= elve_1[0] and elve_2[0] <= elve_1[1]:\n",
    "        nr_assignment_pairs_that_overlap += 1\n",
    "    elif elve_2[1] >= elve_1[0] and elve_2[1] <= elve_1[1]:\n",
    "        nr_assignment_pairs_that_overlap += 1    \n",
    "        \n",
    "nr_assignment_pairs_that_overlap"
   ]
  }
 ],
 "metadata": {
  "kernelspec": {
   "display_name": "Python 3 (ipykernel)",
   "language": "python",
   "name": "python3"
  },
  "language_info": {
   "codemirror_mode": {
    "name": "ipython",
    "version": 3
   },
   "file_extension": ".py",
   "mimetype": "text/x-python",
   "name": "python",
   "nbconvert_exporter": "python",
   "pygments_lexer": "ipython3",
   "version": "3.10.8"
  }
 },
 "nbformat": 4,
 "nbformat_minor": 5
}
