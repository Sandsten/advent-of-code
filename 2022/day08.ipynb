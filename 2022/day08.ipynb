{
 "cells": [
  {
   "cell_type": "code",
   "execution_count": 1,
   "metadata": {},
   "outputs": [],
   "source": [
    "with open(\"input/day8.txt\", \"r\") as f:\n",
    "  data = f.read().splitlines()\n",
    "\n",
    "data = [[y for y in x] for x in data]\n",
    "\n",
    "x_size = len(data[0])\n",
    "y_size = len(data)"
   ]
  },
  {
   "cell_type": "markdown",
   "metadata": {},
   "source": [
    "# Part 1"
   ]
  },
  {
   "cell_type": "code",
   "execution_count": 3,
   "metadata": {},
   "outputs": [
    {
     "data": {
      "text/plain": [
       "1717"
      ]
     },
     "execution_count": 3,
     "metadata": {},
     "output_type": "execute_result"
    }
   ],
   "source": [
    "# Move one layer in and check if visible\n",
    "# increase starting x by 1\n",
    "# increase startiny y by 1\n",
    "# decrease ending x by 1\n",
    "# decrease ending y by 1\n",
    "# Repeat this until start and end are equal\n",
    "total_visible = ((x_size - 1) * 2) + ((y_size - 1) * 2) # Nr of trees around the edge\n",
    "\n",
    "start_X = 1\n",
    "start_y = 1\n",
    "end_x = x_size - 2\n",
    "end_y = y_size - 2 # -2 since y_size is total nr of elements and we start index at 0\n",
    "\n",
    "# Note that range isn't inclusive with the end value\n",
    "while start_X <= end_x: # x and y have the same size, so we only have to check one dimension\n",
    "  for y_coord in range(start_y, end_y + 1):\n",
    "    if y_coord == start_y or y_coord == end_y:\n",
    "      x_range = range(start_X, end_x + 1)\n",
    "    else:\n",
    "      x_range = [start_X, end_x]\n",
    "\n",
    "    # Check if this tree is visible by looking all the way to the edge in all 4 directions\n",
    "    for x_coord in x_range:\n",
    "      tree_height_at_coord = data[y_coord][x_coord]\n",
    "      is_visible = False\n",
    "      \n",
    "      # Right\n",
    "      visible_to_the_right = True\n",
    "      for x_look_coord in range(x_coord + 1, x_size):\n",
    "        if data[y_coord][x_look_coord] >= tree_height_at_coord:\n",
    "          visible_to_the_right = False\n",
    "          break\n",
    "\n",
    "      # Left\n",
    "      visible_to_the_left = True\n",
    "      for x_look_coord in range(x_coord - 1, -1, -1):\n",
    "        if data[y_coord][x_look_coord] >= tree_height_at_coord:\n",
    "          visible_to_the_left = False\n",
    "          break\n",
    "      \n",
    "      # Down\n",
    "      visible_down = True\n",
    "      for y_look_coord in range(y_coord + 1, y_size):\n",
    "        if data[y_look_coord][x_coord] >= tree_height_at_coord:\n",
    "          visible_down = False\n",
    "          break\n",
    "\n",
    "      # Up\n",
    "      visible_up = True\n",
    "      for y_look_coord in range(y_coord - 1, -1, -1):\n",
    "        if data[y_look_coord][x_coord] >= tree_height_at_coord:\n",
    "          visible_up = False\n",
    "          break\n",
    "      \n",
    "      if visible_to_the_left or visible_to_the_right or visible_down or visible_up:\n",
    "        total_visible += 1\n",
    "        #visible_graph_p1[x_coord][y_coord] = \"V\"\n",
    "  \n",
    "  start_X += 1\n",
    "  start_y += 1\n",
    "  end_x -= 1\n",
    "  end_y -= 1\n",
    "\n",
    "total_visible"
   ]
  },
  {
   "cell_type": "markdown",
   "metadata": {},
   "source": [
    "# Part 2"
   ]
  },
  {
   "cell_type": "code",
   "execution_count": 6,
   "metadata": {},
   "outputs": [
    {
     "data": {
      "text/plain": [
       "321975"
      ]
     },
     "execution_count": 6,
     "metadata": {},
     "output_type": "execute_result"
    }
   ],
   "source": [
    "# Move one layer in and check if visible\n",
    "# increase starting x by 1\n",
    "# increase startiny y by 1\n",
    "# decrease ending x by 1\n",
    "# decrease ending y by 1\n",
    "# Repeat this until start and end are equal\n",
    "largest_scenic_score = 0\n",
    "\n",
    "start_X = 1\n",
    "start_y = 1\n",
    "end_x = x_size - 2\n",
    "end_y = y_size - 2 # -2 since y_size is total nr of elements and we start index at 0\n",
    "\n",
    "while start_X <= end_x: # x and y have the same size, so we only have to check one dimension\n",
    "  for y_coord in range(start_y, end_y + 1):\n",
    "    if y_coord == start_y or y_coord == end_y:\n",
    "      x_range = range(start_X, end_x + 1)\n",
    "    else:\n",
    "      x_range = [start_X, end_x]\n",
    "\n",
    "    # get the viewing distance in each direction\n",
    "    # Note that range isn't inclusive with the end value\n",
    "    for x_coord in x_range:\n",
    "      tree_height_at_coord = data[y_coord][x_coord]\n",
    "      is_visible = False\n",
    "      \n",
    "      # Right\n",
    "      view_distance_right = 0\n",
    "      for x_look_coord in range(x_coord + 1, x_size):\n",
    "        view_distance_right += 1\n",
    "        if data[y_coord][x_look_coord] >= tree_height_at_coord:\n",
    "          break\n",
    "\n",
    "      # Left\n",
    "      view_distance_left = 0\n",
    "      for x_look_coord in range(x_coord - 1, -1, -1):\n",
    "        view_distance_left += 1\n",
    "        if data[y_coord][x_look_coord] >= tree_height_at_coord:\n",
    "          break\n",
    "      \n",
    "      # Down\n",
    "      view_distance_down = 0\n",
    "      for y_look_coord in range(y_coord + 1, y_size):\n",
    "        view_distance_down += 1\n",
    "        if data[y_look_coord][x_coord] >= tree_height_at_coord:\n",
    "          break\n",
    "\n",
    "      # Up\n",
    "      view_distance_up = 0\n",
    "      for y_look_coord in range(y_coord - 1, -1, -1):\n",
    "        view_distance_up += 1\n",
    "        if data[y_look_coord][x_coord] >= tree_height_at_coord:\n",
    "          break\n",
    "      \n",
    "      score = view_distance_up * view_distance_down * view_distance_left * view_distance_right\n",
    "      if score > largest_scenic_score:\n",
    "        largest_scenic_score = score\n",
    "  \n",
    "  start_X += 1\n",
    "  start_y += 1\n",
    "  end_x -= 1\n",
    "  end_y -= 1\n",
    "\n",
    "largest_scenic_score"
   ]
  }
 ],
 "metadata": {
  "kernelspec": {
   "display_name": "Python 3.11.0 64-bit",
   "language": "python",
   "name": "python3"
  },
  "language_info": {
   "codemirror_mode": {
    "name": "ipython",
    "version": 3
   },
   "file_extension": ".py",
   "mimetype": "text/x-python",
   "name": "python",
   "nbconvert_exporter": "python",
   "pygments_lexer": "ipython3",
   "version": "3.11.0"
  },
  "orig_nbformat": 4,
  "vscode": {
   "interpreter": {
    "hash": "2e08becd2fb66981e99f43f59d267a76f406a764571e712c80c35314ff1ef65d"
   }
  }
 },
 "nbformat": 4,
 "nbformat_minor": 2
}
