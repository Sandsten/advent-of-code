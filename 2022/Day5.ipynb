{
 "cells": [
  {
   "cell_type": "code",
   "execution_count": 1,
   "id": "93fdcde7-4646-48f0-8a6a-990cd80542b6",
   "metadata": {},
   "outputs": [
    {
     "data": {
      "text/plain": [
       "['            [M] [S] [S]            ',\n",
       " '        [M] [N] [L] [T] [Q]        ',\n",
       " '[G]     [P] [C] [F] [G] [T]        ',\n",
       " '[B]     [J] [D] [P] [V] [F] [F]    ',\n",
       " '[D]     [D] [G] [C] [Z] [H] [B] [G]',\n",
       " '[C] [G] [Q] [L] [N] [D] [M] [D] [Q]',\n",
       " '[P] [V] [S] [S] [B] [B] [Z] [M] [C]',\n",
       " '[R] [H] [N] [P] [J] [Q] [B] [C] [F]',\n",
       " ' 1   2   3   4   5   6   7   8   9 ']"
      ]
     },
     "execution_count": 1,
     "metadata": {},
     "output_type": "execute_result"
    }
   ],
   "source": [
    "with open(\"input/day5.txt\", \"r\") as f:\n",
    "    data = f.read();\n",
    "    \n",
    "start, instructions = data.split(\"\\n\\n\")\n",
    "start = start.split(\"\\n\")\n",
    "instructions = instructions.split(\"\\n\")[:-1]\n",
    "\n",
    "start"
   ]
  },
  {
   "cell_type": "code",
   "execution_count": 2,
   "id": "30e242ab-6a21-4eb1-9889-c159e50c9e53",
   "metadata": {},
   "outputs": [],
   "source": [
    "## Get the indices in the string for all items\n",
    "## The bottom most row has all the stack numbers, all items have the same index in the string\n",
    "## So use that when building the initial state\n",
    "indices = []\n",
    "for i,item in enumerate(start[-1]):\n",
    "    try:\n",
    "        column = int(item)\n",
    "        indices.append(i)\n",
    "    except:\n",
    "        continue"
   ]
  },
  {
   "cell_type": "markdown",
   "id": "bdb3c8e5-52a0-4851-a138-649b456e4c91",
   "metadata": {},
   "source": [
    "Set the starting arrangement"
   ]
  },
  {
   "cell_type": "code",
   "execution_count": 3,
   "id": "3823dd60-ba9e-4afe-8d1d-fa58ea00e5df",
   "metadata": {},
   "outputs": [
    {
     "name": "stdout",
     "output_type": "stream",
     "text": [
      "['R', 'P', 'C', 'D', 'B', 'G']\n",
      "['H', 'V', 'G']\n",
      "['N', 'S', 'Q', 'D', 'J', 'P', 'M']\n",
      "['P', 'S', 'L', 'G', 'D', 'C', 'N', 'M']\n",
      "['J', 'B', 'N', 'C', 'P', 'F', 'L', 'S']\n",
      "['Q', 'B', 'D', 'Z', 'V', 'G', 'T', 'S']\n",
      "['B', 'Z', 'M', 'H', 'F', 'T', 'Q']\n",
      "['C', 'M', 'D', 'B', 'F']\n",
      "['F', 'C', 'Q', 'G']\n"
     ]
    }
   ],
   "source": [
    "stacks = [[] for x in range(len(indices))]\n",
    "\n",
    "for layer in range(len(start)-2, -1, -1):\n",
    "    layer = start[layer]\n",
    "    for i in range(len(indices)):\n",
    "        item = layer[indices[i]]\n",
    "        if item != \" \":\n",
    "            stacks[i].append(item)\n",
    "\n",
    "for stack in stacks:\n",
    "    print(stack)"
   ]
  },
  {
   "cell_type": "code",
   "execution_count": 15,
   "id": "d6e02054-c8bf-4220-a15f-e81e478511e9",
   "metadata": {},
   "outputs": [
    {
     "data": {
      "text/plain": [
       "['move 1 from 7 to 4',\n",
       " 'move 3 from 4 to 7',\n",
       " 'move 4 from 3 to 4',\n",
       " 'move 5 from 6 to 9',\n",
       " 'move 1 from 8 to 1']"
      ]
     },
     "execution_count": 15,
     "metadata": {},
     "output_type": "execute_result"
    }
   ],
   "source": [
    "instructions[:5]"
   ]
  },
  {
   "cell_type": "markdown",
   "id": "d9c60d14-e4cd-40f6-97ad-26a205334030",
   "metadata": {},
   "source": [
    "# Part 1"
   ]
  },
  {
   "cell_type": "code",
   "execution_count": 17,
   "id": "b60bc602-e4cb-448d-aa80-390c06ed6ecc",
   "metadata": {},
   "outputs": [
    {
     "data": {
      "text/plain": [
       "'TLNGFGMFN'"
      ]
     },
     "execution_count": 17,
     "metadata": {},
     "output_type": "execute_result"
    }
   ],
   "source": [
    "import re\n",
    "import copy\n",
    "\n",
    "p1_stacks = copy.deepcopy(stacks)\n",
    "\n",
    "pattern = re.compile(\"move (\\d+) from (\\d+) to (\\d+)\")\n",
    "\n",
    "for instruction in instructions:\n",
    "    instruction = pattern.search(instruction)\n",
    "    amount_to_move = int(instruction.group(1))\n",
    "    from_which_stack = int(instruction.group(2)) - 1\n",
    "    to_which_stack = int(instruction.group(3)) - 1\n",
    "    \n",
    "    for i in range(amount_to_move):\n",
    "        item = p1_stacks[from_which_stack].pop()\n",
    "        p1_stacks[to_which_stack].append(item)\n",
    "\n",
    "message = \"\"\n",
    "for stack in p1_stacks:\n",
    "    if stack != []:\n",
    "        message += stack[-1]\n",
    "message"
   ]
  },
  {
   "cell_type": "markdown",
   "id": "ab76ca10-bd09-417a-979c-9b1d15aafc3c",
   "metadata": {},
   "source": [
    "# Part 2"
   ]
  },
  {
   "cell_type": "code",
   "execution_count": 12,
   "id": "a7d7e617-52af-434e-82ba-3cbb6b23b9fd",
   "metadata": {},
   "outputs": [
    {
     "data": {
      "text/plain": [
       "'FGLQJCMBD'"
      ]
     },
     "execution_count": 12,
     "metadata": {},
     "output_type": "execute_result"
    }
   ],
   "source": [
    "import re\n",
    "import copy\n",
    "\n",
    "p2_stacks = copy.deepcopy(stacks)\n",
    "\n",
    "pattern = re.compile(\"move (\\d+) from (\\d+) to (\\d+)\")\n",
    "\n",
    "for instruction in instructions:\n",
    "    instruction = pattern.search(instruction)\n",
    "    amount_to_move = int(instruction.group(1))\n",
    "    from_which_stack = int(instruction.group(2)) - 1\n",
    "    to_which_stack = int(instruction.group(3)) - 1\n",
    "    \n",
    "    move_all_at_once = []\n",
    "    for i in range(amount_to_move):\n",
    "        item = p2_stacks[from_which_stack].pop()\n",
    "        move_all_at_once.insert(0,item)\n",
    "    p2_stacks[to_which_stack].extend(move_all_at_once)\n",
    "\n",
    "message = \"\"\n",
    "for stack in p2_stacks:\n",
    "    if stack != []:\n",
    "        message += stack[-1]\n",
    "\n",
    "message"
   ]
  }
 ],
 "metadata": {
  "kernelspec": {
   "display_name": "Python 3 (ipykernel)",
   "language": "python",
   "name": "python3"
  },
  "language_info": {
   "codemirror_mode": {
    "name": "ipython",
    "version": 3
   },
   "file_extension": ".py",
   "mimetype": "text/x-python",
   "name": "python",
   "nbconvert_exporter": "python",
   "pygments_lexer": "ipython3",
   "version": "3.10.8"
  }
 },
 "nbformat": 4,
 "nbformat_minor": 5
}
