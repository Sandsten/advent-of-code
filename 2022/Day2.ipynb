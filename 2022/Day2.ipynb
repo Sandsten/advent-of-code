{
 "cells": [
  {
   "cell_type": "code",
   "execution_count": 30,
   "id": "5545058b-4ebd-4e2a-80ec-632a14b18895",
   "metadata": {},
   "outputs": [
    {
     "data": {
      "text/plain": [
       "10941"
      ]
     },
     "execution_count": 30,
     "metadata": {},
     "output_type": "execute_result"
    }
   ],
   "source": [
    "with open(\"input/day2.txt\", \"r\") as f:\n",
    "    data = f.readlines()\n",
    "\n",
    "#data = [\"A Y\\n\", \"B X\\n\", \"C Z\\n\"]    \n",
    "    \n",
    "data = [x.strip() for x in data]\n",
    "\n",
    "total_score = 0\n",
    "\n",
    "# X = Rock, Y = Paper, Z = scissors\n",
    "# A = Rock, Y = Paper, Z = scissors\n",
    "opponent_options = {\"A\": 1, \"B\": 2, \"C\": 3}\n",
    "my_options = {\"X\": 1, \"Y\": 2, \"Z\": 3}\n",
    "shape_scores = {\"X\": 1, \"Y\": 2, \"Z\": 3}\n",
    "\n",
    "winning_matchups = [\"A Y\", \"B Z\", \"C X\"]\n",
    "    \n",
    "for game in data:\n",
    "    # Draw\n",
    "    if opponent_options[game[0]] == my_options[game[-1]]:\n",
    "        total_score = total_score + shape_scores[game[-1]] + 3\n",
    "    \n",
    "    elif game in winning_matchups:\n",
    "        total_score = total_score + shape_scores[game[-1]] + 6\n",
    "    \n",
    "    else:\n",
    "        total_score = total_score + shape_scores[game[-1]]\n",
    "\n",
    "total_score"
   ]
  },
  {
   "cell_type": "markdown",
   "id": "8f9bfa9b-5e66-43ab-a104-963c6936d000",
   "metadata": {},
   "source": [
    "# Part 2"
   ]
  },
  {
   "cell_type": "code",
   "execution_count": 33,
   "id": "c5aa1266-5b24-4df1-9d9e-84808a9b2784",
   "metadata": {},
   "outputs": [
    {
     "data": {
      "text/plain": [
       "13071"
      ]
     },
     "execution_count": 33,
     "metadata": {},
     "output_type": "execute_result"
    }
   ],
   "source": [
    "with open(\"input/day2.txt\", \"r\") as f:\n",
    "    data = f.readlines()\n",
    "\n",
    "#data = [\"A Y\\n\", \"B X\\n\", \"C Z\\n\"]    \n",
    "    \n",
    "data = [x.strip() for x in data]\n",
    "\n",
    "total_score = 0\n",
    "\n",
    "# X = Rock, Y = Paper, Z = scissors\n",
    "# A = Rock, B = Paper, C = scissors\n",
    "opponent_options = {\"A\": 1, \"B\": 2, \"C\": 3}\n",
    "my_options = {\"X\": 1, \"Y\": 2, \"Z\": 3}\n",
    "shape_scores = {\"X\": 1, \"Y\": 2, \"Z\": 3}\n",
    "\n",
    "oponent_to_me_translator = {\"A\":\"X\",\"B\":\"Y\",\"C\":\"Z\"}\n",
    "choice_to_lose = {\"A\":\"Z\", \"B\":\"X\", \"C\":\"Y\"}\n",
    "choice_to_win = {\"A\":\"Y\", \"B\":\"Z\", \"C\":\"X\"}\n",
    "\n",
    "for game in data:\n",
    "    # I need to lose\n",
    "    if game[-1] == \"X\":\n",
    "        my_pick = choice_to_lose[game[0]]\n",
    "        total_score = total_score + shape_scores[my_pick]\n",
    "    \n",
    "    # Need a draw\n",
    "    elif game[-1] == \"Y\":\n",
    "        my_pick = oponent_to_me_translator[game[0]]\n",
    "        total_score = total_score + shape_scores[my_pick] + 3\n",
    "    \n",
    "    # I need to win\n",
    "    else:\n",
    "        my_pick = choice_to_win[game[0]]\n",
    "        total_score = total_score + shape_scores[my_pick] + 6\n",
    "        \n",
    "total_score"
   ]
  }
 ],
 "metadata": {
  "kernelspec": {
   "display_name": "Python 3 (ipykernel)",
   "language": "python",
   "name": "python3"
  },
  "language_info": {
   "codemirror_mode": {
    "name": "ipython",
    "version": 3
   },
   "file_extension": ".py",
   "mimetype": "text/x-python",
   "name": "python",
   "nbconvert_exporter": "python",
   "pygments_lexer": "ipython3",
   "version": "3.10.8"
  }
 },
 "nbformat": 4,
 "nbformat_minor": 5
}
