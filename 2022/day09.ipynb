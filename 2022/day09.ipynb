{
 "cells": [
  {
   "cell_type": "code",
   "execution_count": 1,
   "metadata": {},
   "outputs": [],
   "source": [
    "with open(\"input/day9.txt\", \"r\") as f:\n",
    "  data = f.read().splitlines()\n",
    "\n",
    "data = [d.split(\" \") for d in data]"
   ]
  },
  {
   "attachments": {},
   "cell_type": "markdown",
   "metadata": {},
   "source": [
    "## Part 1 & 2\n",
    "part 1 -> length = 2  \n",
    "part 2 -> length = 10"
   ]
  },
  {
   "cell_type": "code",
   "execution_count": 3,
   "metadata": {},
   "outputs": [
    {
     "name": "stdout",
     "output_type": "stream",
     "text": [
      "The tail has visited 5981 unique locations\n"
     ]
    }
   ],
   "source": [
    "import math\n",
    "\n",
    "# Clamp value to absolute value of 1\n",
    "def clamp_to_1(x):\n",
    "  if abs(x) > 1:\n",
    "    return int(math.copysign(1, x))\n",
    "  else:\n",
    "    return int(math.copysign(x, x))\n",
    "\n",
    "directions = {\n",
    "    \"R\": [1,0],\n",
    "    \"L\": [-1, 0],\n",
    "    \"U\": [0,1],\n",
    "    \"D\": [0,-1]\n",
    "  }\n",
    "\n",
    "#length = 2\n",
    "length = 10\n",
    "nodes = [[0,0] for _ in range(length)]\n",
    "tail_positions = []\n",
    "\n",
    "for instruction in data:\n",
    "  dir = directions[instruction[0]]\n",
    "  nr_steps = int(instruction[1])\n",
    "\n",
    "  for step in range(nr_steps):\n",
    "    for i in range(len(nodes)):\n",
    "      if i == 0:\n",
    "        # Always update head pos\n",
    "        nodes[i][0] += dir[0]\n",
    "        nodes[i][1] += dir[1]\n",
    "      else:\n",
    "        parent = nodes[i-1]\n",
    "        current = nodes[i]\n",
    "        \n",
    "        vec_to_parent = [parent[0] - current[0], parent[1] - current[1]]\n",
    "        # Move if parent is more than one square away, diagonally counts as one square\n",
    "        if abs(vec_to_parent[0]) > 1 or abs(vec_to_parent[1]) > 1:\n",
    "          # Always move in the direction of the vector pointing to the parent, but at most one unit x and y\n",
    "          x = clamp_to_1(vec_to_parent[0])\n",
    "          y = clamp_to_1(vec_to_parent[1])\n",
    "\n",
    "          # update pos\n",
    "          nodes[i][0] += int(x)\n",
    "          nodes[i][1] += int(y)\n",
    "    \n",
    "    tail_positions.append(nodes[-1].copy())\n",
    "\n",
    "visited = [f\"({p[0]},{p[1]})\" for p in tail_positions]\n",
    "print(f\"The tail has visited {len(set(visited))} unique locations\")"
   ]
  }
 ],
 "metadata": {
  "kernelspec": {
   "display_name": "Python 3.11.0 64-bit",
   "language": "python",
   "name": "python3"
  },
  "language_info": {
   "codemirror_mode": {
    "name": "ipython",
    "version": 3
   },
   "file_extension": ".py",
   "mimetype": "text/x-python",
   "name": "python",
   "nbconvert_exporter": "python",
   "pygments_lexer": "ipython3",
   "version": "3.11.0"
  },
  "orig_nbformat": 4,
  "vscode": {
   "interpreter": {
    "hash": "2e08becd2fb66981e99f43f59d267a76f406a764571e712c80c35314ff1ef65d"
   }
  }
 },
 "nbformat": 4,
 "nbformat_minor": 2
}
