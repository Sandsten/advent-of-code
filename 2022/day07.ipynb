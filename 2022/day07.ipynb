{
 "cells": [
  {
   "cell_type": "code",
   "execution_count": 74,
   "id": "86c0c2c5-d883-438a-83f5-63376c76f672",
   "metadata": {},
   "outputs": [
    {
     "data": {
      "text/plain": [
       "['$ cd /',\n",
       " '$ ls',\n",
       " 'dir fcqv',\n",
       " 'dir fcv',\n",
       " '72939 hdpgfcwd',\n",
       " '236918 jlncjqh.csz',\n",
       " 'dir jvwfwrg',\n",
       " 'dir tzwpllhq',\n",
       " 'dir vglf',\n",
       " '28586 wzljr.zvp']"
      ]
     },
     "execution_count": 74,
     "metadata": {},
     "output_type": "execute_result"
    }
   ],
   "source": [
    "with open(\"input/day7.txt\", \"r\") as f:\n",
    "    data = f.readlines()\n",
    "    \n",
    "data = [x.strip() for x in data]\n",
    "data[:10]"
   ]
  },
  {
   "cell_type": "code",
   "execution_count": 106,
   "id": "86d0e55d-276b-4ea0-a09b-91e72a6b0a4e",
   "metadata": {},
   "outputs": [
    {
     "name": "stdout",
     "output_type": "stream",
     "text": [
      "Sum of folders that are larger than 100000: 1182909\n"
     ]
    }
   ],
   "source": [
    "class File:\n",
    "    def __init__(self, name: str, size: int, parent: Directory):\n",
    "        self.name = name\n",
    "        self.size = size\n",
    "        self.parent = parent\n",
    "\n",
    "class Directory:\n",
    "    def __init__(self, name: str, parent: Directory, size = 0, depth = 0):\n",
    "        self.name = name\n",
    "        self.parent = parent\n",
    "        self.children = []\n",
    "        self.files = []\n",
    "        self.size = size\n",
    "        self.depth = depth\n",
    "        \n",
    "    def updateSize(self, size):\n",
    "        self.size += size\n",
    "        if self.parent is None:\n",
    "            return\n",
    "        self.parent.updateSize(size)\n",
    "    \n",
    "    def addChildDir(self, name):\n",
    "        child_names = [x.name for x in self.children]\n",
    "        if name not in child_names:\n",
    "            child = Directory(name, self, depth=self.depth + 1)\n",
    "            self.children.append(child)\n",
    "    \n",
    "    def addFile(self, file: File):\n",
    "        self.files.append(file)\n",
    "        self.updateSize(file.size)\n",
    "    \n",
    "    def getChildDir(self, name):\n",
    "        for child in self.children:\n",
    "            if child.name == name:\n",
    "                return child\n",
    "        return False\n",
    "    \n",
    "    def __str__(self):\n",
    "        indent = \"  \" * self.depth\n",
    "        return f\"{indent}{self.name} - {self.size}\"\n",
    "        \n",
    "data_p1 = data\n",
    "\n",
    "root_dir = Directory(\"/\", None)\n",
    "current_dir = root_dir\n",
    "\n",
    "for line in data_p1[1:]:\n",
    "    command = line.split()\n",
    "    \n",
    "    if command[0] == \"dir\":\n",
    "        current_dir.addChildDir(command[1])\n",
    "    \n",
    "    elif command[0] == \"$\":\n",
    "        if command[1] == \"ls\":\n",
    "            continue\n",
    "        elif command[1] == \"cd\":\n",
    "            if command[2] == \"..\":\n",
    "                current_dir = current_dir.parent\n",
    "            else:\n",
    "                name = command[2]\n",
    "                current_dir.addChildDir(name)\n",
    "                current_dir = current_dir.getChildDir(name)\n",
    "    \n",
    "    # it's a file\n",
    "    else:\n",
    "        file = File(command[1], int(command[0]), current_dir)\n",
    "        current_dir.addFile(file)\n",
    "\n",
    "def printDirectory(d, indent):\n",
    "    print(d)\n",
    "    for c in d.children:\n",
    "        printDirectory(c, indent + 1)\n",
    " \n",
    "#printDirectory(root_dir, 0)\n",
    "\n",
    "answer = 0\n",
    "def calculateAnswer(d):\n",
    "    global answer\n",
    "    if d.size <= 100000:\n",
    "        answer += d.size\n",
    "    for c in d.children:\n",
    "        calculateAnswer(c)\n",
    "\n",
    "calculateAnswer(root_dir)\n",
    "print(f\"Sum of folders that are larger than {100000}: {answer}\")"
   ]
  },
  {
   "cell_type": "code",
   "execution_count": 104,
   "id": "c307675f-83e5-4c27-8100-d22df1927408",
   "metadata": {},
   "outputs": [
    {
     "name": "stdout",
     "output_type": "stream",
     "text": [
      "Amount needed to be freeed up: 2677139\n",
      "Smallest folder size that can be deleted: 2832508\n"
     ]
    }
   ],
   "source": [
    "disk_size = 70000000\n",
    "used_space = root_dir.size\n",
    "free_space = disk_size - used_space\n",
    "needed_space = 30000000\n",
    "\n",
    "amount_to_delete = needed_space - free_space\n",
    "amount_to_delete\n",
    "\n",
    "dir_sizes_that_can_be_deleted = []\n",
    "\n",
    "def getSizes(d):\n",
    "    global dir_sizes_that_can_be_deleted\n",
    "    if d.size >= amount_to_delete:\n",
    "        dir_sizes_that_can_be_deleted.append(d.size)\n",
    "    for c in d.children:\n",
    "        getSizes(c)\n",
    "\n",
    "print(f\"Amount needed to be freeed up: {amount_to_delete}\")\n",
    "getSizes(root_dir)\n",
    "print(f\"Smallest folder size that can be deleted: {sorted(dir_sizes_that_can_be_deleted)[0]}\")"
   ]
  }
 ],
 "metadata": {
  "kernelspec": {
   "display_name": "Python 3 (ipykernel)",
   "language": "python",
   "name": "python3"
  },
  "language_info": {
   "codemirror_mode": {
    "name": "ipython",
    "version": 3
   },
   "file_extension": ".py",
   "mimetype": "text/x-python",
   "name": "python",
   "nbconvert_exporter": "python",
   "pygments_lexer": "ipython3",
   "version": "3.10.8"
  }
 },
 "nbformat": 4,
 "nbformat_minor": 5
}
