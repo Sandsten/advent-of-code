{
 "cells": [
  {
   "cell_type": "code",
   "execution_count": 86,
   "metadata": {},
   "outputs": [],
   "source": [
    "with open(\"input/day11.txt\", \"r\") as f:\n",
    "  data = f.read().split(\"\\n\\n\")"
   ]
  },
  {
   "cell_type": "code",
   "execution_count": 87,
   "metadata": {},
   "outputs": [
    {
     "name": "stdout",
     "output_type": "stream",
     "text": [
      "24389045529\n"
     ]
    }
   ],
   "source": [
    "monkeys = []\n",
    "\n",
    "for i in range(len(data)):\n",
    "  m = data[i].split(\"\\n\")\n",
    "  items = [int(x) for x in m[1].split(\": \")[1].split(\",\")]\n",
    "  operation = m[2].split()[-3:]\n",
    "  test = int(m[3].split()[-1])\n",
    "  if_true = int(m[4].split()[-1])\n",
    "  if_false = int(m[5].split()[-1])\n",
    "\n",
    "  monkeys.append({\n",
    "    \"items\": items,\n",
    "    \"operation\": operation,\n",
    "    \"test\": test,\n",
    "    \"if_true\": if_true,\n",
    "    \"if_false\": if_false,\n",
    "    \"nr_items_inspected\": 0\n",
    "  })\n",
    "\n",
    "nr_rounds = 10_000\n",
    "part = 2\n",
    "\n",
    "# For part 2 we can use the following property to keep the number down\n",
    "# (a mod kn) mod n = a mod n\n",
    "kn = 1\n",
    "for monkey in monkeys:\n",
    "  kn *= monkey[\"test\"]\n",
    "\n",
    "for round in range(nr_rounds):\n",
    "  for monkey in range(len(monkeys)):\n",
    "    m = monkeys[monkey]\n",
    "    for item in m[\"items\"]:\n",
    "      m[\"nr_items_inspected\"] += 1\n",
    "      \n",
    "      # Operation\n",
    "      other = m[\"operation\"][-1]\n",
    "      y = int(other) if other != \"old\" else item\n",
    "      if m[\"operation\"][1] == \"*\":\n",
    "        item *= y\n",
    "      else:\n",
    "        item += y\n",
    "\n",
    "      if part == 2:\n",
    "        # save the item number as (a mod kn)\n",
    "        # a = item\n",
    "        item %= kn\n",
    "      else:\n",
    "        item //= 3\n",
    "\n",
    "      # Part 2: (a mod kn) mod n = a mod n\n",
    "      if item % m[\"test\"] == 0:\n",
    "        monkeys[m[\"if_true\"]][\"items\"].append(item)\n",
    "      else:\n",
    "        monkeys[m[\"if_false\"]][\"items\"].append(item)\n",
    "\n",
    "    m[\"items\"].clear()\n",
    "\n",
    "insp = [m[\"nr_items_inspected\"] for m in monkeys]\n",
    "result = 1\n",
    "for num in sorted(insp)[-2:]:\n",
    "  result *= num\n",
    "print(result)"
   ]
  }
 ],
 "metadata": {
  "kernelspec": {
   "display_name": "Python 3",
   "language": "python",
   "name": "python3"
  },
  "language_info": {
   "codemirror_mode": {
    "name": "ipython",
    "version": 3
   },
   "file_extension": ".py",
   "mimetype": "text/x-python",
   "name": "python",
   "nbconvert_exporter": "python",
   "pygments_lexer": "ipython3",
   "version": "3.11.0"
  },
  "orig_nbformat": 4,
  "vscode": {
   "interpreter": {
    "hash": "2e08becd2fb66981e99f43f59d267a76f406a764571e712c80c35314ff1ef65d"
   }
  }
 },
 "nbformat": 4,
 "nbformat_minor": 2
}
