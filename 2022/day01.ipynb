{
 "cells": [
  {
   "cell_type": "code",
   "execution_count": null,
   "id": "bcf3c0dd-c892-424f-b12a-d7c6fa238814",
   "metadata": {},
   "outputs": [],
   "source": [
    "import sys\n",
    "sys.path.append(\"../adventofcodehelpers\")\n",
    "import adventofcodehelpers"
   ]
  },
  {
   "cell_type": "code",
   "execution_count": 32,
   "id": "a107c74d-18f8-4261-b33b-31d9d1d51a06",
   "metadata": {},
   "outputs": [],
   "source": [
    "data = adventofcodehelpers.readFile(\"input/day1.txt\")\n",
    "data = [int(x) if x != \"\" else \"\" for x in data]"
   ]
  },
  {
   "cell_type": "code",
   "execution_count": null,
   "id": "61616f4a-20f0-49d1-a39f-41b02c70d9ea",
   "metadata": {},
   "outputs": [],
   "source": []
  },
  {
   "cell_type": "markdown",
   "id": "f80204da-0a83-4725-a434-ffd468a311d9",
   "metadata": {},
   "source": [
    "# Part 1  \n",
    "Total amount of calories of the elf that consume the most"
   ]
  },
  {
   "cell_type": "code",
   "execution_count": 29,
   "id": "e1996401-8a83-4088-8a9d-54bee1e21d2b",
   "metadata": {},
   "outputs": [
    {
     "data": {
      "text/plain": [
       "71934"
      ]
     },
     "execution_count": 29,
     "metadata": {},
     "output_type": "execute_result"
    }
   ],
   "source": [
    "calories_per_worker = []\n",
    "calories_sum = 0\n",
    "for calories in data:\n",
    "    if type(calories) == int:\n",
    "        calories_sum = calories_sum + calories\n",
    "    else:\n",
    "        calories_per_worker.append(calories_sum)\n",
    "        calories_sum = 0\n",
    "calories_per_worker.append(calories_sum)\n",
    "max(calories_per_worker)"
   ]
  },
  {
   "cell_type": "markdown",
   "id": "014e9d7f-1268-475f-aa27-cdda7a9e682f",
   "metadata": {},
   "source": [
    "# Part 2  \n",
    "Find the sum of calories of the 3 elves that consume the most calories"
   ]
  },
  {
   "cell_type": "code",
   "execution_count": 28,
   "id": "7e550291-ab27-4d62-aa5e-a2eae60a6203",
   "metadata": {},
   "outputs": [
    {
     "data": {
      "text/plain": [
       "211447"
      ]
     },
     "execution_count": 28,
     "metadata": {},
     "output_type": "execute_result"
    }
   ],
   "source": [
    "calories_per_worker_sorted = sorted(calories_per_worker, reverse=True)\n",
    "sum(calories_per_worker_sorted[0:3])"
   ]
  }
 ],
 "metadata": {
  "kernelspec": {
   "display_name": "Python 3.10.6 64-bit",
   "language": "python",
   "name": "python3"
  },
  "language_info": {
   "codemirror_mode": {
    "name": "ipython",
    "version": 3
   },
   "file_extension": ".py",
   "mimetype": "text/x-python",
   "name": "python",
   "nbconvert_exporter": "python",
   "pygments_lexer": "ipython3",
   "version": "3.10.6"
  },
  "vscode": {
   "interpreter": {
    "hash": "916dbcbb3f70747c44a77c7bcd40155683ae19c65e1c03b4aa3499c5328201f1"
   }
  }
 },
 "nbformat": 4,
 "nbformat_minor": 5
}
