{
 "cells": [
  {
   "cell_type": "code",
   "execution_count": 33,
   "id": "8f3ded38-4b7e-4131-99a3-2607a837e628",
   "metadata": {},
   "outputs": [],
   "source": [
    "with open(\"input/day6.txt\", \"r\") as f:\n",
    "    data = f.read().strip()"
   ]
  },
  {
   "cell_type": "markdown",
   "id": "d907aa9b-7c60-402c-8dc1-e119b9f0a8e4",
   "metadata": {},
   "source": [
    "# Part 1 & Part 2"
   ]
  },
  {
   "cell_type": "code",
   "execution_count": 37,
   "id": "38f26ce8-c8d1-4507-8949-4b766e084dfd",
   "metadata": {},
   "outputs": [
    {
     "name": "stdout",
     "output_type": "stream",
     "text": [
      "Answer: 3059\n",
      "All unique: lbqhrgfmvzpctd\n"
     ]
    }
   ],
   "source": [
    "def allUnique(x: str):\n",
    "    check_against = []\n",
    "    for letter in x:\n",
    "        if letter in check_against:\n",
    "            return False\n",
    "        check_against.append(letter)\n",
    "    return True\n",
    "\n",
    "window_size = 4  # Part 1\n",
    "window_size = 14 # Part 2\n",
    "\n",
    "for i in range(0,len(data)-window_size-1):\n",
    "    window = data[i:i+window_size]\n",
    "    if allUnique(window):\n",
    "        print(f\"Answer: {i+window_size}\")\n",
    "        print(f\"All unique: {window}\")\n",
    "        break"
   ]
  }
 ],
 "metadata": {
  "kernelspec": {
   "display_name": "Python 3 (ipykernel)",
   "language": "python",
   "name": "python3"
  },
  "language_info": {
   "codemirror_mode": {
    "name": "ipython",
    "version": 3
   },
   "file_extension": ".py",
   "mimetype": "text/x-python",
   "name": "python",
   "nbconvert_exporter": "python",
   "pygments_lexer": "ipython3",
   "version": "3.10.8"
  }
 },
 "nbformat": 4,
 "nbformat_minor": 5
}
