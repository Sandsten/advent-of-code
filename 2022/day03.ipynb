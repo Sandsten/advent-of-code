{
 "cells": [
  {
   "cell_type": "code",
   "execution_count": 15,
   "id": "55be437a-c9be-40e5-a8d2-6b48c8040cac",
   "metadata": {},
   "outputs": [],
   "source": [
    "with open(\"input/day3.txt\", \"r\") as f:\n",
    "    data = f.readlines()\n",
    "\n",
    "data = [x.strip() for x in data]"
   ]
  },
  {
   "cell_type": "code",
   "execution_count": 16,
   "id": "a5ff866f-c75f-420b-b428-1a4b23a6f468",
   "metadata": {},
   "outputs": [],
   "source": [
    "letters = \"abcdefghijklmnopqrstuvwxyzABCDEFGHIJKLMNOPQRSTUVWXYZ\"\n",
    "letters_score = {}\n",
    "for i,letter in enumerate(letters):\n",
    "    letters_score[letter] = i+1"
   ]
  },
  {
   "cell_type": "markdown",
   "id": "3abce30d-a2ae-4441-9a3d-0cf59e42056d",
   "metadata": {},
   "source": [
    "# Part 1"
   ]
  },
  {
   "cell_type": "code",
   "execution_count": 17,
   "id": "64873c26-9271-4a3e-bd6d-8a5dfaa34879",
   "metadata": {},
   "outputs": [],
   "source": [
    "p1_data = [[x[0:int(len(x)/2)],x[int(len(x)/2):]] for x in data]\n",
    "in_both_compartments_for_all_rucksacks = []\n",
    "for rucksack in p1_data:\n",
    "    in_both_compartments = []\n",
    "    for item in rucksack[0]:\n",
    "        if item in rucksack[1] and item not in in_both_compartments:\n",
    "            in_both_compartments.append(item)\n",
    "    in_both_compartments_for_all_rucksacks.extend(in_both_compartments)\n",
    "    in_both_compartments = []"
   ]
  },
  {
   "cell_type": "code",
   "execution_count": 18,
   "id": "4a9148f1-b310-428a-9ff4-5c8cde1ae936",
   "metadata": {},
   "outputs": [
    {
     "data": {
      "text/plain": [
       "7795"
      ]
     },
     "execution_count": 18,
     "metadata": {},
     "output_type": "execute_result"
    }
   ],
   "source": [
    "sum_of_priorities = 0\n",
    "for item in in_both_compartments_for_all_rucksacks:\n",
    "    sum_of_priorities = sum_of_priorities + letters_score[item]\n",
    "sum_of_priorities"
   ]
  },
  {
   "cell_type": "markdown",
   "id": "bc4d9145-76c5-408c-bdb0-af53fa2004fd",
   "metadata": {},
   "source": [
    "# Part 2"
   ]
  },
  {
   "cell_type": "code",
   "execution_count": 21,
   "id": "21960644-f085-4fa1-8d6c-b6a1db1c6100",
   "metadata": {},
   "outputs": [],
   "source": [
    "p2_data = data.copy()\n",
    "common_between_groups_for_all_rucksacks = []\n",
    "for i in range(0,len(p2_data),3):\n",
    "    r1 = data[i]\n",
    "    r2 = data[i+1]\n",
    "    r3 = data[i+2]\n",
    "    common_between_all_rs = []\n",
    "    for item in r1:\n",
    "        if item in r2 and item in r3 and item not in common_between_all_rs:\n",
    "            common_between_all_rs.append(item)\n",
    "    common_between_groups_for_all_rucksacks.extend(common_between_all_rs)\n",
    "    common_between_all_rs = []"
   ]
  },
  {
   "cell_type": "code",
   "execution_count": 22,
   "id": "8403ee2a-83f9-46aa-b52e-bdf45c07c50e",
   "metadata": {},
   "outputs": [
    {
     "data": {
      "text/plain": [
       "2703"
      ]
     },
     "execution_count": 22,
     "metadata": {},
     "output_type": "execute_result"
    }
   ],
   "source": [
    "sum_of_priorities = 0\n",
    "for item in common_between_groups_for_all_rucksacks:\n",
    "    sum_of_priorities = sum_of_priorities + letters_score[item]\n",
    "sum_of_priorities"
   ]
  }
 ],
 "metadata": {
  "kernelspec": {
   "display_name": "Python 3.9.12 ('base')",
   "language": "python",
   "name": "python3"
  },
  "language_info": {
   "codemirror_mode": {
    "name": "ipython",
    "version": 3
   },
   "file_extension": ".py",
   "mimetype": "text/x-python",
   "name": "python",
   "nbconvert_exporter": "python",
   "pygments_lexer": "ipython3",
   "version": "3.9.12"
  },
  "vscode": {
   "interpreter": {
    "hash": "ca9f7c21e43e2b0051c8dff4445286da27651f42d7e86aaa4f539b0eccae6f29"
   }
  }
 },
 "nbformat": 4,
 "nbformat_minor": 5
}
