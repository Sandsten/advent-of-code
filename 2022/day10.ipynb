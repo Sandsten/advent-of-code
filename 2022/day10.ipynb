{
 "cells": [
  {
   "cell_type": "code",
   "execution_count": 41,
   "metadata": {},
   "outputs": [
    {
     "data": {
      "text/plain": [
       "[['noop'],\n",
       " ['addx', '26'],\n",
       " ['addx', '-21'],\n",
       " ['addx', '2'],\n",
       " ['addx', '3'],\n",
       " ['noop'],\n",
       " ['noop'],\n",
       " ['addx', '23'],\n",
       " ['addx', '-17'],\n",
       " ['addx', '-1']]"
      ]
     },
     "execution_count": 41,
     "metadata": {},
     "output_type": "execute_result"
    }
   ],
   "source": [
    "with open(\"input/day10.txt\", \"r\") as f:\n",
    "  data = f.read().splitlines()\n",
    "data = [d.split(\" \") for d in data]\n",
    "data[:10]"
   ]
  },
  {
   "cell_type": "code",
   "execution_count": 42,
   "metadata": {},
   "outputs": [
    {
     "name": "stdout",
     "output_type": "stream",
     "text": [
      "During cycle 20 the signal strength is 320\n",
      "During cycle 60 the signal strength is 1020\n",
      "During cycle 100 the signal strength is 2400\n",
      "During cycle 140 the signal strength is 2380\n",
      "During cycle 180 the signal strength is 3780\n",
      "During cycle 220 the signal strength is 1320\n"
     ]
    },
    {
     "data": {
      "text/plain": [
       "11220"
      ]
     },
     "execution_count": 42,
     "metadata": {},
     "output_type": "execute_result"
    }
   ],
   "source": [
    "X = 1 # Computer register\n",
    "cycle = 0\n",
    "sum_of_signal_strengths = 0\n",
    "\n",
    "for instruction in data:\n",
    "  amount_to_add = 0\n",
    "  if instruction[0] == \"noop\":\n",
    "    nr_of_cycles = 1\n",
    "  else:\n",
    "    nr_of_cycles = 2\n",
    "    amount_to_add = int(instruction[1])\n",
    "\n",
    "  for i in range(nr_of_cycles):\n",
    "    cycle += 1\n",
    "\n",
    "    if (cycle - 20) % 40 == 0:\n",
    "      signal_strength = cycle * X\n",
    "      sum_of_signal_strengths += signal_strength\n",
    "      print(f\"During cycle {cycle} the signal strength is {signal_strength}\")\n",
    "\n",
    "  X += amount_to_add\n",
    "\n",
    "sum_of_signal_strengths"
   ]
  },
  {
   "cell_type": "code",
   "execution_count": 43,
   "metadata": {},
   "outputs": [
    {
     "name": "stdout",
     "output_type": "stream",
     "text": [
      "Monitor output\n",
      "###..####.###...##....##.####.#....#..#.\n",
      "#..#....#.#..#.#..#....#.#....#....#.#..\n",
      "###....#..#..#.#..#....#.###..#....##...\n",
      "#..#..#...###..####....#.#....#....#.#..\n",
      "#..#.#....#....#..#.#..#.#....#....#.#..\n",
      "###..####.#....#..#..##..####.####.#..#."
     ]
    }
   ],
   "source": [
    "## Pixels are 3 units wide\n",
    "## X is center position of the pixel\n",
    "\n",
    "X = 1 # Computer register\n",
    "cycle = 0\n",
    "ctr_line = \"\"\n",
    "\n",
    "for instruction in data:\n",
    "  amount_to_add = 0\n",
    "  if instruction[0] == \"noop\":\n",
    "    nr_of_cycles = 1\n",
    "  else:\n",
    "    nr_of_cycles = 2\n",
    "    amount_to_add = int(instruction[1])\n",
    "\n",
    "  for i in range(nr_of_cycles):\n",
    "    row_normalized = cycle % 40\n",
    "    if  X-1 <= row_normalized <= X+1:\n",
    "      ctr_line += \"#\"\n",
    "    else:\n",
    "      ctr_line += \".\"\n",
    "\n",
    "    cycle += 1\n",
    "\n",
    "  X += amount_to_add\n",
    "\n",
    "print(\"Monitor output\")\n",
    "for i in range(len(ctr_line)):\n",
    "  if i % 40 == 0 and i != 0:\n",
    "    print()\n",
    "  print(ctr_line[i],  end=\"\")"
   ]
  }
 ],
 "metadata": {
  "kernelspec": {
   "display_name": "Python 3",
   "language": "python",
   "name": "python3"
  },
  "language_info": {
   "codemirror_mode": {
    "name": "ipython",
    "version": 3
   },
   "file_extension": ".py",
   "mimetype": "text/x-python",
   "name": "python",
   "nbconvert_exporter": "python",
   "pygments_lexer": "ipython3",
   "version": "3.11.0"
  },
  "orig_nbformat": 4,
  "vscode": {
   "interpreter": {
    "hash": "2e08becd2fb66981e99f43f59d267a76f406a764571e712c80c35314ff1ef65d"
   }
  }
 },
 "nbformat": 4,
 "nbformat_minor": 2
}
