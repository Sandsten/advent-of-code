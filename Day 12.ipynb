{
 "cells": [
  {
   "cell_type": "markdown",
   "metadata": {},
   "source": [
    "# Day 12"
   ]
  },
  {
   "cell_type": "code",
   "execution_count": 1,
   "metadata": {
    "ExecuteTime": {
     "end_time": "2020-12-30T21:06:42.148312Z",
     "start_time": "2020-12-30T21:06:42.141311Z"
    }
   },
   "outputs": [],
   "source": [
    "instructions = open(\"input/input-day-12.txt\", \"r\")\n",
    "instructions = instructions.read().split(\"\\n\")[:-1]\n",
    "instructions = [[c[0],int(c[1:])] for c in instructions]"
   ]
  },
  {
   "cell_type": "markdown",
   "metadata": {},
   "source": [
    "## Part 1"
   ]
  },
  {
   "cell_type": "markdown",
   "metadata": {},
   "source": [
    "L & R instructions rotates the ship  \n",
    "N, E, S & W moves the ship in the given directions but orientation is kept  \n",
    "F moves the ship in it's current orientation"
   ]
  },
  {
   "cell_type": "code",
   "execution_count": 5,
   "metadata": {
    "ExecuteTime": {
     "end_time": "2020-12-30T21:07:33.769485Z",
     "start_time": "2020-12-30T21:07:33.760488Z"
    }
   },
   "outputs": [
    {
     "name": "stdout",
     "output_type": "stream",
     "text": [
      "Manhattan distance: 362\n"
     ]
    }
   ],
   "source": [
    "ship_orientation = 0 # Looking east, unit circle\n",
    "x_pos = 0 # Positive towards east\n",
    "y_pos = 0 # Positive towards north\n",
    "\n",
    "translate_command = {\n",
    "    \"R\": 1,\n",
    "    \"L\": -1,\n",
    "    \"N\": 1,\n",
    "    \"E\": 1,\n",
    "    \"S\": -1,\n",
    "    \"W\": -1\n",
    "}\n",
    "\n",
    "translate_orientation = {\n",
    "    0: \"E\",\n",
    "    90: \"S\",\n",
    "    180: \"W\",\n",
    "    270: \"N\"\n",
    "}\n",
    "\n",
    "for instruction in instructions:\n",
    "    action = instruction[0]\n",
    "    value = instruction[1]\n",
    "    \n",
    "    if action in [\"N\",\"S\"]:\n",
    "        y_pos += translate_command[action] * value\n",
    "    \n",
    "    if action in [\"E\",\"W\"]:\n",
    "        x_pos += translate_command[action] * value\n",
    "    \n",
    "    if action in [\"L\", \"R\"]:\n",
    "        ship_orientation += translate_command[action] * value\n",
    "        ship_orientation %= 360\n",
    "                             \n",
    "    if action in [\"F\"]:\n",
    "        orientation = translate_orientation[ship_orientation]\n",
    "        if orientation in [\"N\",\"S\"]:\n",
    "            y_pos += translate_command[orientation] * value\n",
    "    \n",
    "        if orientation in [\"E\",\"W\"]:\n",
    "            x_pos += translate_command[orientation] * value\n",
    "    \n",
    "print(\"Manhattan distance:\", abs(x_pos) + abs(y_pos))"
   ]
  },
  {
   "cell_type": "markdown",
   "metadata": {},
   "source": [
    "## Part 2"
   ]
  },
  {
   "cell_type": "code",
   "execution_count": 7,
   "metadata": {
    "ExecuteTime": {
     "end_time": "2020-12-30T21:08:23.534271Z",
     "start_time": "2020-12-30T21:08:23.520268Z"
    }
   },
   "outputs": [
    {
     "name": "stdout",
     "output_type": "stream",
     "text": [
      "Manhattan distance: 29895\n"
     ]
    }
   ],
   "source": [
    "import numpy as np\n",
    "\n",
    "translate_command = {\n",
    "    \"R\": -1, # Swapped for part 2. Positive rotation is counter clockwize\n",
    "    \"L\": 1,  #\n",
    "    \"N\": 1,\n",
    "    \"E\": 1,\n",
    "    \"S\": -1,\n",
    "    \"W\": -1\n",
    "}\n",
    "\n",
    "ship_pos = np.array([0,0])\n",
    "marker_pos = np.array([10, 1]) # Relative to ship_pos\n",
    "\n",
    "def rotAroundShip(d, marker_pos):\n",
    "    # Marker pos is always relative to ship, so we can just assume that our ship is its origin\n",
    "    rot_mat = np.array(\n",
    "        [[np.cos(np.deg2rad(d)), -np.sin(np.deg2rad(d))],\n",
    "        [np.sin(np.deg2rad(d)), np.cos(np.deg2rad(d))]])\n",
    "    \n",
    "    marker_pos = np.matmul(rot_mat, marker_pos)\n",
    "    \n",
    "    return np.around(marker_pos).astype(\"int\")\n",
    "\n",
    "for instruction in instructions:\n",
    "    action = instruction[0]\n",
    "    value = instruction[1]\n",
    "    \n",
    "    if action in [\"N\",\"S\"]:\n",
    "        marker_pos[1] += translate_command[action] * value\n",
    "    \n",
    "    if action in [\"E\",\"W\"]:\n",
    "        marker_pos[0] += translate_command[action] * value\n",
    "    \n",
    "    if action in [\"L\", \"R\"]:\n",
    "        marker_pos = rotAroundShip(translate_command[action] * value, marker_pos)\n",
    "                                         \n",
    "    if action in [\"F\"]:\n",
    "        # Move the ship at the marker position, <value> times\n",
    "        ship_pos += marker_pos * value\n",
    "        \n",
    "print(\"Manhattan distance:\", abs(ship_pos[0]) + abs(ship_pos[1]))"
   ]
  },
  {
   "cell_type": "code",
   "execution_count": null,
   "metadata": {},
   "outputs": [],
   "source": []
  }
 ],
 "metadata": {
  "kernelspec": {
   "display_name": "Python 3",
   "language": "python",
   "name": "python3"
  },
  "language_info": {
   "codemirror_mode": {
    "name": "ipython",
    "version": 3
   },
   "file_extension": ".py",
   "mimetype": "text/x-python",
   "name": "python",
   "nbconvert_exporter": "python",
   "pygments_lexer": "ipython3",
   "version": "3.8.3"
  },
  "toc": {
   "base_numbering": 1,
   "nav_menu": {},
   "number_sections": true,
   "sideBar": true,
   "skip_h1_title": false,
   "title_cell": "Table of Contents",
   "title_sidebar": "Contents",
   "toc_cell": false,
   "toc_position": {},
   "toc_section_display": true,
   "toc_window_display": false
  }
 },
 "nbformat": 4,
 "nbformat_minor": 4
}
