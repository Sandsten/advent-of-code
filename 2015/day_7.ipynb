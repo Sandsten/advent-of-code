{
 "cells": [
  {
   "cell_type": "code",
   "execution_count": 2,
   "id": "1fda3375-712f-4201-b7a6-449d69b38b6b",
   "metadata": {},
   "outputs": [
    {
     "data": {
      "text/plain": [
       "['NOT dq -> dr',\n",
       " 'kg OR kf -> kh',\n",
       " 'ep OR eo -> eq',\n",
       " '44430 -> b',\n",
       " 'NOT gs -> gt']"
      ]
     },
     "execution_count": 2,
     "metadata": {},
     "output_type": "execute_result"
    }
   ],
   "source": [
    "data = open(\"input/input_day_7.txt\", \"r\").read().split(\"\\n\")[:-1]\n",
    "data[0:5]"
   ]
  },
  {
   "cell_type": "code",
   "execution_count": 3,
   "id": "ce448a7f-3224-47c8-b8a4-02e5bfaeb96a",
   "metadata": {},
   "outputs": [],
   "source": [
    "test_data = [\n",
    "    \"123 -> x\",\n",
    "    \"456 -> y\",\n",
    "    \"x AND y -> d\",\n",
    "    \"x OR y -> e\",\n",
    "    \"x LSHIFT 2 -> f\",\n",
    "    \"y RSHIFT 2 -> g\",\n",
    "    \"NOT x -> h\",\n",
    "    \"NOT y -> i\"\n",
    "]"
   ]
  },
  {
   "cell_type": "code",
   "execution_count": 7,
   "id": "2afeaf05-92cd-4f49-baab-7fa02549eeef",
   "metadata": {},
   "outputs": [
    {
     "data": {
      "text/plain": [
       "{'x': '123',\n",
       " 'y': '456',\n",
       " 'd': 'x AND y',\n",
       " 'e': 'x OR y',\n",
       " 'f': 'x LSHIFT 2',\n",
       " 'g': 'y RSHIFT 2',\n",
       " 'h': 'NOT x',\n",
       " 'i': 'NOT y'}"
      ]
     },
     "execution_count": 7,
     "metadata": {},
     "output_type": "execute_result"
    }
   ],
   "source": [
    "# Create a circuit\n",
    "\n",
    "# Destinations and wires\n",
    "# Wires can only have one source but can connect to multiple sources\n",
    "\n",
    "destinations = {} # key = address, value = number\n",
    "\n",
    "\n",
    "for instruction in test_data:\n",
    "    x = instruction.split(\" -> \")\n",
    "    destinations[x[1]] = x[0]\n",
    "    \n",
    "destinations"
   ]
  },
  {
   "cell_type": "code",
   "execution_count": null,
   "id": "1206d031-fba5-4e58-a8ca-3f74f513da25",
   "metadata": {},
   "outputs": [],
   "source": []
  },
  {
   "cell_type": "code",
   "execution_count": 23,
   "id": "490f851d-0a40-40c8-bdd5-c045f3620e7b",
   "metadata": {},
   "outputs": [
    {
     "name": "stdout",
     "output_type": "stream",
     "text": [
      "123\n"
     ]
    }
   ],
   "source": [
    "# Create a circuit\n",
    "\n",
    "# Destinations and wires\n",
    "# Wires can only have one source but can connect to multiple sources\n",
    "\n",
    "destinations = {} # key = address, value = number\n",
    "\n",
    "\n",
    "for instruction in test_data:\n",
    "    x = instruction.split(\" -> \")\n",
    "    destinations[x[1]] = x[0]\n",
    "    \n",
    "#for k,v in destinations.items():\n",
    "\n",
    "\n",
    "def get_dest_value(dest):\n",
    "    print(destinations[dest])\n",
    "    \n",
    "keys = list(destinations.keys())\n",
    "get_dest_value(keys[0])"
   ]
  },
  {
   "cell_type": "code",
   "execution_count": null,
   "id": "61e26597-6aff-43a1-98cf-62c9a7d0a3d7",
   "metadata": {},
   "outputs": [],
   "source": []
  }
 ],
 "metadata": {
  "kernelspec": {
   "display_name": "Python 3 (ipykernel)",
   "language": "python",
   "name": "python3"
  },
  "language_info": {
   "codemirror_mode": {
    "name": "ipython",
    "version": 3
   },
   "file_extension": ".py",
   "mimetype": "text/x-python",
   "name": "python",
   "nbconvert_exporter": "python",
   "pygments_lexer": "ipython3",
   "version": "3.9.5"
  }
 },
 "nbformat": 4,
 "nbformat_minor": 5
}
