{
 "cells": [
  {
   "cell_type": "code",
   "execution_count": 11,
   "id": "2fb66c84-aaf1-4187-af7c-b1291cbcc709",
   "metadata": {},
   "outputs": [],
   "source": [
    "import hashlib"
   ]
  },
  {
   "cell_type": "code",
   "execution_count": 1,
   "id": "ca03dcfa-d2c1-43e0-8cf8-93876baaa4cb",
   "metadata": {},
   "outputs": [],
   "source": [
    "secret_key = \"yzbqklnj\""
   ]
  },
  {
   "cell_type": "markdown",
   "id": "1c492c21-4dba-457e-abfd-04df65686f8a",
   "metadata": {},
   "source": [
    "### MD5 hashing\n",
    "Using Python library for now.  \n",
    "Will implement it from scratch later on"
   ]
  },
  {
   "cell_type": "code",
   "execution_count": 26,
   "id": "4b8c402d-b2b0-44ed-a665-f5991b8bb4bc",
   "metadata": {},
   "outputs": [
    {
     "name": "stdout",
     "output_type": "stream",
     "text": [
      "yzbqklnj9962624\n",
      "0000004b347bf4b398b3f62ace7cd301\n"
     ]
    }
   ],
   "source": [
    "i = 0\n",
    "\n",
    "while True:\n",
    "    test_key = secret_key + str(i)\n",
    "    \n",
    "    test_key_as_byte = bytes(test_key, 'utf-8')\n",
    "\n",
    "    md5_hex = hashlib.md5(test_key_as_byte).hexdigest()\n",
    "    \n",
    "    # Part 1: encoded hex should have 5 leading zeros\n",
    "    # Part 2: encoded hex should have 6 leading zeros\n",
    "    if md5_hex[0:6] == \"000000\":\n",
    "        print(test_key)\n",
    "        print(md5_hex)\n",
    "        break;       \n",
    "    \n",
    "    i += 1"
   ]
  },
  {
   "cell_type": "code",
   "execution_count": null,
   "id": "91081fd5-c5d9-4883-afbc-6dc871e86c62",
   "metadata": {},
   "outputs": [],
   "source": []
  }
 ],
 "metadata": {
  "kernelspec": {
   "display_name": "Python 3 (ipykernel)",
   "language": "python",
   "name": "python3"
  },
  "language_info": {
   "codemirror_mode": {
    "name": "ipython",
    "version": 3
   },
   "file_extension": ".py",
   "mimetype": "text/x-python",
   "name": "python",
   "nbconvert_exporter": "python",
   "pygments_lexer": "ipython3",
   "version": "3.9.5"
  }
 },
 "nbformat": 4,
 "nbformat_minor": 5
}
