{
 "cells": [
  {
   "cell_type": "code",
   "execution_count": 6,
   "id": "be7b3075-2545-412f-8cf1-61cbc0eb3838",
   "metadata": {},
   "outputs": [],
   "source": [
    "instructions = open(\"./input/input_day_1.txt\", \"r\").read()"
   ]
  },
  {
   "cell_type": "markdown",
   "id": "939f2661-9f61-4aac-a675-aba9f9e3a457",
   "metadata": {},
   "source": [
    "Part 1"
   ]
  },
  {
   "cell_type": "code",
   "execution_count": 10,
   "id": "1420e3f7-fd68-4dfe-ab8f-5757e398e900",
   "metadata": {},
   "outputs": [
    {
     "name": "stdout",
     "output_type": "stream",
     "text": [
      "Santa ends up at floor nr 74 after following all the instructions.\n"
     ]
    }
   ],
   "source": [
    "floor = 0\n",
    "for instruction in instructions:\n",
    "    if instruction == \"(\":\n",
    "        floor += 1\n",
    "    elif instruction == \")\":\n",
    "        floor -= 1\n",
    "print(f\"Santa ends up at floor nr {floor} after following all the instructions.\")"
   ]
  },
  {
   "cell_type": "markdown",
   "id": "512ddf19-eeb7-494f-8be1-7222f7004879",
   "metadata": {},
   "source": [
    "Part 2"
   ]
  },
  {
   "cell_type": "code",
   "execution_count": 11,
   "id": "1b9cbcbe-dd2c-4272-8633-9009b3b38356",
   "metadata": {},
   "outputs": [
    {
     "name": "stdout",
     "output_type": "stream",
     "text": [
      "Reached basement at instruction nr 1795.\n"
     ]
    }
   ],
   "source": [
    "floor = 0\n",
    "instruction_nr = 0\n",
    "for instruction in instructions:\n",
    "    instruction_nr += 1\n",
    "    if instruction == \"(\":\n",
    "        floor += 1\n",
    "    elif instruction == \")\":\n",
    "        floor -= 1\n",
    "    \n",
    "    if floor < 0:\n",
    "        print(f\"Reached basement at instruction nr {instruction_nr}.\")\n",
    "        break;"
   ]
  },
  {
   "cell_type": "code",
   "execution_count": null,
   "id": "10b1e42c-7ecd-468b-b1c3-d35235931fee",
   "metadata": {},
   "outputs": [],
   "source": []
  }
 ],
 "metadata": {
  "kernelspec": {
   "display_name": "Python 3 (ipykernel)",
   "language": "python",
   "name": "python3"
  },
  "language_info": {
   "codemirror_mode": {
    "name": "ipython",
    "version": 3
   },
   "file_extension": ".py",
   "mimetype": "text/x-python",
   "name": "python",
   "nbconvert_exporter": "python",
   "pygments_lexer": "ipython3",
   "version": "3.9.5"
  }
 },
 "nbformat": 4,
 "nbformat_minor": 5
}
