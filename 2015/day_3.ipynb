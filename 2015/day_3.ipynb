{
 "cells": [
  {
   "cell_type": "code",
   "execution_count": 12,
   "id": "26e96b50-c53f-493c-abb5-50245a4e7b56",
   "metadata": {},
   "outputs": [],
   "source": [
    "data_raw = open(\"input/input_day_3.txt\", \"r\").read()"
   ]
  },
  {
   "cell_type": "markdown",
   "id": "777770de-3a50-4021-8523-72e553e1c19a",
   "metadata": {},
   "source": [
    "### Part 1"
   ]
  },
  {
   "cell_type": "code",
   "execution_count": 27,
   "id": "86c53173-dc6d-4413-8a16-6951648229be",
   "metadata": {},
   "outputs": [
    {
     "name": "stdout",
     "output_type": "stream",
     "text": [
      "2592\n"
     ]
    }
   ],
   "source": [
    "x_pos = 0\n",
    "y_pos = 0\n",
    "\n",
    "visited = {\"(0,0)\": 1}\n",
    "\n",
    "for direction in data_raw:\n",
    "    if direction == \"^\":\n",
    "        y_pos += 1\n",
    "    elif direction == \"v\":\n",
    "        y_pos -= 1\n",
    "    elif direction == \"<\":\n",
    "        x_pos -= 1\n",
    "    elif direction == \">\":\n",
    "        x_pos += 1\n",
    "    \n",
    "    # If we've visited this house before, a key exist and we can increment the counter\n",
    "    # If not, create the key and set its value to 1 for this visit\n",
    "    try:\n",
    "        visited[f\"({x_pos},{y_pos})\"] += 1 \n",
    "    except:\n",
    "        visited[f\"({x_pos},{y_pos})\"] = 1\n",
    "        \n",
    "print(len(visited))"
   ]
  },
  {
   "cell_type": "markdown",
   "id": "866b2e79-aa07-49ac-a75e-df71c656053c",
   "metadata": {},
   "source": [
    "### Part 2"
   ]
  },
  {
   "cell_type": "code",
   "execution_count": 47,
   "id": "2770806a-4f1c-4cc2-a354-4c280bd15f4d",
   "metadata": {},
   "outputs": [
    {
     "name": "stdout",
     "output_type": "stream",
     "text": [
      "2360 nr of houses have recieved at least one present\n"
     ]
    }
   ],
   "source": [
    "def move(x_pos, y_pos, instruction):\n",
    "    if direction == \"^\":\n",
    "        y_pos += 1\n",
    "    elif direction == \"v\":\n",
    "        y_pos -= 1\n",
    "    elif direction == \"<\":\n",
    "        x_pos -= 1\n",
    "    elif direction == \">\":\n",
    "        x_pos += 1\n",
    "    return x_pos, y_pos\n",
    "\n",
    "x_pos_santa = 0\n",
    "y_pos_santa = 0\n",
    "x_pos_robot = 0\n",
    "y_pos_robot = 0\n",
    "\n",
    "visited = {\"(0,0)\": 1}\n",
    "\n",
    "turn = 1\n",
    "for direction in data_raw:   \n",
    "    # Santa and robot take turns on who should follow the next instruction\n",
    "    if turn % 2:\n",
    "        x_pos_santa, y_pos_santa = move(x_pos_santa, y_pos_santa, direction)\n",
    "        latest_x, latest_y = x_pos_santa, y_pos_santa\n",
    "    else:\n",
    "        x_pos_robot, y_pos_robot = move(x_pos_robot, y_pos_robot, direction)\n",
    "        latest_x, latest_y = x_pos_robot, y_pos_robot\n",
    "    \n",
    "    try:\n",
    "        visited[f\"({latest_x},{latest_y})\"] += 1 \n",
    "    except:\n",
    "        visited[f\"({latest_x},{latest_y})\"] = 1 \n",
    "    \n",
    "    turn += 1\n",
    "\n",
    "#for k, v in visited.items():\n",
    "#    print(f\"{k} : {v}\")\n",
    "\n",
    "print(f\"{len(visited)} nr of houses have recieved at least one present\")"
   ]
  },
  {
   "cell_type": "code",
   "execution_count": null,
   "id": "443302ef-beaa-4d65-847c-df521a45bd43",
   "metadata": {},
   "outputs": [],
   "source": []
  }
 ],
 "metadata": {
  "kernelspec": {
   "display_name": "Python 3 (ipykernel)",
   "language": "python",
   "name": "python3"
  },
  "language_info": {
   "codemirror_mode": {
    "name": "ipython",
    "version": 3
   },
   "file_extension": ".py",
   "mimetype": "text/x-python",
   "name": "python",
   "nbconvert_exporter": "python",
   "pygments_lexer": "ipython3",
   "version": "3.9.5"
  }
 },
 "nbformat": 4,
 "nbformat_minor": 5
}
