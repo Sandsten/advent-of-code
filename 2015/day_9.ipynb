{
 "cells": [
  {
   "cell_type": "code",
   "execution_count": 46,
   "id": "4c7c32f3-388b-4ad6-9cf2-f5e729dfdbf9",
   "metadata": {},
   "outputs": [],
   "source": [
    "data = open(\"input/input_day_9.txt\").read().split(\"\\n\")[:-1]"
   ]
  },
  {
   "cell_type": "code",
   "execution_count": 47,
   "id": "124cdee3-9b77-4a2b-883c-57e078b4b5ba",
   "metadata": {},
   "outputs": [
    {
     "name": "stdout",
     "output_type": "stream",
     "text": [
      "Weighted Graph. Columns are nodes, rows are edges\n"
     ]
    },
    {
     "data": {
      "text/plain": [
       "array([[ 66,   0,   0,  66,   0,   0,   0,   0],\n",
       "       [  0,   0,   0,  28,   0,   0,  28,   0],\n",
       "       [  0,   0,   0,  60,   0,  60,   0,   0],\n",
       "       [  0,   0,   0,  34,  34,   0,   0,   0],\n",
       "       [  0,  34,   0,  34,   0,   0,   0,   0],\n",
       "       [  0,   0,   0,   3,   0,   0,   0,   3],\n",
       "       [  0,   0, 108, 108,   0,   0,   0,   0],\n",
       "       [ 22,   0,   0,   0,   0,   0,  22,   0],\n",
       "       [ 12,   0,   0,   0,   0,  12,   0,   0],\n",
       "       [ 91,   0,   0,   0,  91,   0,   0,   0],\n",
       "       [121, 121,   0,   0,   0,   0,   0,   0],\n",
       "       [111,   0,   0,   0,   0,   0,   0, 111],\n",
       "       [ 71,   0,  71,   0,   0,   0,   0,   0],\n",
       "       [  0,   0,   0,   0,   0,  39,  39,   0],\n",
       "       [  0,   0,   0,   0, 113,   0, 113,   0],\n",
       "       [  0, 130,   0,   0,   0,   0, 130,   0],\n",
       "       [  0,   0,   0,   0,   0,   0,  35,  35],\n",
       "       [  0,   0,  40,   0,   0,   0,  40,   0],\n",
       "       [  0,   0,   0,   0,  63,  63,   0,   0],\n",
       "       [  0,  21,   0,   0,   0,  21,   0,   0],\n",
       "       [  0,   0,   0,   0,   0,  57,   0,  57],\n",
       "       [  0,   0,  83,   0,   0,  83,   0,   0],\n",
       "       [  0,   9,   0,   0,   9,   0,   0,   0],\n",
       "       [  0,   0,   0,   0,  50,   0,   0,  50],\n",
       "       [  0,   0,  60,   0,  60,   0,   0,   0],\n",
       "       [  0,  27,   0,   0,   0,   0,   0,  27],\n",
       "       [  0,  81,  81,   0,   0,   0,   0,   0],\n",
       "       [  0,   0,  90,   0,   0,   0,   0,  90]], dtype=int32)"
      ]
     },
     "execution_count": 47,
     "metadata": {},
     "output_type": "execute_result"
    }
   ],
   "source": [
    "import re\n",
    "import numpy as np\n",
    "\n",
    "paths = []\n",
    "locations = []\n",
    "for x in data:\n",
    "    res = re.search(r\"(\\w+) to (\\w+) = (\\d+)\", x)\n",
    "    paths.append([res.group(1),res.group(2),res.group(3)])\n",
    "    locations.append(res.group(1))\n",
    "    locations.append(res.group(2))\n",
    "\n",
    "nodes = list(set(locations))\n",
    "nodes_with_index = {}\n",
    "i = 0\n",
    "for node in nodes:\n",
    "    nodes_with_index[node] = i\n",
    "    i += 1\n",
    "\n",
    "# Build weighted graph\n",
    "B = np.zeros((len(nodes_with_index.keys()), len(paths))).astype(np.int32)\n",
    "i = 0\n",
    "for path in paths:\n",
    "    B[nodes_with_index[path[0]], i] = path[2]\n",
    "    B[nodes_with_index[path[1]], i] = path[2]\n",
    "    \n",
    "    i += 1\n",
    "\n",
    "print(\"Weighted Graph. Columns are nodes, rows are edges\")\n",
    "B.T"
   ]
  },
  {
   "cell_type": "code",
   "execution_count": null,
   "id": "3d53f6d0-eee2-4cdf-b0c5-87a8079326fe",
   "metadata": {},
   "outputs": [],
   "source": []
  }
 ],
 "metadata": {
  "kernelspec": {
   "display_name": "Python 3 (ipykernel)",
   "language": "python",
   "name": "python3"
  },
  "language_info": {
   "codemirror_mode": {
    "name": "ipython",
    "version": 3
   },
   "file_extension": ".py",
   "mimetype": "text/x-python",
   "name": "python",
   "nbconvert_exporter": "python",
   "pygments_lexer": "ipython3",
   "version": "3.9.5"
  }
 },
 "nbformat": 4,
 "nbformat_minor": 5
}
