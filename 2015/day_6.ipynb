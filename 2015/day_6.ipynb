{
 "cells": [
  {
   "cell_type": "code",
   "execution_count": 172,
   "id": "fe005868-86b3-43c9-9916-7adc7d5ab3d4",
   "metadata": {},
   "outputs": [],
   "source": [
    "data = open(\"input/input_day_6.txt\", \"r\").read().split(\"\\n\")[:-1]"
   ]
  },
  {
   "cell_type": "code",
   "execution_count": 173,
   "id": "6fbe1c05-218c-4fa5-9d65-14e30375416b",
   "metadata": {},
   "outputs": [],
   "source": [
    "import re\n",
    "\n",
    "instructions = []\n",
    "\n",
    "for instruction in data:\n",
    "    res = re.search(r\"(\\w+) (\\d+\\,\\d+) .* (\\d+\\,\\d+)\", instruction)\n",
    "    \n",
    "    coord_1 = [int(x) for x in res.group(2).split(\",\")]\n",
    "    coord_2 = [int(x) for x in res.group(3).split(\",\")]\n",
    "    \n",
    "    instructions.append([res.group(1), coord_1, coord_2])"
   ]
  },
  {
   "cell_type": "code",
   "execution_count": 154,
   "id": "1c50adc1-526c-4c9c-b2a7-21a5ef951acf",
   "metadata": {},
   "outputs": [],
   "source": [
    "test_instructions = [\n",
    "    [\"on\", [0,0], [999,999]],\n",
    "    [\"toggle\", [0,0], [999,0]],\n",
    "    [\"off\", [499,499], [500,500]]\n",
    "]"
   ]
  },
  {
   "cell_type": "code",
   "execution_count": 159,
   "id": "6803495f-b447-4982-9698-2595524d27a5",
   "metadata": {},
   "outputs": [
    {
     "name": "stdout",
     "output_type": "stream",
     "text": [
      "400410\n"
     ]
    }
   ],
   "source": [
    "import numpy as np\n",
    "\n",
    "lights = np.zeros((1000,1000))\n",
    "\n",
    "for instruction in instructions:\n",
    "    command = instruction[0]\n",
    "    \n",
    "    # Instructions are inclusive 0:2 means 0,1,2 etc\n",
    "    # Numpy is exclusive 0:2 means 0,1. Hence we have to do 0:2+1 to get 0,1,2\n",
    "    # range is exclusive too\n",
    "    x1 = instruction[1][0]\n",
    "    y1 = instruction[1][1]\n",
    "    x2 = instruction[2][0]\n",
    "    y2 = instruction[2][1]\n",
    "    \n",
    "    if command == \"on\":\n",
    "        lights[x1:x2+1, y1:y2+1] = 1\n",
    "        \n",
    "    elif command == \"off\":\n",
    "        lights[x1:x2+1, y1:y2+1] = 0\n",
    "        \n",
    "    else:\n",
    "        for x in range(x1, x2+1):\n",
    "            for y in range(y1, y2+1):\n",
    "                lights[x,y] = 1 if lights[x,y] == 0 else 0\n",
    "\n",
    "nr_lights_on = 0\n",
    "for x in lights:\n",
    "    for y in x:\n",
    "        if y == 1:\n",
    "            nr_lights_on += 1\n",
    "            \n",
    "print(nr_lights_on)"
   ]
  },
  {
   "cell_type": "markdown",
   "id": "ce4f5cc2-d82d-45be-8924-7d0b3f122c8d",
   "metadata": {},
   "source": [
    "### Part 2"
   ]
  },
  {
   "cell_type": "code",
   "execution_count": 170,
   "id": "c321bb1a-c5e4-4672-8d26-c259265b1772",
   "metadata": {},
   "outputs": [],
   "source": [
    "test_instructions = [\n",
    "    [\"on\", [0,0], [0,0]],\n",
    "    [\"toggle\", [0,0], [999,999]],\n",
    "    #[\"off\", [499,499], [500,500]]\n",
    "]"
   ]
  },
  {
   "cell_type": "code",
   "execution_count": 176,
   "id": "3c95620f-d3f3-401c-ab07-6a7f22fd9531",
   "metadata": {},
   "outputs": [
    {
     "name": "stdout",
     "output_type": "stream",
     "text": [
      "15343601.0\n"
     ]
    }
   ],
   "source": [
    "import numpy as np\n",
    "\n",
    "lights = np.zeros((1000,1000))\n",
    "\n",
    "for instruction in instructions:\n",
    "    command = instruction[0]\n",
    "    \n",
    "    # Instructions are inclusive 0:2 means 0,1,2 etc\n",
    "    # Numpy is exclusive 0:2 means 0,1. Hence we have to do 0:2+1 to get 0,1,2\n",
    "    # range is exclusive too\n",
    "    x1 = instruction[1][0]\n",
    "    y1 = instruction[1][1]\n",
    "    x2 = instruction[2][0]\n",
    "    y2 = instruction[2][1]\n",
    "    \n",
    "    if command == \"on\":\n",
    "        lights[x1:x2+1, y1:y2+1] += 1\n",
    "        \n",
    "    elif command == \"off\":\n",
    "        for x in range(x1, x2+1):\n",
    "            for y in range(y1, y2+1):\n",
    "                lights[x,y] = max(0, lights[x,y] - 1)\n",
    "        \n",
    "    else:\n",
    "        for x in range(x1, x2+1):\n",
    "            for y in range(y1, y2+1):\n",
    "                lights[x,y] += 2\n",
    "\n",
    "total_brightness = lights.sum()\n",
    "            \n",
    "print(total_brightness)"
   ]
  }
 ],
 "metadata": {
  "kernelspec": {
   "display_name": "Python 3 (ipykernel)",
   "language": "python",
   "name": "python3"
  },
  "language_info": {
   "codemirror_mode": {
    "name": "ipython",
    "version": 3
   },
   "file_extension": ".py",
   "mimetype": "text/x-python",
   "name": "python",
   "nbconvert_exporter": "python",
   "pygments_lexer": "ipython3",
   "version": "3.9.5"
  }
 },
 "nbformat": 4,
 "nbformat_minor": 5
}
