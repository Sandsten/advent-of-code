{
 "cells": [
  {
   "cell_type": "markdown",
   "id": "4807b0ee-cd0c-4d13-9f0f-b67d41568fbc",
   "metadata": {},
   "source": [
    "Check if text is \"nice\"  \n",
    "\n",
    "* It contains at least three vowels (aeiou only), like aei, xazegov, or aeiouaeiouaeiou.\n",
    "* It contains at least one letter that appears twice in a row, like xx, abcdde (dd), or aabbccdd (aa, bb, cc, or dd).\n",
    "* It does not contain the strings ab, cd, pq, or xy, even if they are part of one of the other requirements.\n"
   ]
  },
  {
   "cell_type": "code",
   "execution_count": 4,
   "id": "5e191635-ca36-480a-a323-d9d16905520c",
   "metadata": {},
   "outputs": [],
   "source": [
    "data = open(\"input/input_day_5.txt\", \"r\").read().split(\"\\n\")[:-1]"
   ]
  },
  {
   "cell_type": "markdown",
   "id": "d50b56cd-146c-4e64-aa72-3314d0d014a0",
   "metadata": {},
   "source": [
    "### Part 1"
   ]
  },
  {
   "cell_type": "code",
   "execution_count": 29,
   "id": "67a65912-0cc8-4daf-8b39-d3aba7f00d77",
   "metadata": {},
   "outputs": [
    {
     "name": "stdout",
     "output_type": "stream",
     "text": [
      "258\n"
     ]
    }
   ],
   "source": [
    "def is_nice_string(x):\n",
    "    vowels = \"aeiou\"\n",
    "    invalid_pairs = [\"ab\", \"cd\", \"pq\", \"xy\"]\n",
    "    \n",
    "    vowel_count = 0\n",
    "    double_characters_exist = False\n",
    "    invalid_pair_exist = False;\n",
    "    \n",
    "    for i in range(0, len(x)-1):\n",
    "        pair = x[i:i+2]\n",
    "        \n",
    "        if pair in invalid_pairs:\n",
    "            invalid_pair_exist = True\n",
    "            break;\n",
    "        \n",
    "        if i == 0:\n",
    "            if pair[0] in vowels:\n",
    "                vowel_count += 1\n",
    "        \n",
    "        if pair[1] in vowels:\n",
    "            vowel_count += 1\n",
    "                    \n",
    "        if pair[0] == pair[1]:\n",
    "            double_characters_exist = True\n",
    "\n",
    "    return {\n",
    "        \"is_valid\": vowel_count >= 3 and double_characters_exist,\n",
    "        \"invalid_pair\": invalid_pair_exist,\n",
    "        \"nr_of_vowels\": vowel_count,\n",
    "        \"double_exist\": double_characters_exist \n",
    "    }    \n",
    "\n",
    "nr_of_nice_strings = 0\n",
    "for string_to_test in data:\n",
    "    test_result = is_nice_string(string_to_test)\n",
    "    if test_result[\"is_valid\"] and not test_result[\"invalid_pair\"]:\n",
    "        nr_of_nice_strings += 1\n",
    "        \n",
    "print(nr_of_nice_strings)"
   ]
  },
  {
   "cell_type": "markdown",
   "id": "f8f67740-5edc-4462-b435-fcaaae0ee47d",
   "metadata": {},
   "source": [
    "### Part 2\n",
    "\n",
    "Pair has to appear at least twice in the string without overlapping.  \n",
    "We can define overlap as \"two pairs should not share any index of their characters\"\n",
    "\n",
    "Not the most efficient method atm."
   ]
  },
  {
   "cell_type": "code",
   "execution_count": 105,
   "id": "a98b5f27-4320-49bb-a56b-ba93426ecd61",
   "metadata": {},
   "outputs": [
    {
     "name": "stdout",
     "output_type": "stream",
     "text": [
      "53\n"
     ]
    }
   ],
   "source": [
    "def is_string_nice(x):\n",
    "    \n",
    "    pairs = {}\n",
    "    in_between_count = 0\n",
    "    valid_pairs_count = 0\n",
    "    \n",
    "    for i in range(0,len(x)-1,1):\n",
    "        pair = x[i:i+2]\n",
    "        pos = [i,i+1]\n",
    "        \n",
    "        # Keep track of all pairs and their locations in the string\n",
    "        if pair in pairs:\n",
    "            pairs[pair][\"position\"].append(pos)\n",
    "        else:\n",
    "            pairs[pair] = {\"position\": [pos]}\n",
    "    \n",
    "    # Check for valid pairs\n",
    "    for k, v in pairs.items():\n",
    "        positions = v[\"position\"]\n",
    "        \n",
    "        # If we have more than one occurance of the pair\n",
    "        if len(positions) > 1: \n",
    "            \n",
    "            # Test all pairs against each other for overlap\n",
    "            for i in range(len(positions)):\n",
    "                pos_to_check = pos1 = positions[0]\n",
    "                \n",
    "                # Check if the indices exist in any other pair    \n",
    "                for j in range(i+1, len(positions)):\n",
    "                    \n",
    "                    if pos_to_check[0] in positions[j] or pos_to_check[1] in positions[j]:\n",
    "                        continue\n",
    "                    else:\n",
    "                        valid_pairs_count += 1\n",
    "                \n",
    "    \n",
    "    # Check for pair with letter in between\n",
    "    for i in range(0,len(x)-2,1):\n",
    "        j,k,l = x[i:i+3]\n",
    "        if j == l:\n",
    "            in_between_count += 1\n",
    "    \n",
    "    return in_between_count > 0 and valid_pairs_count > 0\n",
    "\n",
    "nr_of_nice_strings = 0\n",
    "test_data = [\"qjhvhtzxzqqjkmpb\", \"xxyxx\", \"uuurcxstgmygtbs\", \"ieodomkazucvgmuy\"]\n",
    "\n",
    "for string_to_test in data:\n",
    "    if is_string_nice(string_to_test):\n",
    "        nr_of_nice_strings += 1\n",
    "        \n",
    "print(nr_of_nice_strings)"
   ]
  }
 ],
 "metadata": {
  "kernelspec": {
   "display_name": "Python 3 (ipykernel)",
   "language": "python",
   "name": "python3"
  },
  "language_info": {
   "codemirror_mode": {
    "name": "ipython",
    "version": 3
   },
   "file_extension": ".py",
   "mimetype": "text/x-python",
   "name": "python",
   "nbconvert_exporter": "python",
   "pygments_lexer": "ipython3",
   "version": "3.9.5"
  }
 },
 "nbformat": 4,
 "nbformat_minor": 5
}
