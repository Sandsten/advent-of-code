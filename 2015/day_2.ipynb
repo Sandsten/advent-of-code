{
 "cells": [
  {
   "cell_type": "code",
   "execution_count": 1,
   "id": "9ef48916-8e08-4608-ade7-5645fe0e91f6",
   "metadata": {},
   "outputs": [],
   "source": [
    "data_raw = open(\"input/input_day_2.txt\", \"r\").read().split(\"\\n\")[:-1]"
   ]
  },
  {
   "cell_type": "code",
   "execution_count": 2,
   "id": "f47d252f-f14d-4fea-af27-1d6118e77bca",
   "metadata": {},
   "outputs": [],
   "source": [
    "data_formatted = [list(map(int,x.split(\"x\"))) for x in data_raw]"
   ]
  },
  {
   "cell_type": "markdown",
   "id": "4fbab157-1be1-4b93-91ff-24bd262b4891",
   "metadata": {},
   "source": [
    "### Part 1"
   ]
  },
  {
   "cell_type": "code",
   "execution_count": 3,
   "id": "21f7bae9-748e-4b63-ba06-78984df9a4df",
   "metadata": {},
   "outputs": [
    {
     "name": "stdout",
     "output_type": "stream",
     "text": [
      "The elves have to order 1598415 square feet of wrapping paper\n"
     ]
    }
   ],
   "source": [
    "def surface_area(dimensions):\n",
    "    l, w, h = dimensions\n",
    "    return 2*l*w + 2*w*h + 2*h*l\n",
    "\n",
    "def smallest_side_area(dimensions):\n",
    "    smallest_sides = sorted(dimensions)[0:2]\n",
    "    return smallest_sides[0] * smallest_sides[1]    \n",
    "\n",
    "total_ammount_of_paper = 0    \n",
    "for package_dimensions in data_formatted:\n",
    "    paper_for_package = surface_area(package_dimensions) + smallest_side_area(package_dimensions)\n",
    "    total_ammount_of_paper += paper_for_package\n",
    "    \n",
    "print(f\"The elves have to order {total_ammount_of_paper} square feet of wrapping paper\")"
   ]
  },
  {
   "cell_type": "markdown",
   "id": "59aa79b6-02b5-47c8-85e6-e91f6f1067d4",
   "metadata": {},
   "source": [
    "## Part 2"
   ]
  },
  {
   "cell_type": "code",
   "execution_count": 4,
   "id": "e2aa9a54-b4f2-42c1-8407-095c6ee347ee",
   "metadata": {},
   "outputs": [
    {
     "name": "stdout",
     "output_type": "stream",
     "text": [
      "The elves have to order 3812909 feet of ribbon\n"
     ]
    }
   ],
   "source": [
    "def shortest_perimeter(dimensions):\n",
    "    shortest_sides = sorted(dimensions)[0:2]\n",
    "    return shortest_sides[0]*2 + shortest_sides[1]*2\n",
    "\n",
    "def package_volume(dimensions):\n",
    "    l, w, h = dimensions\n",
    "    return l * w * h\n",
    "\n",
    "ribbon_length_tot = 0\n",
    "for package_dimensions in data_formatted:\n",
    "    ribbon_length_tot += shortest_perimeter(package_dimensions) + package_volume(package_dimensions)\n",
    "\n",
    "print(f\"The elves have to order {ribbon_length_tot} feet of ribbon\")"
   ]
  },
  {
   "cell_type": "code",
   "execution_count": null,
   "id": "4224aae5-9dfe-4adc-9e51-0cfad2664192",
   "metadata": {},
   "outputs": [],
   "source": []
  }
 ],
 "metadata": {
  "kernelspec": {
   "display_name": "Python 3 (ipykernel)",
   "language": "python",
   "name": "python3"
  },
  "language_info": {
   "codemirror_mode": {
    "name": "ipython",
    "version": 3
   },
   "file_extension": ".py",
   "mimetype": "text/x-python",
   "name": "python",
   "nbconvert_exporter": "python",
   "pygments_lexer": "ipython3",
   "version": "3.9.5"
  }
 },
 "nbformat": 4,
 "nbformat_minor": 5
}
