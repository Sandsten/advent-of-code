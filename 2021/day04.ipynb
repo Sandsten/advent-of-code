{
 "cells": [
  {
   "cell_type": "code",
   "execution_count": 1,
   "id": "c251e1dc-86d0-4f7e-91b9-9012134fe948",
   "metadata": {},
   "outputs": [
    {
     "data": {
      "text/plain": [
       "['59,91,13,82,8,32,74,96,55,51,19,47,46,44,5,21,95,71,48,60,68,81,80,14,23,28,26,78,12,22,49,1,83,88,39,53,84,37,93,24,42,7,56,20,92,90,25,36,34,52,27,50,85,75,89,63,33,4,66,17,98,57,3,9,54,0,94,29,79,61,45,86,16,30,77,76,6,38,70,62,72,43,69,35,18,97,73,41,40,64,67,31,58,11,15,87,65,2,10,99',\n",
       " '',\n",
       " '42 47 77 49 67',\n",
       " '64 82 32 94 78',\n",
       " '96 62 45 11 43',\n",
       " '55 92 81 66 88',\n",
       " '12 95 19 24 71',\n",
       " '',\n",
       " '96 40 25 11 89',\n",
       " '84 33 10 55 16']"
      ]
     },
     "execution_count": 1,
     "metadata": {},
     "output_type": "execute_result"
    }
   ],
   "source": [
    "with open(\"input/day4.txt\", \"r\") as file:\n",
    "    data = file.read()\n",
    "\n",
    "data = data.split(\"\\n\")\n",
    "data[:10]"
   ]
  },
  {
   "cell_type": "code",
   "execution_count": 2,
   "id": "84516d17-b3bc-45e3-9bf5-9e956ca04df6",
   "metadata": {},
   "outputs": [],
   "source": [
    "draw_order = [int(x) for x in data[0].split(\",\")]\n",
    "boards = []\n",
    "for i in range(2,len(data),6):\n",
    "    boards.append(data[i:i+5])"
   ]
  },
  {
   "cell_type": "code",
   "execution_count": 3,
   "id": "f79ca4cb-c256-42ce-ab6b-464503c0ec91",
   "metadata": {},
   "outputs": [],
   "source": [
    "import re\n",
    "\n",
    "class BingoBoard:\n",
    "    rows = []\n",
    "    has_had_bingo = False\n",
    "    \n",
    "    def __init__(self, board):\n",
    "        self.rows = []\n",
    "        for row in board:\n",
    "            # Match all the numbers in the row, they can be both single and double digit!\n",
    "            row_numbers = re.findall(r\"(\\d+)\\s+(\\d+)\\s+(\\d+)\\s+(\\d+)\\s+(\\d+)\", row)\n",
    "            self.rows.append(list(row_numbers[0]))\n",
    "    \n",
    "    # I assume each board has no duplicate numbers\n",
    "    def markNumber(self, number):\n",
    "        for i in range(5):\n",
    "            for j in range(5):\n",
    "                if self.rows[i][j] == str(number):\n",
    "                    self.rows[i][j] = \"X\"\n",
    "                    return True\n",
    "        return False\n",
    "    \n",
    "    def hasBingo(self):\n",
    "        # Check rows for bingo\n",
    "        for row in self.rows:\n",
    "            if row == [\"X\" for x in range(5)]:\n",
    "                self.has_had_bingo = True\n",
    "                return True\n",
    "        \n",
    "        # Check columns for bingo\n",
    "        for col in range(5):\n",
    "            bingo_counter = 0\n",
    "            for row in range(5):\n",
    "                if self.rows[row][col] == \"X\":\n",
    "                    bingo_counter += 1\n",
    "                else:\n",
    "                    # Go to next column since all values in the column has to be equal to X to have BINGO\n",
    "                    break\n",
    "                if bingo_counter == 5:\n",
    "                    self.has_had_bingo = True\n",
    "                    return True\n",
    "\n",
    "        return False\n",
    "    \n",
    "    def hasHadBingo(self):\n",
    "        return self.has_had_bingo\n",
    "    \n",
    "    def getScore(self, lastNumber):\n",
    "        non_marked_numbers = []\n",
    "        for i in range(5):\n",
    "            for j in range(5):\n",
    "                if self.rows[i][j] != \"X\":\n",
    "                    non_marked_numbers.append(int(self.rows[i][j]))\n",
    "        \n",
    "        return sum(non_marked_numbers) * lastNumber\n",
    "        \n",
    "    \n",
    "    def __str__(self):\n",
    "        board_str = \"\"\n",
    "        for row in self.rows:\n",
    "            board_str += str(row) + \"\\n\"\n",
    "        return board_str"
   ]
  },
  {
   "cell_type": "markdown",
   "id": "61e82ece-264c-4c1e-89be-72d40fb1e2e3",
   "metadata": {},
   "source": [
    "## Part 1\n",
    "Find the score of the first board with bingo"
   ]
  },
  {
   "cell_type": "code",
   "execution_count": 4,
   "id": "654371e1-6354-42d4-b3d0-149b6d521f38",
   "metadata": {},
   "outputs": [
    {
     "name": "stdout",
     "output_type": "stream",
     "text": [
      "46920\n"
     ]
    }
   ],
   "source": [
    "def part1():\n",
    "    bingo_boards = []\n",
    "    for board in boards:\n",
    "        bingo_boards.append(BingoBoard(board))\n",
    "\n",
    "    for number in draw_order:\n",
    "        for bingo_board in bingo_boards:\n",
    "            if bingo_board.markNumber(number):\n",
    "                if bingo_board.hasBingo():\n",
    "                    print(bingo_board.getScore(number))\n",
    "                    return\n",
    "\n",
    "part1()"
   ]
  },
  {
   "cell_type": "markdown",
   "id": "b8f65093-310f-4c58-9056-0f52acaecc4a",
   "metadata": {},
   "source": [
    "## Part 2\n",
    "Find the score of the last board with bingo"
   ]
  },
  {
   "cell_type": "code",
   "execution_count": 5,
   "id": "f7f8167a-7194-47c0-b96c-8738733cab17",
   "metadata": {},
   "outputs": [
    {
     "name": "stdout",
     "output_type": "stream",
     "text": [
      "Last board with bingo has a score of: 12635\n"
     ]
    }
   ],
   "source": [
    "def part2():\n",
    "    bingo_boards = []\n",
    "    for board in boards:\n",
    "        bingo_boards.append(BingoBoard(board))\n",
    "    \n",
    "    scores = []\n",
    "    \n",
    "    for number in draw_order:\n",
    "        for bingo_board in bingo_boards:\n",
    "            if bingo_board.hasHadBingo():\n",
    "                continue\n",
    "            if bingo_board.markNumber(number):\n",
    "                if bingo_board.hasBingo():\n",
    "                    scores.append(bingo_board.getScore(number))\n",
    "    \n",
    "    print(f\"Last board with bingo has a score of: {scores[-1]}\")\n",
    "    \n",
    "part2()"
   ]
  }
 ],
 "metadata": {
  "kernelspec": {
   "display_name": "Python 3",
   "language": "python",
   "name": "python3"
  },
  "language_info": {
   "codemirror_mode": {
    "name": "ipython",
    "version": 3
   },
   "file_extension": ".py",
   "mimetype": "text/x-python",
   "name": "python",
   "nbconvert_exporter": "python",
   "pygments_lexer": "ipython3",
   "version": "3.8.8"
  }
 },
 "nbformat": 4,
 "nbformat_minor": 5
}
