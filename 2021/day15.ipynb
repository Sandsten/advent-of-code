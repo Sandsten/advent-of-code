{
 "cells": [
  {
   "cell_type": "markdown",
   "id": "acaf82d9-580e-422b-9451-c772c89d444e",
   "metadata": {},
   "source": [
    "## Part 1\n",
    "Find the shortest path from the top left to bottom right.  \n",
    "Each value can be seen as the distance to it from its neighbors."
   ]
  },
  {
   "cell_type": "code",
   "execution_count": 67,
   "id": "1b7e80e5-9b97-458c-bc0e-69f81b0a791c",
   "metadata": {},
   "outputs": [],
   "source": [
    "with open(\"input/day15.txt\", \"r\") as f:\n",
    "    graph = [[int(x) for x in y.strip()] for y in f.readlines()]"
   ]
  },
  {
   "cell_type": "code",
   "execution_count": 69,
   "id": "2398994b-23d2-41de-90b0-7ad30c52deb6",
   "metadata": {},
   "outputs": [],
   "source": [
    "\"\"\"\n",
    "Run this section for part 2\n",
    "It will increase the widh and height by a factor of five\n",
    "and fill the new space according to the rules\n",
    "\"\"\"\n",
    "times_larger = 5\n",
    "extended_graph = [[0 for x in range(len(graph[0])*times_larger)] for y in range(len(graph)*times_larger)]\n",
    "\n",
    "original_width = len(graph[0])\n",
    "original_height = len(graph)\n",
    "\n",
    "for y in range(len(extended_graph)):\n",
    "    for x in range(len(extended_graph[0])):\n",
    "        x_ref = x % original_width\n",
    "        y_ref = y % original_height\n",
    "        val = graph[y_ref][x_ref]        \n",
    "        \n",
    "        extra_x = int((x/original_width))\n",
    "        extra_y = int((y/original_height))\n",
    "        \n",
    "        val += extra_x + extra_y\n",
    "        \n",
    "        # Trick for wrapping from 9 to 1\n",
    "        val -= 1\n",
    "        val %= 9\n",
    "        val += 1\n",
    "        \n",
    "        extended_graph[y][x] = val\n",
    "        \n",
    "graph = extended_graph"
   ]
  },
  {
   "cell_type": "code",
   "execution_count": 70,
   "id": "c2e890e1-88c0-41cb-bfc4-0df8767356d8",
   "metadata": {},
   "outputs": [
    {
     "name": "stdout",
     "output_type": "stream",
     "text": [
      "[0, 0], [499, 499]\n"
     ]
    }
   ],
   "source": [
    "start_node = [0,0]\n",
    "goal_node = [len(graph[0])-1, len(graph)-1]\n",
    "print(f\"{start_node}, {goal_node}\")"
   ]
  },
  {
   "cell_type": "markdown",
   "id": "7069341a-bc7a-47f4-90a6-922e979f5aad",
   "metadata": {},
   "source": [
    "### Djikstra's Algorithm\n",
    "https://en.wikipedia.org/wiki/Dijkstra%27s_algorithm"
   ]
  },
  {
   "cell_type": "code",
   "execution_count": 79,
   "id": "bfb0f3b5-49af-4802-b131-d508bfa1ce8f",
   "metadata": {},
   "outputs": [
    {
     "name": "stdout",
     "output_type": "stream",
     "text": [
      "Goal Reached!\n",
      "2858\n",
      "Lowest risk is 2858\n"
     ]
    }
   ],
   "source": [
    "import math\n",
    "\n",
    "unvisited_set = [[True for x in y] for y in graph]\n",
    "tentative_distance = [[math.inf for x in y] for y in graph]\n",
    "tentative_distance[0][0] = 0\n",
    "prev_node = [[[] for x in y] for y in graph]\n",
    "\n",
    "def getUnvisitedNeighbors(node):\n",
    "    neighbor_dirs = [[0,1],[0,-1],[1,0],[-1,0]]    \n",
    "    neighbors = []\n",
    "    for direction in neighbor_dirs:\n",
    "        x = node[0] + direction[0]\n",
    "        y = node[1] + direction[1]\n",
    "        if x < 0 or y < 0 or x >= len(graph[0]) or y >= len(graph):\n",
    "            continue\n",
    "        if unvisited_set[y][x]:\n",
    "            neighbors.append([x,y])\n",
    "    return neighbors\n",
    "\n",
    "frontier = [start_node]\n",
    "while frontier != []:\n",
    "    node = frontier.pop()\n",
    "    if node == goal_node:\n",
    "        print(\"Goal Reached!\")\n",
    "        break\n",
    "    x,y = node\n",
    "    current_distance = tentative_distance[y][x]\n",
    "    neighbors = getUnvisitedNeighbors(node)\n",
    "    for neighbor in neighbors:\n",
    "        nx, ny = neighbor\n",
    "        neighbor_distance = graph[ny][nx]\n",
    "        new_tentative_dist_to_neighbor = current_distance + neighbor_distance\n",
    "        if new_tentative_dist_to_neighbor < tentative_distance[ny][nx]:\n",
    "            tentative_distance[ny][nx] = new_tentative_dist_to_neighbor\n",
    "            prev_node[ny][nx] = node\n",
    "            frontier.insert(0,[nx,ny])\n",
    "    \n",
    "    # TODO: Need to find a faster way of always picking the smallest frontier\n",
    "    frontier = sorted(frontier, key=lambda x: -tentative_distance[x[1]][x[0]])\n",
    "    \n",
    "    unvisited_set[y][x] = False\n",
    "print(f\"Lowest risk is {tentative_distance[goal_node[1]][goal_node[0]]}\")"
   ]
  },
  {
   "cell_type": "markdown",
   "id": "63706186-b913-486d-8e75-5853e2f26e8d",
   "metadata": {},
   "source": [
    "## Fun visualization of the shortest path"
   ]
  },
  {
   "cell_type": "code",
   "execution_count": 85,
   "id": "fc197c1f-b6fb-4c96-b5ad-362ee133d2a7",
   "metadata": {},
   "outputs": [],
   "source": [
    "import png\n",
    "\n",
    "path = []\n",
    "prev = goal_node\n",
    "while prev != []:\n",
    "    path.insert(0,prev)\n",
    "    x,y = prev\n",
    "    prev = prev_node[y][x]\n",
    "\n",
    "image = []\n",
    "for y in range(len(graph)):\n",
    "    row = []\n",
    "    for x in range(len(graph[0])):\n",
    "        if [x,y] in path:\n",
    "            row.append(255)\n",
    "        else:\n",
    "            row.append(0)\n",
    "    image.append(row)\n",
    "    \n",
    "png.from_array(image, 'L').save(\"figures/day15_path.png\")"
   ]
  },
  {
   "cell_type": "code",
   "execution_count": 87,
   "id": "66540e1b-3e70-481b-af34-efaf34fa8c45",
   "metadata": {},
   "outputs": [
    {
     "data": {
      "image/png": "[encoded data removed]",
      "text/plain": [
       "<IPython.core.display.Image object>"
      ]
     },
     "execution_count": 87,
     "metadata": {},
     "output_type": "execute_result"
    }
   ],
   "source": [
    "from IPython.display import Image\n",
    "Image(filename=\"figures/day15_path.png\") "
   ]
  }
 ],
 "metadata": {
  "kernelspec": {
   "display_name": "Python 3",
   "language": "python",
   "name": "python3"
  },
  "language_info": {
   "codemirror_mode": {
    "name": "ipython",
    "version": 3
   },
   "file_extension": ".py",
   "mimetype": "text/x-python",
   "name": "python",
   "nbconvert_exporter": "python",
   "pygments_lexer": "ipython3",
   "version": "3.8.8"
  }
 },
 "nbformat": 4,
 "nbformat_minor": 5
}
