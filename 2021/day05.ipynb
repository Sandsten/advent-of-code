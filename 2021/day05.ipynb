{
 "cells": [
  {
   "cell_type": "code",
   "execution_count": 1,
   "id": "932bcef8-cf27-4c86-aa9d-ad79ed03b495",
   "metadata": {},
   "outputs": [],
   "source": [
    "import sys\n",
    "sys.path.append(\"../adventofcodehelpers\")\n",
    "from adventofcodehelpers import readFile"
   ]
  },
  {
   "cell_type": "code",
   "execution_count": 4,
   "id": "8c31f824-dd19-45fa-b98a-3dae91162888",
   "metadata": {},
   "outputs": [
    {
     "data": {
      "text/plain": [
       "['491,392 -> 34,392',\n",
       " '337,52 -> 485,52',\n",
       " '256,605 -> 256,959',\n",
       " '889,142 -> 153,878',\n",
       " '189,59 -> 512,382']"
      ]
     },
     "execution_count": 4,
     "metadata": {},
     "output_type": "execute_result"
    }
   ],
   "source": [
    "data = readFile(\"input/day5.txt\")\n",
    "data[:5]"
   ]
  },
  {
   "cell_type": "markdown",
   "id": "eabc378e-b371-40d9-a0ef-d464f01bb358",
   "metadata": {},
   "source": [
    "## Part 1\n",
    "Onyl consider horizontal and vertical lines  \n",
    "## Part 2\n",
    "Include all lines. Some lines will have an angle of exactly 45 degrees "
   ]
  },
  {
   "cell_type": "code",
   "execution_count": 58,
   "id": "ef3a9ece-27a1-40e0-9a65-5d041605d7ab",
   "metadata": {},
   "outputs": [
    {
     "name": "stdout",
     "output_type": "stream",
     "text": [
      "20666\n"
     ]
    }
   ],
   "source": [
    "import math\n",
    "\n",
    "# Vec2 class for grid with only whole numbers\n",
    "class Vec2:\n",
    "    def __init__(self, x, y):\n",
    "        self.x = x\n",
    "        self.y = y\n",
    "\n",
    "    def subtract(self, v2):\n",
    "        return Vec2(self.x - v2.x, self.y - v2.y)\n",
    "    \n",
    "    def add(self, v2):\n",
    "        return Vec2(self.x + v2.x, self.y + v2.y)\n",
    "    \n",
    "    def magnitude(self):\n",
    "        return math.sqrt(self.x * self.x + self.y * self.y)\n",
    "    \n",
    "    # Since we can only have inegers and vectors at 45 degrees it's fine to just round to nearest integer\n",
    "    def normalize(self):\n",
    "        length = self.magnitude()\n",
    "        x = self.x / length\n",
    "        y = self.y / length\n",
    "        x = round(x)\n",
    "        y = round(y)\n",
    "        return Vec2(x,y)\n",
    "    \n",
    "    def __eq__(self, other):\n",
    "        return self.x == other.x and self.y == other.y\n",
    "    \n",
    "    def __str__(self):\n",
    "        return f\"({self.x},{self.y})\"\n",
    "    \n",
    "# Only horizontal or vertical lines in part 1\n",
    "def interpolate(p1,p2):\n",
    "    p1 = Vec2(p1[0], p1[1])\n",
    "    p2 = Vec2(p2[0], p2[1])\n",
    "\n",
    "    direction = p1.subtract(p2).normalize()\n",
    "    \n",
    "    line = [p2]\n",
    "    while line[-1] != p1:\n",
    "        next_line_segment = line[-1].add(direction)\n",
    "        line.append(next_line_segment)\n",
    "    \n",
    "    return line\n",
    "\n",
    "hydro_thermal_locations_counter = {}\n",
    "\n",
    "for line_edges in data[:]:\n",
    "    p1, p2 = line_edges.split(\" -> \")\n",
    "    p1 = p1.split(\",\")\n",
    "    p1 = [int(x) for x in p1]\n",
    "    p2 = p2.split(\",\")\n",
    "    p2 = [int(x) for x in p2]\n",
    "    \n",
    "    # For part 1, only consider vertical and horizontal lines\n",
    "    #if p1[0] == p2[0] or p1[1] == p2[1]:\n",
    "\n",
    "    line = interpolate(p1, p2)\n",
    "    \n",
    "    for segment in line:\n",
    "        key = str(segment)\n",
    "        if key in hydro_thermal_locations_counter:\n",
    "            hydro_thermal_locations_counter[key] += 1\n",
    "        else:\n",
    "            hydro_thermal_locations_counter[key] = 1\n",
    "\n",
    "counter = 0 # Count how many locations have 2 or more\n",
    "for key in hydro_thermal_locations_counter:\n",
    "    if hydro_thermal_locations_counter[key] >= 2:\n",
    "        counter += 1\n",
    "print(counter)"
   ]
  }
 ],
 "metadata": {
  "kernelspec": {
   "display_name": "Python 3",
   "language": "python",
   "name": "python3"
  },
  "language_info": {
   "codemirror_mode": {
    "name": "ipython",
    "version": 3
   },
   "file_extension": ".py",
   "mimetype": "text/x-python",
   "name": "python",
   "nbconvert_exporter": "python",
   "pygments_lexer": "ipython3",
   "version": "3.8.8"
  }
 },
 "nbformat": 4,
 "nbformat_minor": 5
}
