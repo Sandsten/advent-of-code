{
 "cells": [
  {
   "cell_type": "code",
   "execution_count": 44,
   "id": "7579ce6c-d394-4090-b2f3-9b92a8387d20",
   "metadata": {},
   "outputs": [],
   "source": [
    "with open(\"input/day14.txt\", \"r\") as f:\n",
    "    template, rules = f.read().split(\"\\n\\n\")\n",
    "\n",
    "template = [x for x in template]\n",
    "rules = rules.strip().split(\"\\n\")\n",
    "    \n",
    "rules_table = {}\n",
    "for rule in rules:\n",
    "    rule = rule.strip()\n",
    "    key, value = rule.split(\" -> \")\n",
    "    rules_table[key] = value"
   ]
  },
  {
   "cell_type": "markdown",
   "id": "de739eac-ae2d-4098-8098-40dbeecd17c4",
   "metadata": {},
   "source": [
    "## Part 1"
   ]
  },
  {
   "cell_type": "code",
   "execution_count": 45,
   "id": "738677c2-1529-46c9-8238-59d391a87905",
   "metadata": {},
   "outputs": [
    {
     "name": "stdout",
     "output_type": "stream",
     "text": [
      "After 10 iterations, the secret key is: 2975\n"
     ]
    }
   ],
   "source": [
    "sequence = template.copy()\n",
    "iterations = 10\n",
    "for t in range(iterations):\n",
    "    for i in range(0, len(sequence)*2-2,2):\n",
    "        pair = \"\".join(sequence[i:i+2])\n",
    "        in_between = rules_table[pair]\n",
    "        sequence.insert(i+1,in_between)\n",
    "\n",
    "element_counter = {}\n",
    "for element in sequence:\n",
    "    if element in element_counter:\n",
    "        element_counter[element] += 1\n",
    "    else:\n",
    "        element_counter[element] = 1\n",
    "\n",
    "element_counter = dict(sorted(element_counter.items(), key=lambda x:x[1]))\n",
    "element_counter_keys = list(element_counter.keys())\n",
    "secret = element_counter[element_counter_keys[-1]] - element_counter[element_counter_keys[0]]\n",
    "print(f\"After {iterations} iterations, the secret key is: {secret}\")"
   ]
  },
  {
   "cell_type": "markdown",
   "id": "01605015-2119-402f-a1cd-29f0a48d811a",
   "metadata": {},
   "source": [
    "## Part 2\n",
    "We only have to keep track of the pairs, the order doesn't matter.  \n",
    "New approach is to keep track of how many times each pair XY occurs.  \n",
    "Then just see which two new pairs spawn when inserting an element in between XNY -> XN & NY.  \n",
    "Then add XN and NY to their respective trackers the same number of times as XY occurs.  \n",
    "And to keep track of how many times each element occurs, create a counter for each element which increase with the in between elements. Since the in between numbers are the only new elements introduced."
   ]
  },
  {
   "cell_type": "code",
   "execution_count": 43,
   "id": "6447062c-01d6-46cf-9669-cf9902473e3a",
   "metadata": {},
   "outputs": [
    {
     "name": "stdout",
     "output_type": "stream",
     "text": [
      "After 40 iterations, the secret key is: 3015383850689\n"
     ]
    }
   ],
   "source": [
    "sequence = template.copy()\n",
    "\n",
    "# Create a base dictionary for zeroing the count for number of pairs\n",
    "# zeroing occurs at the beginning of each iteration.\n",
    "pairs_counter_zero = rules_table.copy()\n",
    "for key in pairs_counter_zero:\n",
    "    pairs_counter_zero[key] = 0\n",
    "\n",
    "# Initialize pair counter with the base sequence\n",
    "pairs_counter = pairs_counter_zero.copy()    \n",
    "for i in range(len(sequence)-1):\n",
    "    pair = \"\".join(sequence[i:i+2])\n",
    "    pairs_counter[pair] += 1\n",
    "\n",
    "# Initialize the element counter with the base sequence\n",
    "element_counter = {}\n",
    "for element in sequence:\n",
    "    if element in element_counter:\n",
    "        element_counter[element] += 1\n",
    "    else:\n",
    "        element_counter[element] = 1\n",
    "\n",
    "iterations = 40\n",
    "for t in range(iterations):\n",
    "    pairs_counter_next = pairs_counter_zero.copy()\n",
    "    for pair, count in pairs_counter.items():\n",
    "        if count == 0:\n",
    "            continue\n",
    "        between = rules_table[pair]\n",
    "        new_pair_1 = pair[0] + between\n",
    "        new_pair_2 = between + pair[1]\n",
    "        pairs_counter_next[new_pair_1] += count\n",
    "        pairs_counter_next[new_pair_2] += count\n",
    "        \n",
    "        # The only new elements added are the in between ones!\n",
    "        if between in element_counter:\n",
    "            element_counter[between] += count\n",
    "        else:\n",
    "            element_counter[between] = count\n",
    "    \n",
    "    pairs_counter = pairs_counter_next\n",
    "\n",
    "element_counter = dict(sorted(element_counter.items(), key=lambda x:x[1]))\n",
    "element_counter_keys = list(element_counter.keys())\n",
    "secret = element_counter[element_counter_keys[-1]] - element_counter[element_counter_keys[0]]\n",
    "print(f\"After {iterations} iterations, the secret key is: {secret}\")"
   ]
  }
 ],
 "metadata": {
  "kernelspec": {
   "display_name": "Python 3",
   "language": "python",
   "name": "python3"
  },
  "language_info": {
   "codemirror_mode": {
    "name": "ipython",
    "version": 3
   },
   "file_extension": ".py",
   "mimetype": "text/x-python",
   "name": "python",
   "nbconvert_exporter": "python",
   "pygments_lexer": "ipython3",
   "version": "3.8.8"
  }
 },
 "nbformat": 4,
 "nbformat_minor": 5
}
