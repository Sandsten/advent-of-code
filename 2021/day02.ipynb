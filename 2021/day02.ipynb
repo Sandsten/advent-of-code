{
 "cells": [
  {
   "cell_type": "code",
   "execution_count": 28,
   "id": "603ddcb1-7dde-4b62-acaa-9d29b26fd89e",
   "metadata": {},
   "outputs": [],
   "source": [
    "import sys\n",
    "sys.path.append(\"../adventofcodehelpers\")\n",
    "import adventofcodehelpers"
   ]
  },
  {
   "cell_type": "code",
   "execution_count": 29,
   "id": "2eab2f0a-51e8-4e63-948f-2436f488af84",
   "metadata": {},
   "outputs": [],
   "source": [
    "data = adventofcodehelpers.readFile(\"input/day2.txt\")\n",
    "data = [x.split(\" \") for x in data]"
   ]
  },
  {
   "cell_type": "markdown",
   "id": "5d5a5e84-0f74-4c00-b631-1d7384d84d5f",
   "metadata": {},
   "source": [
    "## Part 1"
   ]
  },
  {
   "cell_type": "code",
   "execution_count": 30,
   "id": "8e4a5ba8-f8f3-4414-8e78-0cf06746059e",
   "metadata": {},
   "outputs": [
    {
     "name": "stdout",
     "output_type": "stream",
     "text": [
      "Final position is: horizontal: 2050, vertical: 826\n",
      "Secret key: 2050 * 826 = 1693300\n"
     ]
    }
   ],
   "source": [
    "horizontal_pos = 0\n",
    "vertical_pos = 0\n",
    "\n",
    "for instruction in data:\n",
    "    direction = instruction[0]\n",
    "    nr_steps = int(instruction[1])\n",
    "    if (direction == \"forward\"):\n",
    "        horizontal_pos += nr_steps\n",
    "    elif (direction == \"up\"):\n",
    "        vertical_pos -= nr_steps\n",
    "    elif (direction == \"down\"):\n",
    "        vertical_pos += nr_steps\n",
    "\n",
    "print(f\"Final position is: horizontal: {horizontal_pos}, vertical: {vertical_pos}\")\n",
    "print(f\"Secret key: {horizontal_pos} * {vertical_pos} = {horizontal_pos * vertical_pos}\")"
   ]
  },
  {
   "cell_type": "markdown",
   "id": "248aaed4-7820-4905-abdc-2831af8afcfe",
   "metadata": {},
   "source": [
    "## Part 2"
   ]
  },
  {
   "cell_type": "code",
   "execution_count": 20,
   "id": "2874d5bd-73e3-4e4c-9e1b-e40022539428",
   "metadata": {},
   "outputs": [
    {
     "name": "stdout",
     "output_type": "stream",
     "text": [
      "Final position is: horizontal: 2050, vertical: 906321\n",
      "Secret key: 2050 * 906321 = 1857958050\n"
     ]
    }
   ],
   "source": [
    "horizontal_pos = 0\n",
    "vertical_pos = 0\n",
    "aim = 0\n",
    "\n",
    "for instruction in data:\n",
    "    direction = instruction[0]\n",
    "    nr_steps = int(instruction[1])\n",
    "    if (direction == \"forward\"):\n",
    "        horizontal_pos += nr_steps\n",
    "        vertical_pos += aim * nr_steps\n",
    "    elif (direction == \"up\"):\n",
    "        aim -= nr_steps\n",
    "    elif (direction == \"down\"):\n",
    "        aim += nr_steps\n",
    "\n",
    "print(f\"Final position is: horizontal: {horizontal_pos}, vertical: {vertical_pos}\")\n",
    "print(f\"Secret key: {horizontal_pos} * {vertical_pos} = {horizontal_pos * vertical_pos}\")"
   ]
  }
 ],
 "metadata": {
  "kernelspec": {
   "display_name": "Python 3",
   "language": "python",
   "name": "python3"
  },
  "language_info": {
   "codemirror_mode": {
    "name": "ipython",
    "version": 3
   },
   "file_extension": ".py",
   "mimetype": "text/x-python",
   "name": "python",
   "nbconvert_exporter": "python",
   "pygments_lexer": "ipython3",
   "version": "3.8.8"
  }
 },
 "nbformat": 4,
 "nbformat_minor": 5
}
