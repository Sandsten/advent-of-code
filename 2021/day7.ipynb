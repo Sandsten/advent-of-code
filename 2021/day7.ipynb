{
 "cells": [
  {
   "cell_type": "code",
   "execution_count": 59,
   "id": "2b8064ce-b803-4c27-ae43-d5085ddf17f7",
   "metadata": {},
   "outputs": [],
   "source": [
    "import math"
   ]
  },
  {
   "cell_type": "code",
   "execution_count": 60,
   "id": "090c0352-f26b-458f-9730-e38929017e7b",
   "metadata": {},
   "outputs": [],
   "source": [
    "with open(\"input/day7.txt\", \"r\") as f:\n",
    "    data = [int(x) for x in f.readline().strip().split(\",\")]"
   ]
  },
  {
   "cell_type": "markdown",
   "id": "c686bbab-5c73-4414-a31b-5828c195feab",
   "metadata": {},
   "source": [
    "For part 2 we can use Gauss formula for the sum of consecutive numbers between 0 to n  \n",
    "$Sum\\ of\\ all\\ numbers\\ between\\ 0\\ and\\ n\\ = \\Huge\\frac{n(n + 1)}{2}$"
   ]
  },
  {
   "cell_type": "code",
   "execution_count": 61,
   "id": "30b938b3-bfa5-492f-b395-033e908f3733",
   "metadata": {},
   "outputs": [
    {
     "name": "stdout",
     "output_type": "stream",
     "text": [
      "The minimum ammount of fuel they can spend to align is 94004208 units.\n",
      "Which they do when aligning at position 474\n"
     ]
    }
   ],
   "source": [
    "#data = [16,1,2,0,4,2,7,1,2,14]\n",
    "\n",
    "min_pos = min(data)\n",
    "max_pos = max(data)\n",
    "\n",
    "min_fuel = [math.inf, math.inf]\n",
    "for pos in range(min_pos, max_pos + 1):\n",
    "    fuel_cost = 0\n",
    "    for crab_pos in data:\n",
    "        ## Part 1\n",
    "        #fuel_cost += abs(pos - crab_pos)\n",
    "        ## Part 2\n",
    "        distance = abs(pos - crab_pos)\n",
    "        fuel_cost += int((distance * (distance + 1))/2)\n",
    "    if fuel_cost < min_fuel[0]:\n",
    "        min_fuel[0] = fuel_cost\n",
    "        min_fuel[1] = pos\n",
    "\n",
    "print(f\"The minimum ammount of fuel they can spend to align is {min_fuel[0]} units.\\nWhich they do when aligning at position {min_fuel[1]}\")"
   ]
  }
 ],
 "metadata": {
  "kernelspec": {
   "display_name": "Python 3",
   "language": "python",
   "name": "python3"
  },
  "language_info": {
   "codemirror_mode": {
    "name": "ipython",
    "version": 3
   },
   "file_extension": ".py",
   "mimetype": "text/x-python",
   "name": "python",
   "nbconvert_exporter": "python",
   "pygments_lexer": "ipython3",
   "version": "3.8.8"
  }
 },
 "nbformat": 4,
 "nbformat_minor": 5
}
