{
 "cells": [
  {
   "cell_type": "code",
   "execution_count": 137,
   "id": "21c1a592-49f1-4bba-b3c2-bae432dfd348",
   "metadata": {},
   "outputs": [],
   "source": [
    "with open(\"input/day13.txt\", \"r\") as f:\n",
    "    dots, folds = f.read().split(\"\\n\\n\")\n",
    "    dots = [[int(y) for y in x.split(\",\")] for x in dots.split(\"\\n\")]\n",
    "    folds = [x.replace(\"fold along \",\"\").split(\"=\") for x in folds.split(\"\\n\")][:-1]\n",
    "    folds = [[x[0], int(x[1])] for x in folds]"
   ]
  },
  {
   "cell_type": "markdown",
   "id": "6a925fd6-1813-4199-84e0-34b25473abe8",
   "metadata": {},
   "source": [
    "## Part 1\n",
    "What's the number of dots after the first fold?\n",
    "\n",
    "## Part 2\n",
    "What is the code seen on the paper after applying all the folds?"
   ]
  },
  {
   "cell_type": "code",
   "execution_count": 139,
   "id": "b68277c0-6488-4b21-9e72-bbfce0a5a992",
   "metadata": {},
   "outputs": [
    {
     "name": "stdout",
     "output_type": "stream",
     "text": [
      "Folding along x at position 655\n",
      "Nr of dots after the first fold = 775\n",
      "\n",
      "Folding along y at position 447\n",
      "Folding along x at position 327\n",
      "Folding along y at position 223\n",
      "Folding along x at position 163\n",
      "Folding along y at position 111\n",
      "Folding along x at position 81\n",
      "Folding along y at position 55\n",
      "Folding along x at position 40\n",
      "Folding along y at position 27\n",
      "Folding along y at position 13\n",
      "Folding along y at position 6\n",
      "\n",
      "Paper after applying all the folds\n",
      "###..####.#..#.###..#..#.###..#..#.###..\n",
      "#..#.#....#..#.#..#.#..#.#..#.#.#..#..#.\n",
      "#..#.###..#..#.#..#.#..#.#..#.##...#..#.\n",
      "###..#....#..#.###..#..#.###..#.#..###..\n",
      "#.#..#....#..#.#....#..#.#....#.#..#.#..\n",
      "#..#.####..##..#.....##..#....#..#.#..#.\n"
     ]
    }
   ],
   "source": [
    "# Find the max and min values of X and Y to initialize a grid\n",
    "max_x = 0\n",
    "max_y = 0\n",
    "for dot in dots:\n",
    "    if dot[0] > max_x:\n",
    "        max_x = dot[0]\n",
    "    if dot[1] > max_y:\n",
    "        max_y = dot[1]\n",
    "paper = [[\".\" for x in range(max_x + 1)] for y in range(max_y + 1)]\n",
    "\n",
    "# Mark the grid with the given dots\n",
    "for dot in dots:\n",
    "    x,y = dot\n",
    "    paper[y][x] = \"#\"\n",
    "\n",
    "# Apply the folds\n",
    "for i,fold in enumerate(folds):\n",
    "    orientation, where = fold\n",
    "    \n",
    "    print(f\"Folding along {orientation} at position {where}\")\n",
    "    \n",
    "    if orientation == \"y\":\n",
    "        for x in range(len(paper[0])):\n",
    "            for y in range(1,(len(paper) - where)):\n",
    "                current = paper[where - y][x]\n",
    "                mirror = paper[where + y][x]\n",
    "                paper[where-y][x] = \"#\" if current == \"#\" or mirror == \"#\" else \".\"\n",
    "\n",
    "        paper = paper[:where]\n",
    "        \n",
    "    else:\n",
    "        for y in range(len(paper)):\n",
    "            for x in range(1,(len(paper[0]) - where)):\n",
    "                current = paper[y][where - x]\n",
    "                mirror = paper[y][where + x]\n",
    "                paper[y][where - x] = \"#\" if current == \"#\" or mirror == \"#\" else \".\"\n",
    "        \n",
    "        new_paper = []\n",
    "        for row in paper:\n",
    "            new_paper.append(row[:where])\n",
    "        paper = new_paper\n",
    "    \n",
    "    if i == 0:\n",
    "        nr_dots = 0\n",
    "        for row in paper:\n",
    "            for dot in row:\n",
    "                if dot == \"#\":\n",
    "                    nr_dots += 1\n",
    "        print(f\"Nr of dots after the first fold = {nr_dots}\\n\")\n",
    "    \n",
    "print(f\"\\nPaper after applying all the folds\")\n",
    "for row in paper:\n",
    "    print(\"\".join(row))"
   ]
  },
  {
   "cell_type": "markdown",
   "id": "1e0a2f15-dd27-4018-bc7f-6f121d9bba3f",
   "metadata": {},
   "source": [
    "REUPUPKR"
   ]
  }
 ],
 "metadata": {
  "kernelspec": {
   "display_name": "Python 3",
   "language": "python",
   "name": "python3"
  },
  "language_info": {
   "codemirror_mode": {
    "name": "ipython",
    "version": 3
   },
   "file_extension": ".py",
   "mimetype": "text/x-python",
   "name": "python",
   "nbconvert_exporter": "python",
   "pygments_lexer": "ipython3",
   "version": "3.8.8"
  }
 },
 "nbformat": 4,
 "nbformat_minor": 5
}
