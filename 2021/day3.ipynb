{
 "cells": [
  {
   "cell_type": "code",
   "execution_count": 1,
   "id": "9409ca14-5b60-437e-9b6c-d7b8e2912912",
   "metadata": {},
   "outputs": [],
   "source": [
    "import sys\n",
    "sys.path.append(\"../adventofcodehelpers\")\n",
    "from adventofcodehelpers import readFile"
   ]
  },
  {
   "cell_type": "code",
   "execution_count": 2,
   "id": "01d47e7f-1574-4e6a-aab8-83d04b61a351",
   "metadata": {},
   "outputs": [
    {
     "data": {
      "text/plain": [
       "['011010010110',\n",
       " '101110100110',\n",
       " '011011011110',\n",
       " '100011010001',\n",
       " '011011100111',\n",
       " '011000100101',\n",
       " '101101011001',\n",
       " '010001001001',\n",
       " '100010110111',\n",
       " '001110110101']"
      ]
     },
     "execution_count": 2,
     "metadata": {},
     "output_type": "execute_result"
    }
   ],
   "source": [
    "diagnostic_report = readFile(\"input/day3.txt\")\n",
    "diagnostic_report[:10]"
   ]
  },
  {
   "cell_type": "code",
   "execution_count": 3,
   "id": "be57e86b-12ab-42d4-8929-b13dd4808dba",
   "metadata": {},
   "outputs": [
    {
     "name": "stdout",
     "output_type": "stream",
     "text": [
      "We have 1000 nr of data points\n",
      "Each data point consist of 12 bits\n"
     ]
    }
   ],
   "source": [
    "nr_of_data_points = len(diagnostic_report)\n",
    "nr_of_bits = len(diagnostic_report[0])\n",
    "\n",
    "print(f\"We have {nr_of_data_points} nr of data points\")\n",
    "print(f\"Each data point consist of {nr_of_bits} bits\")"
   ]
  },
  {
   "cell_type": "code",
   "execution_count": 4,
   "id": "3aaeeaa3-cbe9-40ab-858b-14f2d2768907",
   "metadata": {},
   "outputs": [],
   "source": [
    "def binaryToDecimal(binary):\n",
    "    decimal = 0\n",
    "    for i, bit in enumerate(reversed(binary)):\n",
    "        decimal += bit * pow(2,i)\n",
    "    return decimal"
   ]
  },
  {
   "cell_type": "markdown",
   "id": "81a3da7b-03aa-4f80-8308-7cbb58698170",
   "metadata": {},
   "source": [
    "# Part 1: Get the power consumption\n",
    "Multiply **gamma rate** with **epsilon rating** to get the power consumption\n",
    "* Count the number of ones at each bit pos  \n",
    "* Gamma rate: convert to one data point. If ones are in majority, the bit at that pos becomes a 1, else 0\n",
    "* Epsilon rate: inverted gamma rate"
   ]
  },
  {
   "cell_type": "code",
   "execution_count": 5,
   "id": "048bd276-c82b-4355-a6d6-e5c8446f9e7e",
   "metadata": {},
   "outputs": [
    {
     "name": "stdout",
     "output_type": "stream",
     "text": [
      "The power consumption of the submarine is 841526 units\n"
     ]
    }
   ],
   "source": [
    "nr_of_one_bits_at_each_pos = [0 for x in range(nr_of_bits)]\n",
    "\n",
    "# Count the number of 1 at each bit position\n",
    "for data_point in diagnostic_report:\n",
    "    for i in range(nr_of_bits):\n",
    "        nr_of_one_bits_at_each_pos[i] += int(data_point[i])\n",
    "\n",
    "# If 1 is in majority, convert to a 1 else 0\n",
    "gamma_rate = [1 if x > nr_of_data_points/2 else 0 for x in nr_of_one_bits_at_each_pos]\n",
    "# epsilon is the inverse\n",
    "epsilon_rate = [0 if x == 1 else 1 for x in gamma_rate]\n",
    "\n",
    "power_consumptions = binaryToDecimal(gamma_rate) * binaryToDecimal(epsilon_rate)\n",
    "print(f\"The power consumption of the submarine is {power_consumptions} units\")"
   ]
  },
  {
   "cell_type": "markdown",
   "id": "73454a39-b508-421e-9a15-0576f04e05b7",
   "metadata": {},
   "source": [
    "# Part 2: Verify life support rating  \n",
    "Multiply **oxygen generator rating** with **CO2 scrubber rating** to get the life support rating\n",
    "\n"
   ]
  },
  {
   "cell_type": "code",
   "execution_count": 39,
   "id": "1ad61a40-d514-4d64-ac34-ad85e2e66625",
   "metadata": {},
   "outputs": [],
   "source": [
    "def filterValues(diagnostic_report, most_common):\n",
    "    filtered_values = diagnostic_report.copy()\n",
    "    value_found = False\n",
    "    while not value_found:\n",
    "        for i in range(nr_of_bits):\n",
    "            with_ones_at_pos = []\n",
    "            with_zeros_at_pos = []\n",
    "            for data_point in filtered_values:\n",
    "                if data_point[i] == \"1\":\n",
    "                    with_ones_at_pos.append(data_point)\n",
    "                else:\n",
    "                    with_zeros_at_pos.append(data_point)\n",
    "\n",
    "            if len(with_ones_at_pos) >= len(with_zeros_at_pos):\n",
    "                if most_common:\n",
    "                    filtered_values = with_ones_at_pos\n",
    "                else:\n",
    "                    filtered_values = with_zeros_at_pos\n",
    "            else:\n",
    "                if most_common:\n",
    "                    filtered_values = with_zeros_at_pos\n",
    "                else:\n",
    "                    filtered_values = with_ones_at_pos\n",
    "\n",
    "            if len(filtered_values) == 1:\n",
    "                value_found = True\n",
    "                break\n",
    "\n",
    "    return [int(x) for x in filtered_values[0]]"
   ]
  },
  {
   "cell_type": "code",
   "execution_count": 42,
   "id": "7a431889-c121-4ad3-8925-9014f8127e9e",
   "metadata": {},
   "outputs": [
    {
     "name": "stdout",
     "output_type": "stream",
     "text": [
      "The life support rating has a value of 4790390\n"
     ]
    }
   ],
   "source": [
    "oxygen_generator_rating = binaryToDecimal(filterValues(diagnostic_report, True))\n",
    "co2_scrubber_rating = binaryToDecimal(filterValues(diagnostic_report, False))\n",
    "\n",
    "print(f\"The life support rating has a value of {oxygen_generator_rating * co2_scrubber_rating}\")"
   ]
  }
 ],
 "metadata": {
  "kernelspec": {
   "display_name": "Python 3",
   "language": "python",
   "name": "python3"
  },
  "language_info": {
   "codemirror_mode": {
    "name": "ipython",
    "version": 3
   },
   "file_extension": ".py",
   "mimetype": "text/x-python",
   "name": "python",
   "nbconvert_exporter": "python",
   "pygments_lexer": "ipython3",
   "version": "3.8.8"
  }
 },
 "nbformat": 4,
 "nbformat_minor": 5
}
