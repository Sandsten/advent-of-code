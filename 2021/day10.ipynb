{
 "cells": [
  {
   "cell_type": "code",
   "execution_count": 24,
   "id": "f870a976-19ea-474a-980c-2b41c834d3e2",
   "metadata": {},
   "outputs": [],
   "source": [
    "with open(\"input/day10.txt\", \"r\") as f:\n",
    "    data = [x.strip() for x in f.readlines()]"
   ]
  },
  {
   "cell_type": "markdown",
   "id": "27e04a2a-8f9c-4e71-b4b4-fc581aa84018",
   "metadata": {},
   "source": [
    "## Part 1"
   ]
  },
  {
   "cell_type": "code",
   "execution_count": 25,
   "id": "d0635f75-9003-4127-943c-3fd34832224c",
   "metadata": {},
   "outputs": [
    {
     "data": {
      "text/plain": [
       "442131"
      ]
     },
     "execution_count": 25,
     "metadata": {},
     "output_type": "execute_result"
    }
   ],
   "source": [
    "opening = [\"(\",\"[\",\"{\",\"<\"]\n",
    "closing = [\")\",\"]\",\"}\",\">\"]\n",
    "\n",
    "error_score = 0\n",
    "\n",
    "for row in data:\n",
    "    open_stack = []\n",
    "    for character in [x for x in row]:\n",
    "        if character in opening:\n",
    "            open_stack.append(character)\n",
    "        else:\n",
    "            index = closing.index(character)\n",
    "            if open_stack.pop() != opening[index]:\n",
    "                if character == \")\":\n",
    "                    error_score += 3\n",
    "                elif character == \"]\":\n",
    "                    error_score += 57\n",
    "                elif character == \"}\":\n",
    "                    error_score += 1197\n",
    "                else:\n",
    "                    error_score += 25137\n",
    "                break\n",
    "        \n",
    "    \n",
    "error_score"
   ]
  },
  {
   "cell_type": "markdown",
   "id": "5cd424c4-333c-486a-934b-353cd4ca6c21",
   "metadata": {},
   "source": [
    "## Part 2"
   ]
  },
  {
   "cell_type": "code",
   "execution_count": 26,
   "id": "b0d5f887-2d77-4614-9c4f-01e438f5d072",
   "metadata": {},
   "outputs": [
    {
     "data": {
      "text/plain": [
       "3646451424"
      ]
     },
     "execution_count": 26,
     "metadata": {},
     "output_type": "execute_result"
    }
   ],
   "source": [
    "opening = [\"(\",\"[\",\"{\",\"<\"]\n",
    "closing = [\")\",\"]\",\"}\",\">\"]\n",
    "\n",
    "remaining_openings = []\n",
    "\n",
    "for row in data:\n",
    "    open_stack = []\n",
    "    corrupt = False\n",
    "    for character in [x for x in row]:\n",
    "        if character in opening:\n",
    "            open_stack.append(character)\n",
    "        else:\n",
    "            index = closing.index(character)\n",
    "            if open_stack.pop() != opening[index]:\n",
    "                if character == \")\":\n",
    "                    error_score += 3\n",
    "                elif character == \"]\":\n",
    "                    error_score += 57\n",
    "                elif character == \"}\":\n",
    "                    error_score += 1197\n",
    "                else:\n",
    "                    error_score += 25137\n",
    "                corrupt = True\n",
    "                break\n",
    "            \n",
    "    if not corrupt:\n",
    "        remaining_openings.append(open_stack)\n",
    "        \n",
    "all_scores = []\n",
    "for row in remaining_openings:\n",
    "    score = 0\n",
    "    while row != []:\n",
    "        matching_close = closing[opening.index(row.pop())]\n",
    "        score *= 5\n",
    "        if matching_close == \")\":\n",
    "            score += 1\n",
    "        elif matching_close == \"]\":\n",
    "            score += 2\n",
    "        elif matching_close == \"}\":\n",
    "            score += 3\n",
    "        else:\n",
    "            score += 4\n",
    "    \n",
    "    all_scores.append(score)\n",
    "\n",
    "sorted(all_scores)[int(len(all_scores)/2)]"
   ]
  }
 ],
 "metadata": {
  "kernelspec": {
   "display_name": "Python 3",
   "language": "python",
   "name": "python3"
  },
  "language_info": {
   "codemirror_mode": {
    "name": "ipython",
    "version": 3
   },
   "file_extension": ".py",
   "mimetype": "text/x-python",
   "name": "python",
   "nbconvert_exporter": "python",
   "pygments_lexer": "ipython3",
   "version": "3.8.8"
  }
 },
 "nbformat": 4,
 "nbformat_minor": 5
}
