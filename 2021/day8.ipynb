{
 "cells": [
  {
   "cell_type": "code",
   "execution_count": 76,
   "id": "bca4c28e-0f7f-4c9a-bb16-4d4c1f9376fa",
   "metadata": {},
   "outputs": [],
   "source": [
    "test_data = [\"be cfbegad cbdgef fgaecd cgeb fdcge agebfd fecdb fabcd edb | fdgacbe cefdb cefbgd gcbe\",\n",
    "\"edbfga begcd cbg gc gcadebf fbgde acbgfd abcde gfcbed gfec | fcgedb cgb dgebacf gc\",\n",
    "\"fgaebd cg bdaec gdafb agbcfd gdcbef bgcad gfac gcb cdgabef | cg cg fdcagb cbg\",\n",
    "\"fbegcd cbd adcefb dageb afcb bc aefdc ecdab fgdeca fcdbega | efabcd cedba gadfec cb\",\n",
    "\"aecbfdg fbg gf bafeg dbefa fcge gcbea fcaegb dgceab fcbdga | gecf egdcabf bgf bfgea\",\n",
    "\"fgeab ca afcebg bdacfeg cfaedg gcfdb baec bfadeg bafgc acf | gebdcfa ecba ca fadegcb\",\n",
    "\"dbcfg fgd bdegcaf fgec aegbdf ecdfab fbedc dacgb gdcebf gf | cefg dcbef fcge gbcadfe\",\n",
    "\"bdfegc cbegaf gecbf dfcage bdacg ed bedf ced adcbefg gebcd | ed bcgafe cdgba cbgef\",\n",
    "\"egadfb cdbfeg cegd fecab cgb gbdefca cg fgcdab egfdb bfceg | gbdfcae bgc cg cgb\",\n",
    "\"gcafb gcf dcaebfg ecagb gf abcdeg gaef cafbge fdbac fegbdc | fgae cfgab fg bagce\"]\n",
    "test_data = [x.strip().split(\" | \") for x in test_data]\n",
    "test_data = [[y.split(\" \") for y in x] for x in test_data]\n",
    "\n",
    "with open(\"input/day8.txt\", \"r\") as f:\n",
    "    data = [x.strip().split(\" | \") for x in f.readlines()]\n",
    "    data = [[y.split(\" \") for y in x] for x in data]"
   ]
  },
  {
   "cell_type": "markdown",
   "id": "ba2a9d90-9d21-450f-a33a-ec241952d9c1",
   "metadata": {},
   "source": [
    "# Part 1"
   ]
  },
  {
   "cell_type": "code",
   "execution_count": 22,
   "id": "8fc1b8fd-b073-487d-a34c-6627ddf5ae63",
   "metadata": {},
   "outputs": [
    {
     "name": "stdout",
     "output_type": "stream",
     "text": [
      "255\n"
     ]
    }
   ],
   "source": [
    "unique_counter = 0\n",
    "for line in data:\n",
    "    for output in line[1]:\n",
    "        if len(output) in [2,4,3,7]:\n",
    "            unique_counter += 1\n",
    "            \n",
    "print(unique_counter)"
   ]
  },
  {
   "cell_type": "markdown",
   "id": "632af940-a988-4643-88a7-e1c4514ad9de",
   "metadata": {},
   "source": [
    "## Part 2\n",
    "The numbers 1, 4, 7 & 8 use a unique number of segments. So we always know which combination of signals produce those numbers  \n",
    "1 -> 2 segments  \n",
    "4 -> 4 segments  \n",
    "7 -> 3 segments  \n",
    "8 -> 7 segments  \n",
    "\n",
    "9,6,0 -> 6 segments  \n",
    "2,3,5 -> 5 segments  \n",
    "\n",
    "### Numbers with 6 segments (9, 6, 0)\n",
    "Check how many segments each number share with the unique numbers.   \n",
    "All numbers with 6 segments share a unique number of segments with the unique ones.  \n",
    "No need to check against number 8 since all will match 6 segments  \n",
    "\n",
    "**9**\n",
    "* Shares 2 segments with number 1\n",
    "* Shares 4 segments with number 4\n",
    "* Shares 3 segments with number 7  \n",
    "Sum = 3 + 4 + 2 = 9\n",
    "\n",
    "**6**  \n",
    "* Shares 1 segment with number 1\n",
    "* Shares 3 segments with number 4\n",
    "* Shares 2 segments with number 7  \n",
    "Sum = 1 + 3 + 2 = 6\n",
    "\n",
    "**0**\n",
    "* Shares 2 segments with number 1\n",
    "* Shares 3 segments with number 4\n",
    "* Shares 3 segments with number 7  \n",
    "Sum = 2 + 3 + 3 = 8  \n",
    "\n",
    "### Numbers with 5 segments. (2, 3, 5)  \n",
    "Unique number of matches with unique numbers.  \n",
    "So the same principle can be applied here as with numbers of 6 segments\n",
    "\n",
    "**2**  \n",
    "* Shares 1 segment with number 1\n",
    "* Shares 2 segments with number 4\n",
    "* Shares 2 segments with number 7  \n",
    "Sum = 1 + 2 + 2 = 5  \n",
    "\n",
    "**3**  \n",
    "* Shares 2 segments with number 1  \n",
    "* Shares 3 segments with number 4\n",
    "* Shares 3 segments with number 7  \n",
    "Sum = 2 + 3 + 3 = 8  \n",
    "\n",
    "**5**  \n",
    "* Shares 1 segment with number 1\n",
    "* Shares 3 segments with number 4  \n",
    "* Shares 2 segments with number 7  \n",
    "Sum = 1 + 3 + 2 = 6"
   ]
  },
  {
   "cell_type": "code",
   "execution_count": 75,
   "id": "0f8754d0-6257-41e6-9c23-e53b574cb168",
   "metadata": {},
   "outputs": [
    {
     "name": "stdout",
     "output_type": "stream",
     "text": [
      "982158\n"
     ]
    }
   ],
   "source": [
    "output_total_sum = 0\n",
    "\n",
    "for line in data:\n",
    "    lookup_table = {} \n",
    "    unknowns = []\n",
    "    \n",
    "    # Find which sequence represent the unique numbers\n",
    "    for sequence in line[0]:\n",
    "        if len(sequence) == 2:\n",
    "            lookup_table[sequence] = 1\n",
    "        elif len(sequence) == 4:\n",
    "            lookup_table[sequence] = 4\n",
    "        elif len(sequence) == 3:\n",
    "            lookup_table[sequence] = 7\n",
    "        elif len(sequence) == 7:\n",
    "            lookup_table[sequence] = 8\n",
    "        else:\n",
    "            unknowns.append(sequence)\n",
    "    \n",
    "    uniques = lookup_table.copy()\n",
    "\n",
    "    # Check the number of matching segments with the unique ones\n",
    "    for unknown in unknowns:\n",
    "        nr_of_matching_segments = 0\n",
    "        for segment in [x for x in unknown]:\n",
    "            for key in uniques.keys():\n",
    "                if segment in [x for x in key]:\n",
    "                    nr_of_matching_segments += 1\n",
    "        \n",
    "        # Remove the match count from number 8, which is the same for each category of unknowns\n",
    "        # TODO: Just skip checking against number 8 instead\n",
    "        nr_of_matching_segments -= len(unknown)\n",
    "        \n",
    "        if len(unknown) == 5:\n",
    "            if nr_of_matching_segments == 5:\n",
    "                lookup_table[unknown] = 2\n",
    "            elif nr_of_matching_segments == 8:\n",
    "                lookup_table[unknown] = 3\n",
    "            elif nr_of_matching_segments == 6:\n",
    "                lookup_table[unknown] = 5\n",
    "        elif len(unknown) == 6:\n",
    "            if nr_of_matching_segments == 9:\n",
    "                lookup_table[unknown] = 9\n",
    "            elif nr_of_matching_segments == 6:\n",
    "                lookup_table[unknown] = 6\n",
    "            elif nr_of_matching_segments == 8:\n",
    "                lookup_table[unknown] = 0\n",
    "                \n",
    "    \"\"\"\n",
    "    The output segment sequences are not in the same order as on the input side\n",
    "    if for example bafdgc is the number 0 on the left side, it might be dgcbaf on the right side\n",
    "    hence why i compare the sorted versions to make sure they are in the same order\n",
    "    \"\"\"\n",
    "    number = \"\"\n",
    "    for output in line[1]:\n",
    "        for key in lookup_table.keys():\n",
    "            if sorted([x for x in output]) == sorted([x for x in key]):\n",
    "                number += str(lookup_table[key])\n",
    "    \n",
    "    output_total_sum += int(number)\n",
    "    \n",
    "print(output_total_sum)"
   ]
  }
 ],
 "metadata": {
  "kernelspec": {
   "display_name": "Python 3",
   "language": "python",
   "name": "python3"
  },
  "language_info": {
   "codemirror_mode": {
    "name": "ipython",
    "version": 3
   },
   "file_extension": ".py",
   "mimetype": "text/x-python",
   "name": "python",
   "nbconvert_exporter": "python",
   "pygments_lexer": "ipython3",
   "version": "3.8.8"
  }
 },
 "nbformat": 4,
 "nbformat_minor": 5
}
