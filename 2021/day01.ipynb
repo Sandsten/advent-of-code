{
 "cells": [
  {
   "cell_type": "code",
   "execution_count": 11,
   "id": "c612cc0f-0ee0-4f72-9a59-8ac19515f862",
   "metadata": {},
   "outputs": [],
   "source": [
    "data = open(\"input/day1.txt\", \"r\").readlines()\n",
    "data = [int(x.strip()) for x in data]"
   ]
  },
  {
   "cell_type": "code",
   "execution_count": 35,
   "id": "07993275-ce64-4256-93fc-d4ec292b8e3d",
   "metadata": {},
   "outputs": [
    {
     "name": "stdout",
     "output_type": "stream",
     "text": [
      "There are 1477 measurments larger than the previous one\n"
     ]
    }
   ],
   "source": [
    "nr_of_times_increased = 0\n",
    "for i in range(1,len(data)):\n",
    "    if data[i-1] - data[i] < 0:\n",
    "        nr_of_times_increased += 1\n",
    "print(f\"There are {nr_of_times_increased} measurments larger than the previous one\")"
   ]
  },
  {
   "cell_type": "code",
   "execution_count": 37,
   "id": "ac4436dd-36be-42ee-bf15-a75380f7696c",
   "metadata": {},
   "outputs": [
    {
     "name": "stdout",
     "output_type": "stream",
     "text": [
      "There are 1523 measurments larger than the previous one when using a window of 3\n"
     ]
    }
   ],
   "source": [
    "nr_of_times_increased = 0\n",
    "prev_sum = None\n",
    "for i in range(2,len(data)):\n",
    "    current_sum = sum(data[i-3:i]) # first iter indices [0,1,2]\n",
    "    if (prev_sum != None):\n",
    "        if(prev_sum - current_sum < 0):\n",
    "            nr_of_times_increased += 1\n",
    "    \n",
    "    prev_sum = current_sum\n",
    "    \n",
    "print(f\"There are {nr_of_times_increased} measurments larger than the previous one when using a window of 3\")"
   ]
  }
 ],
 "metadata": {
  "kernelspec": {
   "display_name": "Python 3",
   "language": "python",
   "name": "python3"
  },
  "language_info": {
   "codemirror_mode": {
    "name": "ipython",
    "version": 3
   },
   "file_extension": ".py",
   "mimetype": "text/x-python",
   "name": "python",
   "nbconvert_exporter": "python",
   "pygments_lexer": "ipython3",
   "version": "3.8.8"
  }
 },
 "nbformat": 4,
 "nbformat_minor": 5
}
