{
 "cells": [
  {
   "cell_type": "code",
   "execution_count": 79,
   "id": "1cc7a21c-0534-4ad3-b146-9ab99d479651",
   "metadata": {},
   "outputs": [],
   "source": [
    "with open(\"input/day11.txt\", \"r\") as f:\n",
    "    data = [[int(y) for y in x.strip()] for x in f.readlines()]"
   ]
  },
  {
   "cell_type": "code",
   "execution_count": 80,
   "id": "2cc26250-302c-4839-9522-288b5e9ed57c",
   "metadata": {},
   "outputs": [
    {
     "data": {
      "text/plain": [
       "[[5, 4, 8, 3, 1, 4, 3, 2, 2, 3],\n",
       " [2, 7, 4, 5, 8, 5, 4, 7, 1, 1],\n",
       " [5, 2, 6, 4, 5, 5, 6, 1, 7, 3],\n",
       " [6, 1, 4, 1, 3, 3, 6, 1, 4, 6],\n",
       " [6, 3, 5, 7, 3, 8, 5, 4, 7, 8],\n",
       " [4, 1, 6, 7, 5, 2, 4, 6, 4, 5],\n",
       " [2, 1, 7, 6, 8, 4, 1, 7, 2, 1],\n",
       " [6, 8, 8, 2, 8, 8, 1, 1, 3, 4],\n",
       " [4, 8, 4, 6, 8, 4, 8, 5, 5, 4],\n",
       " [5, 2, 8, 3, 7, 5, 1, 5, 2, 6]]"
      ]
     },
     "execution_count": 80,
     "metadata": {},
     "output_type": "execute_result"
    }
   ],
   "source": [
    "test_data = [\"5483143223\",\n",
    "\"2745854711\",\n",
    "\"5264556173\",\n",
    "\"6141336146\",\n",
    "\"6357385478\",\n",
    "\"4167524645\",\n",
    "\"2176841721\",\n",
    "\"6882881134\",\n",
    "\"4846848554\",\n",
    "\"5283751526\"]\n",
    "test_data = [[int(y) for y in x] for x in test_data]\n",
    "test_data"
   ]
  },
  {
   "cell_type": "markdown",
   "id": "317790fe-6aa6-4add-a2ec-e3eb882c2e0f",
   "metadata": {},
   "source": [
    "* First, the energy level of each octopus increases by 1.\n",
    "* Then, any octopus with an energy level greater than 9 flashes. This increases the energy level of all adjacent octopuses by 1, including octopuses that are diagonally adjacent. If this causes an octopus to have an energy level greater than 9, it also flashes. This process continues as long as new octopuses keep having their energy level increased beyond 9. (An octopus can only flash at most once per step.)\n",
    "* Finally, any octopus that flashed during this step has its energy level set to 0, as it used all of its energy to flash.\n",
    "\n",
    "## Part 1\n",
    "How many flashes has occurred after 100 time steps?\n",
    "## Part 2\n",
    "During which time step do all octopuses flash at the same time"
   ]
  },
  {
   "cell_type": "code",
   "execution_count": 92,
   "id": "16ba9e66-c1de-43d3-b861-d91e40afcee6",
   "metadata": {},
   "outputs": [
    {
     "name": "stdout",
     "output_type": "stream",
     "text": [
      "Total number of flashes after 100 time steps: 1755st\n",
      "All octopuses flash at the same time after time step: 212\n"
     ]
    }
   ],
   "source": [
    "from copy import deepcopy\n",
    "\n",
    "#data = test_data\n",
    "\n",
    "adjacent_dirs = []\n",
    "for x in [-1,0,1]:\n",
    "    for y in [-1,0,1]:\n",
    "        adjacent_dirs.append([x,y])\n",
    "adjacent_dirs.remove([0,0])  \n",
    "\n",
    "nr_of_steps = 300\n",
    "rows = len(data)\n",
    "cols = len(data[0])\n",
    "octopuses = deepcopy(data)\n",
    "\n",
    "total_nr_of_flashes = 0\n",
    "\n",
    "# Flash octopuses with an energy level of 9 or greater\n",
    "# Mark flashed with an X\n",
    "# Increase adjacent octopuses energy level by 1 except if it's marked by an X\n",
    "# Repeat untill there are no octopuses with an energy level greater than 9\n",
    "for t in range(1,nr_of_steps+1):\n",
    "    will_flash = []\n",
    "    \n",
    "    # Increase energy level by 1 for all octopuses\n",
    "    for i in range(rows):\n",
    "        for j in range(cols):\n",
    "            octopuses[i][j] += 1\n",
    "            if octopuses[i][j] > 9:\n",
    "                will_flash.append([j,i])\n",
    "\n",
    "    while will_flash != []:\n",
    "        # Mark this ocopus as flashed\n",
    "        flash_next_x,flash_next_y = will_flash.pop()\n",
    "        octopuses[flash_next_y][flash_next_x] = \"X\"\n",
    "        total_nr_of_flashes += 1\n",
    "        \n",
    "        # Check all adjacent octopuses\n",
    "        for direction in adjacent_dirs:\n",
    "            adjacent_x = flash_next_x + direction[0]\n",
    "            adjacent_y = flash_next_y + direction[1]\n",
    "            \n",
    "            if adjacent_x < 0 or adjacent_y < 0 or adjacent_x >= cols or adjacent_y >= rows:\n",
    "                continue\n",
    "            # No need to do anything with octopuses that have flashed or will flash\n",
    "            if octopuses[adjacent_y][adjacent_x] == \"X\":\n",
    "                continue\n",
    "            if [adjacent_x, adjacent_y] in will_flash:\n",
    "                continue\n",
    "            \n",
    "            # Increase energy and chech if it should flash in this time step\n",
    "            octopuses[adjacent_y][adjacent_x] += 1\n",
    "            if octopuses[adjacent_y][adjacent_x] > 9:\n",
    "                will_flash.append([adjacent_x,adjacent_y])\n",
    "     \n",
    "    if t == 100:\n",
    "        print(f\"Total number of flashes after 100 time steps: {total_nr_of_flashes}st\")\n",
    "\n",
    "    # Replace all X with 0\n",
    "    time_step_flash_count = 0\n",
    "    for i in range(rows):\n",
    "        for j in range(cols):\n",
    "            if octopuses[i][j] == \"X\":\n",
    "                octopuses[i][j] = 0\n",
    "                time_step_flash_count += 1\n",
    "    \n",
    "    if time_step_flash_count == rows*cols:\n",
    "        print(f\"All octopuses flash at the same time after time step: {t}\")\n",
    "        break"
   ]
  }
 ],
 "metadata": {
  "kernelspec": {
   "display_name": "Python 3 (ipykernel)",
   "language": "python",
   "name": "python3"
  },
  "language_info": {
   "codemirror_mode": {
    "name": "ipython",
    "version": 3
   },
   "file_extension": ".py",
   "mimetype": "text/x-python",
   "name": "python",
   "nbconvert_exporter": "python",
   "pygments_lexer": "ipython3",
   "version": "3.9.5"
  }
 },
 "nbformat": 4,
 "nbformat_minor": 5
}
