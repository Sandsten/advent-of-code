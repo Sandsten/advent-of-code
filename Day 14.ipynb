{
 "cells": [
  {
   "cell_type": "markdown",
   "metadata": {},
   "source": [
    "# Day 14: Docking Data"
   ]
  },
  {
   "cell_type": "markdown",
   "metadata": {},
   "source": [
    "## Part 1\n",
    "Memory represented as 36-bit unsigned integers  \n",
    "In other words 36 numbers as ones or zeros  \n",
    "Input starts of with a 36-bit mask followed by values assigned to specific addresses in memory.  \n",
    "What we have to do is to convert the value we try to store into binary, apply the mask, convert to a value, store in the memory location.  \n",
    "Once this is done for all input data, sum the values which exist in memory."
   ]
  },
  {
   "cell_type": "code",
   "execution_count": 1,
   "metadata": {
    "ExecuteTime": {
     "end_time": "2021-01-01T14:32:40.450040Z",
     "start_time": "2021-01-01T14:32:40.444042Z"
    }
   },
   "outputs": [],
   "source": [
    "import re"
   ]
  },
  {
   "cell_type": "code",
   "execution_count": 2,
   "metadata": {
    "ExecuteTime": {
     "end_time": "2021-01-01T14:32:40.466040Z",
     "start_time": "2021-01-01T14:32:40.451042Z"
    }
   },
   "outputs": [],
   "source": [
    "program = open(\"input/input-day-14.txt\", \"r\").read().split(\"\\n\")[:-1]"
   ]
  },
  {
   "cell_type": "code",
   "execution_count": 7,
   "metadata": {
    "ExecuteTime": {
     "end_time": "2021-01-01T14:36:50.563862Z",
     "start_time": "2021-01-01T14:36:50.542862Z"
    }
   },
   "outputs": [
    {
     "name": "stdout",
     "output_type": "stream",
     "text": [
      "Sum of all values in memory: 17934269678453\n"
     ]
    }
   ],
   "source": [
    "pattern_1 = re.compile(r\"(^mask) = (([0-1]|X)+)\") # Pattern for finding if a line has a mask\n",
    "pattern_2 = re.compile(r\"^mem\\[(\\d+)\\] = (\\d+)\") # Pattern for finding the memory address and the value stored at it\n",
    "\n",
    "memory = {}\n",
    "\n",
    "for line in program:\n",
    "    match_mask = pattern_1.search(line)\n",
    "    \n",
    "    if(match_mask):\n",
    "        mask = match_mask.group(2)\n",
    "        continue\n",
    "    \n",
    "    match_mem = pattern_2.search(line)\n",
    "    \n",
    "    if(match_mem):\n",
    "        memory_address = match_mem.group(1)\n",
    "        value = int(match_mem.group(2))\n",
    "        \n",
    "        # Convert value to binary\n",
    "        bin_value = bin(value)[2:]\n",
    "        # Zero filled \"36-bit\" array\n",
    "        bin_value_extended = [0 for x in range(36)] \n",
    "        # add our binary value to the appropriate location in the 36-bit array\n",
    "        bin_value_extended[-len(bin_value):] = bin_value \n",
    "\n",
    "        # Apply mask\n",
    "        for i, mask_val in enumerate([x for x in mask]):\n",
    "            if mask_val == \"X\":\n",
    "                continue\n",
    "            bin_value_extended[i] = mask_val\n",
    "        \n",
    "        # Join our list to a single string\n",
    "        new_bin = \"\".join(map(str,bin_value_extended))\n",
    "        # Convert our binary value back to decimal\n",
    "        new_val = int(new_bin, 2)\n",
    "        \n",
    "        # Store the new decimal value in its appropriate memory location\n",
    "        memory[memory_address] = new_val\n",
    "\n",
    "\n",
    "# Calculate the sum for our answer\n",
    "sum_of_values = 0\n",
    "for address in memory.keys():\n",
    "    sum_of_values += memory[address]\n",
    "    \n",
    "print(\"Sum of all values in memory:\", sum_of_values)"
   ]
  },
  {
   "cell_type": "code",
   "execution_count": null,
   "metadata": {},
   "outputs": [],
   "source": []
  }
 ],
 "metadata": {
  "kernelspec": {
   "display_name": "Python 3",
   "language": "python",
   "name": "python3"
  },
  "language_info": {
   "codemirror_mode": {
    "name": "ipython",
    "version": 3
   },
   "file_extension": ".py",
   "mimetype": "text/x-python",
   "name": "python",
   "nbconvert_exporter": "python",
   "pygments_lexer": "ipython3",
   "version": "3.8.3"
  },
  "toc": {
   "base_numbering": 1,
   "nav_menu": {},
   "number_sections": true,
   "sideBar": true,
   "skip_h1_title": false,
   "title_cell": "Table of Contents",
   "title_sidebar": "Contents",
   "toc_cell": false,
   "toc_position": {},
   "toc_section_display": true,
   "toc_window_display": false
  }
 },
 "nbformat": 4,
 "nbformat_minor": 4
}
