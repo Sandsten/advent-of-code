{
 "cells": [
  {
   "cell_type": "markdown",
   "metadata": {},
   "source": [
    "##P"
   ]
  },
  {
   "cell_type": "code",
   "execution_count": 12,
   "metadata": {},
   "outputs": [
    {
     "name": "stdout",
     "output_type": "stream",
     "text": [
      "Final value: 6627023\n"
     ]
    }
   ],
   "source": [
    "instructions_original = open(\"input/day-2\", \"r\").read().replace(\"\\n\",\"\").split(\",\")\n",
    "instructions_original = list(map(int, instructions_original))\n",
    "\n",
    "def runComputer(input_1, input_2):\n",
    "    instructions = instructions_original.copy()\n",
    "\n",
    "    # Replace these according to the instructions\n",
    "    instructions[1] = input_1\n",
    "    instructions[2] = input_2\n",
    "\n",
    "    for i in range(0,len(instructions), 4):\n",
    "        # If the value is 99, stop the program\n",
    "        if(instructions[i] == 99):\n",
    "            break\n",
    "\n",
    "        read_location_1 = instructions[i+1]\n",
    "        read_location_2 = instructions[i+2]\n",
    "        store_location = instructions[i+3]\n",
    "\n",
    "        # If the value is 1, add the numbers stored at the index given in position 1 and 2 of this instruction\n",
    "        if(instructions[i] == 1):\n",
    "            value = instructions[read_location_1] + instructions[read_location_2]\n",
    "\n",
    "        # If the value is 2, multiply instead\n",
    "        if(instructions[i] == 2):\n",
    "            value = instructions[read_location_1] * instructions[read_location_2]\n",
    "\n",
    "        instructions[store_location] = value\n",
    "    \n",
    "    return instructions[0]\n",
    "    print(\"Final value:\", instructions[0])\n",
    "    \n",
    "print(\"Final value:\", runComputer(12,2))    "
   ]
  },
  {
   "cell_type": "markdown",
   "metadata": {},
   "source": [
    "## Part 2  \n",
    "Find which starting values will give the output of 19690720  \n",
    "Since the values are memory locations inside the instruction list, there are only a limited number of combinations. So we can just try them all until the solution is found."
   ]
  },
  {
   "cell_type": "code",
   "execution_count": 22,
   "metadata": {},
   "outputs": [
    {
     "name": "stdout",
     "output_type": "stream",
     "text": [
      "The result is 19690720 when i = 40 and j =  19\n",
      "Puzzle solution: 4019\n"
     ]
    }
   ],
   "source": [
    "goal_value = 19690720\n",
    "solution_found = False\n",
    "for i in range(len(instructions)):\n",
    "    for j in range(len(instructions)):\n",
    "        result = runComputer(i,j)\n",
    "        if(result == goal_value):\n",
    "            solution_found = True\n",
    "        if solution_found:\n",
    "            break\n",
    "    if solution_found:\n",
    "        break\n",
    "\n",
    "print(\"The result is\", goal_value, \"when\", \"i =\", i, \"and j = \", j)\n",
    "print(\"Puzzle solution:\", 100 * i + j)"
   ]
  }
 ],
 "metadata": {
  "kernelspec": {
   "display_name": "Python 3",
   "language": "python",
   "name": "python3"
  },
  "language_info": {
   "codemirror_mode": {
    "name": "ipython",
    "version": 3
   },
   "file_extension": ".py",
   "mimetype": "text/x-python",
   "name": "python",
   "nbconvert_exporter": "python",
   "pygments_lexer": "ipython3",
   "version": "3.8.3"
  },
  "toc": {
   "base_numbering": 1,
   "nav_menu": {},
   "number_sections": true,
   "sideBar": true,
   "skip_h1_title": false,
   "title_cell": "Table of Contents",
   "title_sidebar": "Contents",
   "toc_cell": false,
   "toc_position": {},
   "toc_section_display": true,
   "toc_window_display": false
  }
 },
 "nbformat": 4,
 "nbformat_minor": 4
}
