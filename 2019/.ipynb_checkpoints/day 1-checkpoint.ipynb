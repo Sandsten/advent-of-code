{
 "cells": [
  {
   "cell_type": "code",
   "execution_count": 6,
   "metadata": {},
   "outputs": [],
   "source": [
    "import math"
   ]
  },
  {
   "cell_type": "markdown",
   "metadata": {},
   "source": [
    "## Part 1\n",
    "Calculate needed fuel by dividing each module weight (input) by 3, round it down and then subtract 2.\n",
    "Then the needed fuel is the sum of all of those"
   ]
  },
  {
   "cell_type": "code",
   "execution_count": 15,
   "metadata": {},
   "outputs": [
    {
     "name": "stdout",
     "output_type": "stream",
     "text": [
      "Fuel needed = 3406342\n"
     ]
    }
   ],
   "source": [
    "module_weights = open(\"input/day-1\", \"r\").read().split(\"\\n\")[:-1]\n",
    "\n",
    "fuel_needed = sum([math.floor(int(x)/3)-2 for x in module_weights])\n",
    "\n",
    "print(\"Fuel needed =\", fuel_needed)"
   ]
  },
  {
   "cell_type": "markdown",
   "metadata": {},
   "source": [
    "## Part 2\n",
    "The additional fuel also require fuel!"
   ]
  },
  {
   "cell_type": "code",
   "execution_count": 29,
   "metadata": {},
   "outputs": [
    {
     "name": "stdout",
     "output_type": "stream",
     "text": [
      "Fuel needed when accounting for the weight of the fuel = 5106629\n"
     ]
    }
   ],
   "source": [
    "total_needed_fuel = 0\n",
    "\n",
    "for module_weight in module_weights:\n",
    "    \n",
    "    fuel_needed_for_module = math.floor(int(module_weight)/3) - 2\n",
    "    total_needed_fuel += fuel_needed_for_module\n",
    "    \n",
    "    # Calculate the needed fuel for the fuel itself. Keep doing this untill we reach <= 0\n",
    "    while fuel_needed_for_module >= 0:\n",
    "        fuel_needed_for_module = math.floor(fuel_needed_for_module/3) - 2\n",
    "\n",
    "        if fuel_needed_for_module > 0:\n",
    "            total_needed_fuel += fuel_needed_for_module\n",
    "\n",
    "print(\"Fuel needed when accounting for the weight of the fuel =\", total_needed_fuel)"
   ]
  },
  {
   "cell_type": "code",
   "execution_count": null,
   "metadata": {},
   "outputs": [],
   "source": []
  }
 ],
 "metadata": {
  "kernelspec": {
   "display_name": "Python 3",
   "language": "python",
   "name": "python3"
  },
  "language_info": {
   "codemirror_mode": {
    "name": "ipython",
    "version": 3
   },
   "file_extension": ".py",
   "mimetype": "text/x-python",
   "name": "python",
   "nbconvert_exporter": "python",
   "pygments_lexer": "ipython3",
   "version": "3.8.3"
  },
  "toc": {
   "base_numbering": 1,
   "nav_menu": {},
   "number_sections": true,
   "sideBar": true,
   "skip_h1_title": false,
   "title_cell": "Table of Contents",
   "title_sidebar": "Contents",
   "toc_cell": false,
   "toc_position": {},
   "toc_section_display": true,
   "toc_window_display": false
  }
 },
 "nbformat": 4,
 "nbformat_minor": 4
}
