{
 "cells": [
  {
   "cell_type": "markdown",
   "metadata": {},
   "source": [
    "# Day 15: Rambunctious Recitation"
   ]
  },
  {
   "cell_type": "markdown",
   "metadata": {
    "ExecuteTime": {
     "end_time": "2021-01-01T18:45:41.537118Z",
     "start_time": "2021-01-01T18:45:41.521118Z"
    }
   },
   "source": [
    "**Rules**  \n",
    "If that was the first time the number has been spoken, the current player says 0.  \n",
    "Otherwise, the number had been spoken before; the current player announces how many turns apart the number is from when it was previously spoken.\n"
   ]
  },
  {
   "cell_type": "code",
   "execution_count": 2,
   "metadata": {
    "ExecuteTime": {
     "end_time": "2021-01-02T11:34:20.589905Z",
     "start_time": "2021-01-02T11:34:04.113898Z"
    },
    "scrolled": true
   },
   "outputs": [
    {
     "name": "stdout",
     "output_type": "stream",
     "text": [
      "The line_profiler extension is already loaded. To reload it, use:\n",
      "  %reload_ext line_profiler\n",
      "30000000\n",
      "Last spoken number at round 2020: 883\n"
     ]
    }
   ],
   "source": [
    "%load_ext line_profiler\n",
    "\n",
    "def main():\n",
    "\n",
    "    starting_numbers = [2,0,1,7,4,14,18]\n",
    "    #starting_numbers = [3,2,1]\n",
    "\n",
    "    spoken_numbers = starting_numbers.copy()\n",
    "\n",
    "    # Keep track of during which round numbers were last spoken\n",
    "    # Key is the number\n",
    "    # Value is during which round it was spoken\n",
    "    spoken_numbers_lookup = {}\n",
    "    for i, number in enumerate(starting_numbers):\n",
    "        if i == len(starting_numbers)-1:\n",
    "            continue\n",
    "        spoken_numbers_lookup[number] = i+1 \n",
    "\n",
    "    ## Play the game ##\n",
    "\n",
    "    #which_round_to_stop = 2020 # Part 1\n",
    "    which_round_to_stop = 30000000 # Part 2\n",
    "\n",
    "    which_round = len(spoken_numbers)\n",
    "    last_spoken_number = spoken_numbers[-1]\n",
    "    last_last_spoken_number = spoken_numbers[-2]\n",
    "    while which_round < which_round_to_stop:\n",
    "\n",
    "        which_round += 1\n",
    "\n",
    "        # if last spoken number had ben said prior to this\n",
    "        if(last_spoken_number in spoken_numbers_lookup.keys()):\n",
    "\n",
    "            # Note: We are always looking one round behind us in order to figure out what the number for this round should be.\n",
    "            # If the two prior numbers are the same. Next number should be 1\n",
    "            if(last_spoken_number == last_last_spoken_number):\n",
    "                new_number = 1\n",
    "            # Otherwize it's the difference between the two latest round numbers where it was spoken before\n",
    "            else:\n",
    "                new_number = (which_round - 1) - spoken_numbers_lookup[last_spoken_number]\n",
    "\n",
    "        # If the number hasn't been said before, the number for this round should be 0\n",
    "        else:\n",
    "            new_number = 0\n",
    "\n",
    "        #spoken_numbers.append(new_number)\n",
    "        # Update the latest round when the last spoken number was said\n",
    "        spoken_numbers_lookup[last_spoken_number] = which_round - 1\n",
    "        \n",
    "        last_last_spoken_number = last_spoken_number\n",
    "        last_spoken_number = new_number\n",
    "        \n",
    "    print(which_round)\n",
    "    print(\"Last spoken number at round 2020:\", new_number)\n",
    "\n",
    "#%lprun -f main main()\n",
    "main()"
   ]
  },
  {
   "cell_type": "code",
   "execution_count": null,
   "metadata": {},
   "outputs": [],
   "source": []
  }
 ],
 "metadata": {
  "kernelspec": {
   "display_name": "Python 3",
   "language": "python",
   "name": "python3"
  },
  "language_info": {
   "codemirror_mode": {
    "name": "ipython",
    "version": 3
   },
   "file_extension": ".py",
   "mimetype": "text/x-python",
   "name": "python",
   "nbconvert_exporter": "python",
   "pygments_lexer": "ipython3",
   "version": "3.8.3"
  },
  "toc": {
   "base_numbering": 1,
   "nav_menu": {},
   "number_sections": true,
   "sideBar": true,
   "skip_h1_title": false,
   "title_cell": "Table of Contents",
   "title_sidebar": "Contents",
   "toc_cell": false,
   "toc_position": {},
   "toc_section_display": true,
   "toc_window_display": false
  }
 },
 "nbformat": 4,
 "nbformat_minor": 4
}
