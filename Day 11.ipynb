{
 "cells": [
  {
   "cell_type": "markdown",
   "metadata": {},
   "source": [
    "# Part 1"
   ]
  },
  {
   "cell_type": "code",
   "execution_count": 1,
   "metadata": {
    "ExecuteTime": {
     "end_time": "2020-12-30T14:32:18.945123Z",
     "start_time": "2020-12-30T14:32:18.925123Z"
    }
   },
   "outputs": [],
   "source": [
    "%load_ext line_profiler"
   ]
  },
  {
   "cell_type": "code",
   "execution_count": 2,
   "metadata": {
    "ExecuteTime": {
     "end_time": "2020-12-30T14:32:19.071120Z",
     "start_time": "2020-12-30T14:32:18.946124Z"
    }
   },
   "outputs": [],
   "source": [
    "import numpy as np"
   ]
  },
  {
   "cell_type": "code",
   "execution_count": 3,
   "metadata": {
    "ExecuteTime": {
     "end_time": "2020-12-30T14:32:19.087124Z",
     "start_time": "2020-12-30T14:32:19.072122Z"
    }
   },
   "outputs": [],
   "source": [
    "input_data = open(\"input/input-day-11.txt\", \"r\")\n",
    "input_data = input_data.read().split(\"\\n\")[:-1]\n",
    "\n",
    "input_data = [x.split() for x in input_data]\n",
    "\n",
    "seat_state_original = []\n",
    "for row in input_data:\n",
    "    seat_state_original.append([char for char in row[0]])\n",
    "\n",
    "seat_state_original = np.array(seat_state_original)"
   ]
  },
  {
   "cell_type": "markdown",
   "metadata": {},
   "source": [
    "**RULES**  \n",
    "All decisions are based on the number of occupied seats adjacent to a given seat (one of the eight positions immediately up, down, left, right, or diagonal from the seat)\n",
    "\n",
    "* If a seat is empty (L) and there are no occupied seats adjacent to it, the seat becomes occupied.\n",
    "* If a seat is occupied (#) and four or more seats adjacent to it are also occupied, the seat becomes empty.\n",
    "    Otherwise, the seat's state does not change.\n",
    "* Floor (.) never changes; seats don't move, and nobody sits on the floor."
   ]
  },
  {
   "cell_type": "code",
   "execution_count": 4,
   "metadata": {
    "ExecuteTime": {
     "end_time": "2020-12-30T14:32:19.103123Z",
     "start_time": "2020-12-30T14:32:19.088126Z"
    }
   },
   "outputs": [],
   "source": [
    "adjacent = np.array([\n",
    "    [1,0],   # East\n",
    "    [1,1],   # South East\n",
    "    [0,1],   # South\n",
    "    [-1,1],  # South West\n",
    "    [-1,0],  # West\n",
    "    [-1,-1], # North West\n",
    "    [0,-1],  # North\n",
    "    [1,-1]   # North East\n",
    "])"
   ]
  },
  {
   "cell_type": "code",
   "execution_count": 5,
   "metadata": {
    "ExecuteTime": {
     "end_time": "2020-12-30T14:32:19.119116Z",
     "start_time": "2020-12-30T14:32:19.104124Z"
    }
   },
   "outputs": [],
   "source": [
    "x_dim_size = seat_state_original.shape[0]\n",
    "y_dim_size = seat_state_original.shape[1]"
   ]
  },
  {
   "cell_type": "code",
   "execution_count": 9,
   "metadata": {
    "ExecuteTime": {
     "end_time": "2020-12-30T14:47:56.191373Z",
     "start_time": "2020-12-30T14:47:46.948374Z"
    }
   },
   "outputs": [
    {
     "name": "stdout",
     "output_type": "stream",
     "text": [
      "New seat state didn't change!\n",
      "Number of occupied seats: 2194\n"
     ]
    }
   ],
   "source": [
    "def main():\n",
    "    new_seat_state_equal = False\n",
    "\n",
    "    seat_state = np.array(seat_state_original)\n",
    "\n",
    "    while not new_seat_state_equal:\n",
    "\n",
    "        # Blank slate to store the new seating. \n",
    "        # Since check for each seat happens all at once, hence we can't update the current layout\n",
    "        new_seat_state = np.empty(shape=(x_dim_size,y_dim_size), dtype=str)\n",
    "\n",
    "        # Iterate over each element and update seatings!\n",
    "        for index, element in np.ndenumerate(seat_state):\n",
    "            x_pos = index[0]\n",
    "            y_pos = index[1]\n",
    "\n",
    "            # Ignore if this is a floor tile\n",
    "            if element == \".\":\n",
    "                new_seat_state[x_pos, y_pos] = \".\"\n",
    "                continue\n",
    "\n",
    "            # Check if the current seat is occupied or not\n",
    "            current_seat_occupied = True if element == \"#\" else False\n",
    "\n",
    "            nr_of_occupied_adjacent = 0\n",
    "            for direction in adjacent:\n",
    "                x_pos_adj = x_pos + direction[0]\n",
    "                y_pos_adj = y_pos + direction[1]\n",
    "                \n",
    "                # If we are on the edge of the seat layout, see if the adjacency check is out of bounds\n",
    "                if x_pos == 0 or x_pos == x_dim_size-1 or y_pos == 0 or y_pos == y_dim_size-1:\n",
    "                    if ((x_pos_adj < 0 or y_pos_adj < 0)\n",
    "                       or (x_pos_adj >= x_dim_size or y_pos_adj >= y_dim_size)):\n",
    "                        continue             \n",
    "                \n",
    "                if seat_state[x_pos_adj, y_pos_adj] == \"#\":\n",
    "                    nr_of_occupied_adjacent += 1\n",
    "                    \n",
    "            # If current seat is not occupied and there are no adjacent seats occupied. Occupie the seat\n",
    "            if not current_seat_occupied and nr_of_occupied_adjacent == 0:\n",
    "                new_seat_state[x_pos, y_pos] = \"#\"\n",
    "\n",
    "            elif current_seat_occupied and nr_of_occupied_adjacent >= 4:\n",
    "                new_seat_state[x_pos, y_pos] = \"L\"\n",
    "\n",
    "            else:\n",
    "                new_seat_state[x_pos, y_pos] = element\n",
    "\n",
    "        if np.array_equal(seat_state, new_seat_state):\n",
    "            print(\"New seat state didn't change!\")\n",
    "            print(\"Number of occupied seats:\", np.count_nonzero(new_seat_state == \"#\"))\n",
    "            new_seat_state_equal = True\n",
    "\n",
    "        # Update the seating to check for the next iteration\n",
    "        seat_state = np.copy(new_seat_state)\n",
    "    \n",
    "#%lprun -f main main()\n",
    "main()\n"
   ]
  },
  {
   "cell_type": "code",
   "execution_count": 10,
   "metadata": {
    "ExecuteTime": {
     "end_time": "2020-12-30T16:09:58.594123Z",
     "start_time": "2020-12-30T16:09:58.590121Z"
    }
   },
   "outputs": [],
   "source": []
  },
  {
   "cell_type": "code",
   "execution_count": 11,
   "metadata": {
    "ExecuteTime": {
     "end_time": "2020-12-30T16:10:07.716143Z",
     "start_time": "2020-12-30T16:10:07.507143Z"
    }
   },
   "outputs": [
    {
     "ename": "NameError",
     "evalue": "name 'cos' is not defined",
     "output_type": "error",
     "traceback": [
      "\u001b[1;31m---------------------------------------------------------------------------\u001b[0m",
      "\u001b[1;31mNameError\u001b[0m                                 Traceback (most recent call last)",
      "\u001b[1;32m<ipython-input-11-cd0e163eaff7>\u001b[0m in \u001b[0;36m<module>\u001b[1;34m\u001b[0m\n\u001b[1;32m----> 1\u001b[1;33m \u001b[0mrotMat\u001b[0m\u001b[1;33m(\u001b[0m\u001b[1;36m90\u001b[0m\u001b[1;33m)\u001b[0m\u001b[1;33m\u001b[0m\u001b[1;33m\u001b[0m\u001b[0m\n\u001b[0m",
      "\u001b[1;32m<ipython-input-10-99025fe32a67>\u001b[0m in \u001b[0;36m<lambda>\u001b[1;34m(d)\u001b[0m\n\u001b[1;32m----> 1\u001b[1;33m \u001b[0mrotMat\u001b[0m \u001b[1;33m=\u001b[0m \u001b[1;32mlambda\u001b[0m \u001b[0md\u001b[0m\u001b[1;33m:\u001b[0m \u001b[0mnp\u001b[0m\u001b[1;33m.\u001b[0m\u001b[0marray\u001b[0m\u001b[1;33m(\u001b[0m\u001b[1;33m[\u001b[0m\u001b[0mcos\u001b[0m\u001b[1;33m(\u001b[0m\u001b[0mx\u001b[0m\u001b[1;33m)\u001b[0m\u001b[1;33m,\u001b[0m \u001b[0msin\u001b[0m\u001b[1;33m(\u001b[0m\u001b[0mx\u001b[0m\u001b[1;33m)\u001b[0m\u001b[1;33m]\u001b[0m\u001b[1;33m,\u001b[0m\u001b[1;33m[\u001b[0m\u001b[1;33m-\u001b[0m\u001b[0msin\u001b[0m\u001b[1;33m(\u001b[0m\u001b[0mx\u001b[0m\u001b[1;33m)\u001b[0m\u001b[1;33m,\u001b[0m \u001b[0mcos\u001b[0m\u001b[1;33m(\u001b[0m\u001b[0mx\u001b[0m\u001b[1;33m)\u001b[0m\u001b[1;33m]\u001b[0m\u001b[1;33m)\u001b[0m\u001b[1;33m\u001b[0m\u001b[1;33m\u001b[0m\u001b[0m\n\u001b[0m",
      "\u001b[1;31mNameError\u001b[0m: name 'cos' is not defined"
     ]
    }
   ],
   "source": []
  },
  {
   "cell_type": "code",
   "execution_count": null,
   "metadata": {},
   "outputs": [],
   "source": []
  }
 ],
 "metadata": {
  "kernelspec": {
   "display_name": "Python 3",
   "language": "python",
   "name": "python3"
  },
  "language_info": {
   "codemirror_mode": {
    "name": "ipython",
    "version": 3
   },
   "file_extension": ".py",
   "mimetype": "text/x-python",
   "name": "python",
   "nbconvert_exporter": "python",
   "pygments_lexer": "ipython3",
   "version": "3.8.3"
  },
  "toc": {
   "base_numbering": 1,
   "nav_menu": {},
   "number_sections": true,
   "sideBar": true,
   "skip_h1_title": false,
   "title_cell": "Table of Contents",
   "title_sidebar": "Contents",
   "toc_cell": false,
   "toc_position": {},
   "toc_section_display": true,
   "toc_window_display": false
  }
 },
 "nbformat": 4,
 "nbformat_minor": 4
}
