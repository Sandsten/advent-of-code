{
 "cells": [
  {
   "cell_type": "code",
   "execution_count": 34,
   "id": "4e40a962-c54e-4c01-b39c-e2ef48b21205",
   "metadata": {},
   "outputs": [
    {
     "name": "stdout",
     "output_type": "stream",
     "text": [
      "11001111011000111\n"
     ]
    }
   ],
   "source": [
    "initial = \"11110010111001001\"\n",
    "disk_size = 272\n",
    "disk_size_part_two = 35651584\n",
    "\n",
    "def modified_dragon_curve(initial, final_size):\n",
    "    a = initial\n",
    "    while (len(a) < final_size):\n",
    "        b = a\n",
    "        b = b[::-1]\n",
    "        b = ''.join([\"1\" if x == \"0\" else \"0\" for x in b])\n",
    "        a = a + \"0\" + b\n",
    "    return a\n",
    "\n",
    "def create_checksum(data, max_size):\n",
    "    checksum = data[:max_size]\n",
    "    while (len(checksum) % 2 == 0):\n",
    "        new_checksum = \"\"\n",
    "        for i in range(0,len(checksum),2):\n",
    "            if checksum[i] != checksum[i+1]:\n",
    "                new_checksum += \"0\"\n",
    "            else:\n",
    "                new_checksum += \"1\"\n",
    "        checksum = new_checksum\n",
    "    return checksum\n",
    "\n",
    "\n",
    "#mdc = modified_dragon_curve(initial, disk_size)\n",
    "#create_checksum(mdc, disk_size)\n",
    "\n",
    "mdc = modified_dragon_curve(initial, disk_size_part_two)\n",
    "print(create_checksum(mdc, disk_size_part_two))\n"
   ]
  },
  {
   "cell_type": "code",
   "execution_count": null,
   "id": "40b1f70d-c7d4-4422-b67b-4dbdf8b1de13",
   "metadata": {},
   "outputs": [],
   "source": []
  }
 ],
 "metadata": {
  "kernelspec": {
   "display_name": "Python 3",
   "language": "python",
   "name": "python3"
  },
  "language_info": {
   "codemirror_mode": {
    "name": "ipython",
    "version": 3
   },
   "file_extension": ".py",
   "mimetype": "text/x-python",
   "name": "python",
   "nbconvert_exporter": "python",
   "pygments_lexer": "ipython3",
   "version": "3.8.8"
  }
 },
 "nbformat": 4,
 "nbformat_minor": 5
}
