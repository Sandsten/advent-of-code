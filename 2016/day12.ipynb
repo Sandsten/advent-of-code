{
 "cells": [
  {
   "cell_type": "code",
   "execution_count": 12,
   "id": "501f8be4-59ef-4e49-afdb-16a6b4fb5a62",
   "metadata": {},
   "outputs": [],
   "source": [
    "data = open(\"input/day12.txt\").read().split(\"\\n\")[:-1]\n",
    "data = [x.split(\" \") for x in data]"
   ]
  },
  {
   "cell_type": "code",
   "execution_count": 18,
   "id": "04f45a03-8b13-4021-a76a-f29307ab3841",
   "metadata": {},
   "outputs": [
    {
     "name": "stdout",
     "output_type": "stream",
     "text": [
      "{'a': 9227771, 'b': 5702887, 'c': 0, 'd': 0}\n"
     ]
    }
   ],
   "source": [
    "# Part 1\n",
    "registers = {\"a\":0, \"b\":0, \"c\":0, \"d\":0}\n",
    "\n",
    "# Part 2\n",
    "registers = {\"a\":0, \"b\":0, \"c\":1, \"d\":0}\n",
    "\n",
    "instructions = data\n",
    "pointer = 0\n",
    "while pointer < len(instructions):\n",
    "    x = instructions[pointer]\n",
    "    \n",
    "    if x[0] == \"cpy\":\n",
    "        # If the value is/can be converted to an int. Use it\n",
    "        # If not, it's an register location so go fetch it\n",
    "        try:\n",
    "            value = int(x[1])\n",
    "        except:\n",
    "            value = int(registers[x[1]])\n",
    "        \n",
    "        registers[x[2]] = value\n",
    "            \n",
    "    elif x[0] == \"inc\":\n",
    "        registers[x[1]] += 1\n",
    "        \n",
    "    elif x[0] == \"dec\":\n",
    "        registers[x[1]] -= 1\n",
    "        \n",
    "    else: # jnz\n",
    "        value = 0\n",
    "        try:\n",
    "            value = int(x[1])\n",
    "        except:\n",
    "            value = int(registers[x[1]])\n",
    "        \n",
    "        if value != 0:\n",
    "            pointer += int(x[2])\n",
    "            continue\n",
    "        \n",
    "    pointer += 1\n",
    "    \n",
    "print(registers)"
   ]
  }
 ],
 "metadata": {
  "kernelspec": {
   "display_name": "Python 3 (ipykernel)",
   "language": "python",
   "name": "python3"
  },
  "language_info": {
   "codemirror_mode": {
    "name": "ipython",
    "version": 3
   },
   "file_extension": ".py",
   "mimetype": "text/x-python",
   "name": "python",
   "nbconvert_exporter": "python",
   "pygments_lexer": "ipython3",
   "version": "3.9.5"
  }
 },
 "nbformat": 4,
 "nbformat_minor": 5
}
