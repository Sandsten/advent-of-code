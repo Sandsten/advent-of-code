{
 "cells": [
  {
   "cell_type": "code",
   "execution_count": 28,
   "id": "ac569185-0034-4594-a371-613895558d51",
   "metadata": {},
   "outputs": [],
   "source": [
    "data = open(\"input/day2.txt\", \"r\").read().split(\"\\n\")[:-1]"
   ]
  },
  {
   "cell_type": "code",
   "execution_count": 24,
   "id": "6cf228b0-334c-4421-b89e-f5823d4d4fd3",
   "metadata": {},
   "outputs": [],
   "source": [
    "test_data = [\n",
    "\"ULL\",\n",
    "\"RRDDD\",\n",
    "\"LURDL\",\n",
    "\"UUUUD\"\n",
    "]"
   ]
  },
  {
   "cell_type": "code",
   "execution_count": 31,
   "id": "6ddaca73-32f9-4dca-8ba0-19c093817800",
   "metadata": {},
   "outputs": [
    {
     "name": "stdout",
     "output_type": "stream",
     "text": [
      "[3, 5, 7, 4, 9]\n"
     ]
    }
   ],
   "source": [
    "# Starting in the middle\n",
    "x_pos = 1;\n",
    "y_pos = 1\n",
    "keypad = [\n",
    "    [7,8,9],\n",
    "    [4,5,6],\n",
    "    [1,2,3]\n",
    "]\n",
    "\n",
    "code = []\n",
    "\n",
    "for instructions in data:\n",
    "    for instruction in instructions:\n",
    "        if instruction == \"U\":\n",
    "            y_pos += 1\n",
    "        elif instruction == \"D\":\n",
    "            y_pos -= 1\n",
    "        elif instruction == \"R\":\n",
    "            x_pos += 1\n",
    "        else:\n",
    "            x_pos -= 1\n",
    "        \n",
    "        if x_pos < 0: x_pos = 0\n",
    "        if x_pos > 2: x_pos = 2\n",
    "        if y_pos < 0: y_pos = 0\n",
    "        if y_pos > 2: y_pos = 2\n",
    "        \n",
    "    key_to_press = keypad[y_pos][x_pos]\n",
    "    code.append(key_to_press)\n",
    "        \n",
    "print(code)        "
   ]
  },
  {
   "cell_type": "code",
   "execution_count": 33,
   "id": "27775b3a-d8ea-4e4e-8bc1-05d2d4b3ab57",
   "metadata": {},
   "outputs": [
    {
     "name": "stdout",
     "output_type": "stream",
     "text": [
      "[9, 3, 6, 5, 'C']\n"
     ]
    }
   ],
   "source": [
    "# Starting in the middle\n",
    "x_pos = 1;\n",
    "y_pos = 3\n",
    "\n",
    "# Set all invalid positions to zero\n",
    "# If the next position would be zero, undo the move and go to the next instruction\n",
    "keypad = [\n",
    "    [0, 0, 0,  0,  0, 0, 0],\n",
    "    [0, 0, 0, \"D\", 0, 0, 0],\n",
    "    [0, 0,\"A\",\"B\",\"C\",0, 0],\n",
    "    [0, 5, 6,  7,  8, 9, 0],\n",
    "    [0, 0, 2,  3,  4, 0, 0],\n",
    "    [0, 0, 0,  1,  0, 0, 0],\n",
    "    [0, 0, 0,  0,  0, 0, 0],\n",
    "]\n",
    "\n",
    "code = []\n",
    "\n",
    "for instructions in data:\n",
    "    for instruction in instructions:\n",
    "        prev_x, prev_y = x_pos, y_pos\n",
    "        if instruction == \"U\":\n",
    "            y_pos += 1\n",
    "        elif instruction == \"D\":\n",
    "            y_pos -= 1\n",
    "        elif instruction == \"R\":\n",
    "            x_pos += 1\n",
    "        else:\n",
    "            x_pos -= 1\n",
    "        \n",
    "        if keypad[y_pos][x_pos] == 0:\n",
    "            x_pos, y_pos = prev_x, prev_y\n",
    "            \n",
    "    key_to_press = keypad[y_pos][x_pos]\n",
    "    code.append(key_to_press)\n",
    "        \n",
    "print(code)        "
   ]
  },
  {
   "cell_type": "code",
   "execution_count": null,
   "id": "68a53c63-20b4-443b-8a98-8082b883055d",
   "metadata": {},
   "outputs": [],
   "source": []
  }
 ],
 "metadata": {
  "kernelspec": {
   "display_name": "Python 3 (ipykernel)",
   "language": "python",
   "name": "python3"
  },
  "language_info": {
   "codemirror_mode": {
    "name": "ipython",
    "version": 3
   },
   "file_extension": ".py",
   "mimetype": "text/x-python",
   "name": "python",
   "nbconvert_exporter": "python",
   "pygments_lexer": "ipython3",
   "version": "3.9.5"
  }
 },
 "nbformat": 4,
 "nbformat_minor": 5
}
