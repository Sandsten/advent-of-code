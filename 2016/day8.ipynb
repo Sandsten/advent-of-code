{
 "cells": [
  {
   "cell_type": "code",
   "execution_count": 1,
   "id": "6a4856db-23e5-4916-bfa6-18879ee47259",
   "metadata": {},
   "outputs": [
    {
     "data": {
      "text/plain": [
       "['rect 1x1',\n",
       " 'rotate row y=0 by 5',\n",
       " 'rect 1x1',\n",
       " 'rotate row y=0 by 5',\n",
       " 'rect 1x1',\n",
       " 'rotate row y=0 by 5',\n",
       " 'rect 1x1',\n",
       " 'rotate row y=0 by 5',\n",
       " 'rect 1x1',\n",
       " 'rotate row y=0 by 2']"
      ]
     },
     "execution_count": 1,
     "metadata": {},
     "output_type": "execute_result"
    }
   ],
   "source": [
    "data = open(\"input/day8.txt\", \"r\").read().split(\"\\n\")[:-1]\n",
    "\n",
    "data[:10]"
   ]
  },
  {
   "cell_type": "code",
   "execution_count": 81,
   "id": "721fc68a-c173-4af8-bacf-2e1a4e36e56b",
   "metadata": {},
   "outputs": [
    {
     "name": "stdout",
     "output_type": "stream",
     "text": [
      "X  X  X  X  .  X  X  X  X  .  X  .  .  X  .  X  X  X  X  .  .  X  X  X  .  X  X  X  X  .  .  X  X  .  .  .  X  X  .  .  X  X  X  .  .  .  X  X  .  .  \n",
      ".  .  .  X  .  X  .  .  .  .  X  .  .  X  .  X  .  .  .  .  X  .  .  .  .  X  .  .  .  .  X  .  .  X  .  X  .  .  X  .  X  .  .  X  .  X  .  .  X  .  \n",
      ".  .  X  .  .  X  X  X  .  .  X  X  X  X  .  X  X  X  .  .  X  .  .  .  .  X  X  X  .  .  X  .  .  X  .  X  .  .  .  .  X  .  .  X  .  X  .  .  X  .  \n",
      ".  X  .  .  .  X  .  .  .  .  X  .  .  X  .  X  .  .  .  .  .  X  X  .  .  X  .  .  .  .  X  .  .  X  .  X  .  X  X  .  X  X  X  .  .  X  .  .  X  .  \n",
      "X  .  .  .  .  X  .  .  .  .  X  .  .  X  .  X  .  .  .  .  .  .  .  X  .  X  .  .  .  .  X  .  .  X  .  X  .  .  X  .  X  .  .  .  .  X  .  .  X  .  \n",
      "X  X  X  X  .  X  .  .  .  .  X  .  .  X  .  X  .  .  .  .  X  X  X  .  .  X  .  .  .  .  .  X  X  .  .  .  X  X  X  .  X  .  .  .  .  .  X  X  .  .  \n",
      "Nr lights on: 119\n"
     ]
    }
   ],
   "source": [
    "def turn_on_lights(size, display):\n",
    "  for y in range(size[1]):\n",
    "    for x in range(size[0]):\n",
    "      display[y][x] = \"X\"\n",
    "\n",
    "  return display\n",
    "\n",
    "def rotate_row(row_index, steps, display):\n",
    "  row_length = len(display[row_index])\n",
    "  new_row = [\".\" for x in range(row_length)]\n",
    "  \n",
    "  i = 0\n",
    "  for pixel in display[row_index]:\n",
    "    if pixel == \"X\":\n",
    "      new_row[(i+steps) % row_length] = \"X\"\n",
    "    i += 1\n",
    "  \n",
    "  display[row_index] = new_row\n",
    "  return display\n",
    "\n",
    "def rotate_column(column_index, steps, display):\n",
    "  column_length = len(display)\n",
    "  new_column = [\".\" for y in range(column_length)]\n",
    "  \n",
    "  for y in range(column_length):\n",
    "    if display[y][column_index] == \"X\":\n",
    "      new_column[(y + steps) % column_length] = \"X\"\n",
    "  \n",
    "  for y in range(column_length):\n",
    "    display[y][column_index] = new_column[y]\n",
    "    \n",
    "  return display\n",
    "  \n",
    "def print_display(display):\n",
    "  for y in display:\n",
    "    for x in y:\n",
    "      print(x, end=\"  \")\n",
    "    print(\"\")\n",
    "\n",
    "    \n",
    "import re    \n",
    "\n",
    "width = 50\n",
    "height = 6\n",
    "display = [[\".\" for x in range(50)] for x in range(height)]\n",
    "\n",
    "for instruction in data[:]:\n",
    "  if instruction.split(\" \")[0] == \"rect\":\n",
    "    res = re.findall(r\"\\d+\", instruction)\n",
    "    res = list(map(int, res))\n",
    "    display = turn_on_lights(res, display)\n",
    "  else:\n",
    "    res = re.search(r\"\\w+ (\\w+) \\w=(\\d+) by (\\d+)\", instruction)\n",
    "    index = int(res.group(2))\n",
    "    steps = int(res.group(3))\n",
    "    if res.group(1) == \"row\":\n",
    "      display = rotate_row(index, steps, display)\n",
    "    elif res.group(1) == \"column\":\n",
    "      display = rotate_column(index, steps, display)\n",
    "\n",
    "nr_lights_on = 0\n",
    "for row in display:\n",
    "  for state in row:\n",
    "    if state == \"X\":\n",
    "      nr_lights_on += 1\n",
    "\n",
    "print_display(display)\n",
    "print(f\"Nr lights on: {nr_lights_on}\")"
   ]
  },
  {
   "cell_type": "markdown",
   "id": "4105d27d-a680-4bca-974a-706975e838d4",
   "metadata": {},
   "source": [
    "### Part 2\n",
    "\n",
    "The code displayed is  \n",
    "ZFHFSFOGPO"
   ]
  }
 ],
 "metadata": {
  "kernelspec": {
   "display_name": "Python 3",
   "language": "python",
   "name": "python3"
  },
  "language_info": {
   "codemirror_mode": {
    "name": "ipython",
    "version": 3
   },
   "file_extension": ".py",
   "mimetype": "text/x-python",
   "name": "python",
   "nbconvert_exporter": "python",
   "pygments_lexer": "ipython3",
   "version": "3.8.8"
  }
 },
 "nbformat": 4,
 "nbformat_minor": 5
}
