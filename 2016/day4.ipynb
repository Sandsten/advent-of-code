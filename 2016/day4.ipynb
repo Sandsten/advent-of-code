{
 "cells": [
  {
   "cell_type": "code",
   "execution_count": 1,
   "id": "ebab0d81-3afc-44a7-8662-741039f4c632",
   "metadata": {},
   "outputs": [],
   "source": [
    "data = open(\"input/day4.txt\", \"r\").read().split(\"\\n\")[:-1]"
   ]
  },
  {
   "cell_type": "markdown",
   "id": "d307b9cd-b97b-43a2-9bac-d9dc3b8f8d5d",
   "metadata": {},
   "source": [
    "### Part 1"
   ]
  },
  {
   "cell_type": "code",
   "execution_count": 2,
   "id": "d94ff41e-ccd3-4f03-932b-03fc52ee5b71",
   "metadata": {},
   "outputs": [],
   "source": [
    "def sorted_by_count_then_alphabetically(letters):\n",
    "    # Count the nr of occurances of each letter\n",
    "    occurances = {}\n",
    "    for letter in letters:\n",
    "        if letter in occurances:\n",
    "            occurances[letter] += 1\n",
    "        else:\n",
    "            occurances[letter] = 1\n",
    "\n",
    "    # Sort based on letter occurance count and store them in separate lists based on nr of occurances\n",
    "    # i.e [[<letters that occured x times>],[<letters that occured y times>],[<letters that occured z times>]]\n",
    "    # where x > y > z\n",
    "    sorted_elements = sorted(occurances.items(),key=lambda x:-x[1])\n",
    "    current_count = sorted_elements[0][1]\n",
    "    order = []\n",
    "    count_list = []\n",
    "    for x in sorted_elements:\n",
    "        k,v = x\n",
    "        if v != current_count:\n",
    "            order.append(count_list)\n",
    "            count_list = []\n",
    "        count_list.append(k)\n",
    "        current_count = v\n",
    "    order.append(count_list)\n",
    "    \n",
    "    # Then sort each list in alphabetical order to get a final result where all letters have been sorded\n",
    "    # first by nr of occurances and then in alphabetical order\n",
    "    new_order = []\n",
    "    for count_group in order:\n",
    "        new_order.append(\"\".join(sorted(count_group)))\n",
    "    \n",
    "    return \"\".join(new_order)"
   ]
  },
  {
   "cell_type": "code",
   "execution_count": 3,
   "id": "c3284f37-1523-462a-b982-b3b7332a32b7",
   "metadata": {},
   "outputs": [
    {
     "name": "stdout",
     "output_type": "stream",
     "text": [
      "The sum of all IDs of real rooms = 173787\n"
     ]
    }
   ],
   "source": [
    "import re\n",
    "\n",
    "sum_of_real_room_ids = 0    \n",
    "\n",
    "for room_name in data:\n",
    "    \n",
    "    a = room_name.split(\"-\")\n",
    "    letters = \"\".join(a[:-1])\n",
    "    room_nr = re.search(r\"(\\d+)\",a[-1]).group(1)\n",
    "    checksum = re.search(r\"\\[(.*)\\]\",a[-1]).group(1)\n",
    "    \n",
    "    sorted_letters = sorted_by_count_then_alphabetically(letters)\n",
    "    \n",
    "    if checksum == sorted_letters[:len(checksum)]:\n",
    "        sum_of_real_room_ids += int(room_nr)\n",
    "    \n",
    "print(f\"The sum of all IDs of real rooms = {sum_of_real_room_ids}\")"
   ]
  },
  {
   "cell_type": "markdown",
   "id": "89ad8512-407d-4ec9-a2e4-712992c22912",
   "metadata": {},
   "source": [
    "### Part 2"
   ]
  },
  {
   "cell_type": "code",
   "execution_count": 9,
   "id": "fdfafe95-53a4-4771-8726-507f8e08d649",
   "metadata": {},
   "outputs": [],
   "source": [
    "alphabet = \"abcdefghijklmnopqrstuvwxyz\""
   ]
  },
  {
   "cell_type": "code",
   "execution_count": 34,
   "id": "6ddd7608-f631-4417-a1de-0edb0b6cc96e",
   "metadata": {},
   "outputs": [
    {
     "name": "stdout",
     "output_type": "stream",
     "text": [
      "northpole object storage \n",
      "548\n"
     ]
    }
   ],
   "source": [
    "# Create lookup tables for the alphabet\n",
    "letter_to_index = {}\n",
    "index_to_letter = {}\n",
    "i = 0\n",
    "for x in alphabet:\n",
    "    letter_to_index[x] = i\n",
    "    index_to_letter[i] = x\n",
    "    i += 1\n",
    "\n",
    "for room_name in data:\n",
    "    name = room_name.split(\"[\")[0]\n",
    "    name = name.split(\"-\")\n",
    "    shift_steps = int(name[-1])\n",
    "    \n",
    "    decoded_message = \"\"\n",
    "    for encrypted in name[:-1]:\n",
    "        decoded_word = \"\"\n",
    "        for letter in encrypted:\n",
    "            letter_index = letter_to_index[letter]\n",
    "            new_index = (letter_index + shift_steps) % 26\n",
    "            new_letter = index_to_letter[new_index]\n",
    "            decoded_word += new_letter\n",
    "        decoded_message += f\"{decoded_word} \"\n",
    "    \n",
    "    if decoded_message.strip() == \"northpole object storage\":\n",
    "        print(decoded_message)\n",
    "        print(shift_steps)\n",
    "    "
   ]
  }
 ],
 "metadata": {
  "kernelspec": {
   "display_name": "Python 3 (ipykernel)",
   "language": "python",
   "name": "python3"
  },
  "language_info": {
   "codemirror_mode": {
    "name": "ipython",
    "version": 3
   },
   "file_extension": ".py",
   "mimetype": "text/x-python",
   "name": "python",
   "nbconvert_exporter": "python",
   "pygments_lexer": "ipython3",
   "version": "3.9.5"
  }
 },
 "nbformat": 4,
 "nbformat_minor": 5
}
