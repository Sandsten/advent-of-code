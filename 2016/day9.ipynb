{
 "cells": [
  {
   "cell_type": "code",
   "execution_count": 42,
   "id": "51e65c3d-049d-43f9-8a53-5220af339dc0",
   "metadata": {},
   "outputs": [],
   "source": [
    "data = open(\"input/day9.txt\", \"r\").read().split(\"\\n\")[:-1]"
   ]
  },
  {
   "cell_type": "code",
   "execution_count": 26,
   "id": "4495e184-c5b7-497f-8ad5-37ef0d5bc26c",
   "metadata": {},
   "outputs": [],
   "source": [
    "data = [\"A(1x5)BC\", \"(3x3)XYZ\", \"A(2x2)BCD(2x2)EFG\", \"(6x1)(1x3)A\", \"X(8x2)(3x3)ABCY\"]"
   ]
  },
  {
   "cell_type": "markdown",
   "id": "42587809-5d39-425e-887d-dbb8c2acfb7f",
   "metadata": {},
   "source": [
    "### Part 1"
   ]
  },
  {
   "cell_type": "code",
   "execution_count": 34,
   "id": "ea280894-8f36-4da0-ab4d-6ad96fd12576",
   "metadata": {},
   "outputs": [
    {
     "name": "stdout",
     "output_type": "stream",
     "text": [
      "Decompressed length: 152851\n",
      "\n"
     ]
    }
   ],
   "source": [
    "import re\n",
    "\n",
    "def decompress_string(string):\n",
    "  decompressed_string = \"\"\n",
    "  i = 0\n",
    "  \n",
    "  while i < len(string):\n",
    "    # If we find a \"(\" at index i\n",
    "    # Create a string of what's between the paranthesis \n",
    "    if string[i] == \"(\":\n",
    "      i += 1\n",
    "      repeat_pattern = \"\"\n",
    "      while True:\n",
    "        if string[i] == \")\":\n",
    "          i += 1\n",
    "          break\n",
    "        else:\n",
    "          repeat_pattern += string[i]\n",
    "          i += 1\n",
    "      \n",
    "      repeat_pattern_size = len(repeat_pattern) + 2\n",
    "      repeat_pattern = repeat_pattern.split(\"x\")\n",
    "      \n",
    "      size = int(repeat_pattern[0])\n",
    "      repeat = int(repeat_pattern[1])\n",
    "      \n",
    "      repeat_string = string[i:i+size]\n",
    "      repeat_string *= repeat\n",
    "      decompressed_string += repeat_string\n",
    "      \n",
    "      i += size\n",
    "    else:\n",
    "      # Just append the letter to our decompressed_string\n",
    "      decompressed_string += string[i]\n",
    "      i += 1\n",
    "      \n",
    "  return decompressed_string\n",
    "\n",
    "for string in data:\n",
    "  #print(string)\n",
    "  decompressed = decompress_string(string)\n",
    "  #print(decompressed)\n",
    "  print(f\"Decompressed length: {len(decompressed)}\")\n",
    "  print(\"\")"
   ]
  },
  {
   "cell_type": "markdown",
   "id": "d4dc136d-723b-4be4-a61f-f0185ca2b463",
   "metadata": {},
   "source": [
    "### Part 2\n",
    "Find a way to calculate what the final size will be"
   ]
  }
 ],
 "metadata": {
  "kernelspec": {
   "display_name": "Python 3",
   "language": "python",
   "name": "python3"
  },
  "language_info": {
   "codemirror_mode": {
    "name": "ipython",
    "version": 3
   },
   "file_extension": ".py",
   "mimetype": "text/x-python",
   "name": "python",
   "nbconvert_exporter": "python",
   "pygments_lexer": "ipython3",
   "version": "3.8.8"
  }
 },
 "nbformat": 4,
 "nbformat_minor": 5
}
