{
 "cells": [
  {
   "cell_type": "code",
   "execution_count": 34,
   "id": "141c92fc-5d35-45a4-b27c-cd5eee336f0d",
   "metadata": {},
   "outputs": [
    {
     "name": "stdout",
     "output_type": "stream",
     "text": [
      "1902\n"
     ]
    }
   ],
   "source": [
    "import re\n",
    "\n",
    "data = open(\"input/day3.txt\", \"r\").read().split(\"\\n\")[:-1]\n",
    "data = [x.strip() for x in data]\n",
    "\n",
    "potential_triangles = []\n",
    "for x in data:\n",
    "  res = re.search(r\"(\\d+) .* (\\d+) .* (\\d+)\", x)\n",
    "  potential_triangles.append(list(map(int,[res.group(1), res.group(2), res.group(3)])))\n",
    "\n",
    "print(len(potential_triangles))"
   ]
  },
  {
   "cell_type": "code",
   "execution_count": 51,
   "id": "0582f826-bc7b-48e1-b60c-1b0b4de5a138",
   "metadata": {},
   "outputs": [],
   "source": [
    "def is_triangle_valid(lengths):\n",
    "  l1, l2, l3 = lengths\n",
    "  return l1 + l2 > l3 and l1 + l3 > l2 and l2 + l3 > l1"
   ]
  },
  {
   "cell_type": "code",
   "execution_count": 52,
   "id": "3ccbf1d6-c72e-48b5-9613-01b93164af75",
   "metadata": {},
   "outputs": [
    {
     "name": "stdout",
     "output_type": "stream",
     "text": [
      "Nr of valid triangles: 982 st\n"
     ]
    }
   ],
   "source": [
    "nr_of_valid_triangles = 0\n",
    "\n",
    "# For a triangle to be valid, the sum of any two sides has to be larger than the third one!\n",
    "for lengths in potential_triangles:\n",
    "    if is_triangle_valid(lengths):\n",
    "      nr_of_valid_triangles += 1\n",
    "    \n",
    "print(f\"Nr of valid triangles: {nr_of_valid_triangles} st\")"
   ]
  },
  {
   "cell_type": "markdown",
   "id": "8fce7a15-0663-419a-a03a-49ae6b48f58f",
   "metadata": {},
   "source": [
    "### Part 2\n",
    "Triangle sides are stored down each column instead of each row"
   ]
  },
  {
   "cell_type": "code",
   "execution_count": 87,
   "id": "f632303a-00ff-4ca2-9909-d6857dd20be8",
   "metadata": {},
   "outputs": [
    {
     "name": "stdout",
     "output_type": "stream",
     "text": [
      "Nr of valid triangles: 1826 st\n"
     ]
    }
   ],
   "source": [
    "nr_of_rows = len(potential_triangles)\n",
    "triangles_per_column = int(nr_rows/3)\n",
    "\n",
    "nr_of_valid_triangles = 0\n",
    "\n",
    "# Loop through each column with step size 3 down each row\n",
    "for x in range(3):\n",
    "  for y in range(0,nr_of_rows,3):\n",
    "    side1 = potential_triangles[y][x]\n",
    "    side2 = potential_triangles[y+1][x]\n",
    "    side3 = potential_triangles[y+2][x]\n",
    "    \n",
    "    if is_triangle_valid([side1, side2, side3]):\n",
    "      nr_of_valid_triangles += 1    \n",
    "    \n",
    "print(f\"Nr of valid triangles: {nr_of_valid_triangles} st\")  "
   ]
  },
  {
   "cell_type": "code",
   "execution_count": null,
   "id": "beaaa1b0-1b5e-448b-83d5-9646a99daffe",
   "metadata": {},
   "outputs": [],
   "source": []
  }
 ],
 "metadata": {
  "kernelspec": {
   "display_name": "Python 3",
   "language": "python",
   "name": "python3"
  },
  "language_info": {
   "codemirror_mode": {
    "name": "ipython",
    "version": 3
   },
   "file_extension": ".py",
   "mimetype": "text/x-python",
   "name": "python",
   "nbconvert_exporter": "python",
   "pygments_lexer": "ipython3",
   "version": "3.8.8"
  }
 },
 "nbformat": 4,
 "nbformat_minor": 5
}
