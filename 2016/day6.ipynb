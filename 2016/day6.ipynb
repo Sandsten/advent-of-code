{
 "cells": [
  {
   "cell_type": "code",
   "execution_count": 16,
   "id": "96ac3a59-5082-42cb-811e-4d14e8219693",
   "metadata": {},
   "outputs": [
    {
     "data": {
      "text/plain": [
       "['wrqhvxvz', 'fyzrlmet', 'mnoqzwlx']"
      ]
     },
     "execution_count": 16,
     "metadata": {},
     "output_type": "execute_result"
    }
   ],
   "source": [
    "data = open(\"input/day6.txt\", \"r\").read().split(\"\\n\")[:-1]\n",
    "data[:3]"
   ]
  },
  {
   "cell_type": "markdown",
   "id": "76698199-e12a-407e-95cd-00fd8c5127a3",
   "metadata": {},
   "source": [
    "### Part 1\n",
    "Most common letter in each column is the answer"
   ]
  },
  {
   "cell_type": "code",
   "execution_count": 19,
   "id": "7bc316bd-d815-4bd5-8485-f1ae3bf0cbef",
   "metadata": {},
   "outputs": [
    {
     "data": {
      "text/plain": [
       "'gebzfnbt'"
      ]
     },
     "execution_count": 19,
     "metadata": {},
     "output_type": "execute_result"
    }
   ],
   "source": [
    "nr_cols = len(data[0])\n",
    "nr_rows = len(data)\n",
    "\n",
    "code = \"\"\n",
    "for x in range(8):\n",
    "    column = {}\n",
    "    for y in range(nr_rows):\n",
    "        letter = data[y][x]\n",
    "        if letter in column:\n",
    "            column[letter] += 1\n",
    "        else:\n",
    "            column[letter] = 1\n",
    "    \n",
    "    sorted_elements = sorted(column.items(),key=lambda x:-x[1])\n",
    "    code += sorted_elements[0][0]\n",
    "    \n",
    "code"
   ]
  },
  {
   "cell_type": "markdown",
   "id": "65cc4ee4-dd10-4132-86f3-1078afdecd59",
   "metadata": {},
   "source": [
    "### Part 2\n",
    "Least common letter in each column is the answer"
   ]
  },
  {
   "cell_type": "code",
   "execution_count": 20,
   "id": "0446ea03-1710-43e2-811f-46239a413dbe",
   "metadata": {},
   "outputs": [
    {
     "data": {
      "text/plain": [
       "'fykjtwyn'"
      ]
     },
     "execution_count": 20,
     "metadata": {},
     "output_type": "execute_result"
    }
   ],
   "source": [
    "nr_cols = len(data[0])\n",
    "nr_rows = len(data)\n",
    "\n",
    "code = \"\"\n",
    "for x in range(8):\n",
    "    column = {}\n",
    "    for y in range(nr_rows):\n",
    "        letter = data[y][x]\n",
    "        if letter in column:\n",
    "            column[letter] += 1\n",
    "        else:\n",
    "            column[letter] = 1\n",
    "    \n",
    "    sorted_elements = sorted(column.items(),key=lambda x:x[1])\n",
    "    code += sorted_elements[0][0]\n",
    "    \n",
    "code"
   ]
  }
 ],
 "metadata": {
  "kernelspec": {
   "display_name": "Python 3 (ipykernel)",
   "language": "python",
   "name": "python3"
  },
  "language_info": {
   "codemirror_mode": {
    "name": "ipython",
    "version": 3
   },
   "file_extension": ".py",
   "mimetype": "text/x-python",
   "name": "python",
   "nbconvert_exporter": "python",
   "pygments_lexer": "ipython3",
   "version": "3.9.5"
  }
 },
 "nbformat": 4,
 "nbformat_minor": 5
}
