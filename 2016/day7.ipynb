{
 "cells": [
  {
   "cell_type": "markdown",
   "id": "fe778134-63cc-471d-8702-ef5406559ddd",
   "metadata": {},
   "source": [
    "The goal is to search for **Autonomous Bridge Bypass Annotation**  \n",
    "\n",
    "IDEA: Go through the string and if we find a double character, continue forward and backtrack to see if we have an **ABBA** sentence"
   ]
  },
  {
   "cell_type": "code",
   "execution_count": 3,
   "id": "393209e7-33ca-44d4-a57d-503ff2416d28",
   "metadata": {},
   "outputs": [
    {
     "data": {
      "text/plain": [
       "['wysextplwqpvipxdv[srzvtwbfzqtspxnethm]syqbzgtboxxzpwr[kljvjjkjyojzrstfgrw]obdhcczonzvbfby[svotajtpttohxsh]cooktbyumlpxostt',\n",
       " 'emzopymywhhxulxuctj[dwwvkzhoigmbmnf]nxgbgfwqvrypqxppyq[qozsihnhpztcrpbdc]rnhnakmrdcowatw[rhvchmzmyfxlolwe]uysecbspabtauvmixa',\n",
       " 'bqooxxweoytjghrqn[hkwwukixothfyglw]kpasnmikmbzcbfi[vlnyszifsaaicagxtqf]ucdyxasusefuuxlx',\n",
       " 'rxpusykufgqujfe[rypwoorxdemxffui]cvvcufcqmxoxcphp[witynplrfvquduiot]vcysdcsowcxhphp[gctucefriclxaonpwe]jdprpdvpeumrhokrcjt',\n",
       " 'iungssgfnnjlgdferc[xfffplonmzjmxkinhl]dehxdielvncdawomqk[teizynepguvtgofr]fjazkxesmlwryphifh[ppjfvfefqhmuqtdp]luopramrehtriilwlou',\n",
       " 'mqxqhcpalwycdxw[fkwhjscfmgywhtvdb]khadwvhkxygtxqx',\n",
       " 'ihekzgbwpjxgbau[eqpvqxncntbtsqn]mbtbcujdkbrhxdu',\n",
       " 'izikobnovmjzngo[ombcpcvshnedtndu]lnnmdkuapgnxpgyxcmg[bgnxdzmiolfvvaizu]tcvnrfufuvhgmlxcm',\n",
       " 'yhrowrreplrrsbupeor[nchtznfzbzwnogh]rynudxihckzattbz[dshxeaqusdlhydtm]rvqzuffgqtysfzxp',\n",
       " 'unfjgussbjxzlhopoqg[ppdnqkiuooukdmbqlo]flfiieiitmettblfln']"
      ]
     },
     "execution_count": 9,
     "metadata": {},
     "output_type": "execute_result"
    }
   ],
   "source": [
    "data = open(\"input/day7.txt\", \"r\").read().split(\"\\n\")[:-1]\n",
    "data[:2]"
   ]
  },
  {
   "cell_type": "code",
   "execution_count": 17,
   "id": "f0ff262e-755b-4704-ae67-184d8cc5e5a5",
   "metadata": {},
   "outputs": [
    {
     "name": "stdout",
     "output_type": "stream",
     "text": [
      "wysextplwqpvipxdv[srzvtwbfzqtspxnethm]syqbzgtboxxzpwr[kljvjjkjyojzrstfgrw]obdhcczonzvbfby[svotajtpttohxsh]cooktbyumlpxostt\n",
      "['[srzvtwbfzqtspxnethm]', '[kljvjjkjyojzrstfgrw]', '[svotajtpttohxsh]']\n",
      "['wysextplwqpvipxdv']\n",
      "['syqbzgtboxxzpwr[kljvjjkjyojzrstfgrw]obdhcczonzvbfby[svotajtpttohxsh]cooktbyumlpxostt']\n"
     ]
    }
   ],
   "source": [
    "import re\n",
    "def do_we_have_abba(sentence):\n",
    "    print(sentence)\n",
    "    \n",
    "for x in data:\n",
    "    print(x)\n",
    "    \n",
    "    res1 = re.findall(r\"\\[.*?\\]\",x)\n",
    "    print(res1)\n",
    "    \n",
    "    res2 = re.findall(r\"^(.*?)\\[\",x)\n",
    "    print(res2)\n",
    "    \n",
    "    res3 = re.findall(r\"\\](.*?)$\",x)\n",
    "    print(res3)\n",
    "    \n",
    "    break"
   ]
  },
  {
   "cell_type": "code",
   "execution_count": null,
   "id": "f50663cb-ed8d-4fe3-ac76-5036d74eb888",
   "metadata": {},
   "outputs": [],
   "source": []
  }
 ],
 "metadata": {
  "kernelspec": {
   "display_name": "Python 3 (ipykernel)",
   "language": "python",
   "name": "python3"
  },
  "language_info": {
   "codemirror_mode": {
    "name": "ipython",
    "version": 3
   },
   "file_extension": ".py",
   "mimetype": "text/x-python",
   "name": "python",
   "nbconvert_exporter": "python",
   "pygments_lexer": "ipython3",
   "version": "3.9.5"
  }
 },
 "nbformat": 4,
 "nbformat_minor": 5
}
