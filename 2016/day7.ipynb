{
 "cells": [
  {
   "cell_type": "markdown",
   "id": "fe778134-63cc-471d-8702-ef5406559ddd",
   "metadata": {},
   "source": [
    "The goal is to search for **Autonomous Bridge Bypass Annotation**  \n",
    "\n",
    "IDEA: Go through the string and if we find a double character, continue forward and backtrack to see if we have an **ABBA** sentence"
   ]
  },
  {
   "cell_type": "code",
   "execution_count": 1,
   "id": "393209e7-33ca-44d4-a57d-503ff2416d28",
   "metadata": {},
   "outputs": [
    {
     "data": {
      "text/plain": [
       "['wysextplwqpvipxdv[srzvtwbfzqtspxnethm]syqbzgtboxxzpwr[kljvjjkjyojzrstfgrw]obdhcczonzvbfby[svotajtpttohxsh]cooktbyumlpxostt',\n",
       " 'emzopymywhhxulxuctj[dwwvkzhoigmbmnf]nxgbgfwqvrypqxppyq[qozsihnhpztcrpbdc]rnhnakmrdcowatw[rhvchmzmyfxlolwe]uysecbspabtauvmixa']"
      ]
     },
     "execution_count": 1,
     "metadata": {},
     "output_type": "execute_result"
    }
   ],
   "source": [
    "data = open(\"input/day7.txt\", \"r\").read().split(\"\\n\")[:-1]\n",
    "data[:2]"
   ]
  },
  {
   "cell_type": "markdown",
   "id": "84b576cd-d084-4b1b-b536-517a0ee12ef2",
   "metadata": {},
   "source": [
    "### Part 1"
   ]
  },
  {
   "cell_type": "code",
   "execution_count": 2,
   "id": "c88e7cc1-3e94-4edd-972a-00a89db3da74",
   "metadata": {},
   "outputs": [],
   "source": [
    "# Look for any 4 character \"ABBA\" type sequence\n",
    "def do_we_have_abba(sentences):\n",
    "  for sentence in sentences:\n",
    "    # Check if i and i-1 aren't equal to each other.\n",
    "    # If they aren't equal, check if i+1 is equal to i and if i+2 is equal to i-1\n",
    "    # If that's the case we have found an ABBA sequence\n",
    "    # We only have to loop through letters at index [1:-3] since we always need one behind and two ahead for ABBA to exist\n",
    "    for i in range(1,len(sentence)-2):\n",
    "      if sentence[i] != sentence[i-1]:\n",
    "        if sentence[i+1] == sentence[i] and sentence[i+2] == sentence[i-1]:\n",
    "          return True\n",
    "    \n",
    "  return False\n",
    "\n",
    "def is_tls_supported(ip,hypernet):\n",
    "  # Check if TLS is supported\n",
    "  if do_we_have_abba(ip):\n",
    "    if not do_we_have_abba(hypernet_sequences):\n",
    "      return True\n",
    "  return False"
   ]
  },
  {
   "cell_type": "markdown",
   "id": "51fca3ca-a28f-4d0a-9d7f-e654a6a7eee4",
   "metadata": {},
   "source": [
    "### Part 2"
   ]
  },
  {
   "cell_type": "code",
   "execution_count": 3,
   "id": "940bae78-cb6e-4f5e-9a16-4cbf7ea1cf85",
   "metadata": {},
   "outputs": [],
   "source": [
    "def get_all_aba_sequences(sentences):\n",
    "  aba_sequences = []\n",
    "  for sentence in sentences:\n",
    "    for i in range(1,len(sentence)-1):\n",
    "      if sentence[i-1] == sentence[i+1] and sentence[i] != sentence[i-1]:\n",
    "        aba_sequences.append(sentence[i-1:i+2])\n",
    "  \n",
    "  return aba_sentences\n",
    "\n",
    "def is_ssl_supported(ip,hypernet):\n",
    "  ip_aba = get_all_aba_sequences(ip)\n",
    "  hypernet_aba = get_all_aba_sequences(hypernet)\n",
    "  for aba in ip_aba:\n",
    "    inverse = f\"{aba[1]}{aba[0]}{aba[1]}\"\n",
    "    if inverse in hypernet_aba:\n",
    "      return True\n",
    "  return False"
   ]
  },
  {
   "cell_type": "code",
   "execution_count": 4,
   "id": "0c0399b8-8c41-48d4-bdb6-6b7a60ebb638",
   "metadata": {},
   "outputs": [
    {
     "name": "stdout",
     "output_type": "stream",
     "text": [
      "Nr of TLS supported = 118\n",
      "Nr of SSL supported = 260\n"
     ]
    }
   ],
   "source": [
    "import re\n",
    "\n",
    "nr_of_ips_with_tls_support = 0\n",
    "nr_of_ips_with_ssl_support = 0\n",
    "for x in data:\n",
    "    # Match all characters that resides between a pair of brackets\n",
    "    hypernet_sequences = re.findall(r\"\\[(.*?)\\]\",x)\n",
    "    ip_between = re.findall(r\"\\](\\w+)\\[\",x)\n",
    "    ip_start = re.findall(r\"^\\w+\",x)\n",
    "    ip_end = re.findall(r\"\\w+$\",x)\n",
    "    ip = [*ip_start, *ip_between, *ip_end] # * will \"expand\" each array to its individual elements\n",
    "    \n",
    "    # Part 1\n",
    "    if is_tls_supported(ip, hypernet_sequences):\n",
    "      nr_of_ips_with_tls_support += 1\n",
    "    \n",
    "    # Part 2\n",
    "    if is_ssl_supported(ip, hypernet_sequences):\n",
    "      nr_of_ips_with_ssl_support += 1\n",
    "    \n",
    "print(f\"Nr of TLS supported = {nr_of_ips_with_tls_support}\")\n",
    "print(f\"Nr of SSL supported = {nr_of_ips_with_ssl_support}\")"
   ]
  },
  {
   "cell_type": "code",
   "execution_count": null,
   "id": "d6fdc81f-1814-4674-bcc3-8c2ded6020c5",
   "metadata": {},
   "outputs": [],
   "source": []
  }
 ],
 "metadata": {
  "kernelspec": {
   "display_name": "Python 3",
   "language": "python",
   "name": "python3"
  },
  "language_info": {
   "codemirror_mode": {
    "name": "ipython",
    "version": 3
   },
   "file_extension": ".py",
   "mimetype": "text/x-python",
   "name": "python",
   "nbconvert_exporter": "python",
   "pygments_lexer": "ipython3",
   "version": "3.8.8"
  }
 },
 "nbformat": 4,
 "nbformat_minor": 5
}
