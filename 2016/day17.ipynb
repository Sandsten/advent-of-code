{
 "cells": [
  {
   "cell_type": "code",
   "execution_count": null,
   "id": "201caf47-a843-4525-963d-d36d5d98aba6",
   "metadata": {},
   "outputs": [],
   "source": [
    "puzzle_input = \"qzthpkfp\"\n",
    "\n",
    "3333333333333333333333333"
   ]
  }
 ],
 "metadata": {
  "kernelspec": {
   "display_name": "Python 3",
   "language": "python",
   "name": "python3"
  },
  "language_info": {
   "codemirror_mode": {
    "name": "ipython",
    "version": 3
   },
   "file_extension": ".py",
   "mimetype": "text/x-python",
   "name": "python",
   "nbconvert_exporter": "python",
   "pygments_lexer": "ipython3",
   "version": "3.8.8"
  }
 },
 "nbformat": 4,
 "nbformat_minor": 5
}
