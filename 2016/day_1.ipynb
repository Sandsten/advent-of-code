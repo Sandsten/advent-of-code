{
 "cells": [
  {
   "cell_type": "code",
   "execution_count": 6,
   "id": "9df9d6ea-897c-4012-a440-1ce750efd9fc",
   "metadata": {},
   "outputs": [],
   "source": [
    "data = open(\"input/day1.txt\", \"r\").read().split(\",\")\n",
    "data = [x.strip() for x in data]"
   ]
  },
  {
   "cell_type": "markdown",
   "id": "fea2c184-166d-4a03-b4e1-7d572ceb05b1",
   "metadata": {},
   "source": []
  },
  {
   "cell_type": "code",
   "execution_count": 20,
   "id": "5d339fa1-8baa-4a07-bd53-2367be7378c8",
   "metadata": {},
   "outputs": [
    {
     "name": "stdout",
     "output_type": "stream",
     "text": [
      "(-123,-123)\n",
      "Distance: 246\n"
     ]
    }
   ],
   "source": [
    "import math\n",
    "\n",
    "x_pos = 0\n",
    "y_pos = 0\n",
    "direction = [0,1]\n",
    "\n",
    "for instruction in data:\n",
    "    rotDir = instruction[0]\n",
    "    steps = int(instruction[1:])\n",
    "    \n",
    "    angle = math.pi/2 if rotDir == \"L\" else -math.pi/2\n",
    "    x = round((direction[0] * math.cos(angle)) - (direction[1] * math.sin(angle)))\n",
    "    y = round((direction[0] * math.sin(angle)) + (direction[1] * math.cos(angle)))\n",
    "    \n",
    "    x_pos += x * steps\n",
    "    y_pos += y * steps\n",
    "    \n",
    "    direction[0] = x\n",
    "    direction[1] = y\n",
    "    \n",
    "print(f\"({x_pos},{y_pos})\")\n",
    "print(f\"Distance: {abs(x_pos) + abs(y_pos)}\")"
   ]
  },
  {
   "cell_type": "markdown",
   "id": "53f45543-81cd-4f85-a585-423ec6f0b269",
   "metadata": {},
   "source": [
    "### Part 2\n",
    "The goal is the first position we visit twice"
   ]
  },
  {
   "cell_type": "code",
   "execution_count": 30,
   "id": "312506da-41cd-4ca8-a333-8788ec3ee3b1",
   "metadata": {},
   "outputs": [],
   "source": [
    "test_data = [\"R8\", \"R4\", \"R4\", \"R8\"]"
   ]
  },
  {
   "cell_type": "code",
   "execution_count": 57,
   "id": "179bed09-2004-4b3c-b165-322be38879a4",
   "metadata": {},
   "outputs": [
    {
     "name": "stdout",
     "output_type": "stream",
     "text": [
      "Distance: 124\n"
     ]
    }
   ],
   "source": [
    "import math\n",
    "\n",
    "x_pos = 0\n",
    "y_pos = 0\n",
    "direction = [0,1]\n",
    "\n",
    "visited_locations = {}\n",
    "\n",
    "for instruction in data:\n",
    "    rotDir = instruction[0]\n",
    "    steps = int(instruction[1:])\n",
    "    goal_reached = False\n",
    "    \n",
    "    # Get the new direction after rotating\n",
    "    angle = math.pi/2 if rotDir == \"L\" else -math.pi/2\n",
    "    x = round((direction[0] * math.cos(angle)) - (direction[1] * math.sin(angle)))\n",
    "    y = round((direction[0] * math.sin(angle)) + (direction[1] * math.cos(angle)))\n",
    "    \n",
    "    # Capture each individual step!\n",
    "    for i in range(steps):\n",
    "        x_pos += x\n",
    "        y_pos += y\n",
    "        \n",
    "        # Store all visited locations in a dictionary\n",
    "        # O(1) to check if location has been visited previously\n",
    "        location = f\"({x_pos},{y_pos})\"\n",
    "        if location in visited_locations:\n",
    "            visited_locations[location] += 1\n",
    "            goal_reached = True\n",
    "            break\n",
    "        else:\n",
    "            visited_locations[location] = 1\n",
    "        \n",
    "    if goal_reached:\n",
    "        break\n",
    "    \n",
    "    direction[0] = x\n",
    "    direction[1] = y\n",
    "    \n",
    "print(f\"Distance: {abs(x_pos) + abs(y_pos)}\")"
   ]
  },
  {
   "cell_type": "code",
   "execution_count": null,
   "id": "60a66f91-5e62-4a09-b987-8e2e8fa9759e",
   "metadata": {},
   "outputs": [],
   "source": []
  }
 ],
 "metadata": {
  "kernelspec": {
   "display_name": "Python 3 (ipykernel)",
   "language": "python",
   "name": "python3"
  },
  "language_info": {
   "codemirror_mode": {
    "name": "ipython",
    "version": 3
   },
   "file_extension": ".py",
   "mimetype": "text/x-python",
   "name": "python",
   "nbconvert_exporter": "python",
   "pygments_lexer": "ipython3",
   "version": "3.9.5"
  }
 },
 "nbformat": 4,
 "nbformat_minor": 5
}
