{
 "cells": [
  {
   "cell_type": "markdown",
   "metadata": {},
   "source": [
    "## Day 1: Report repair"
   ]
  },
  {
   "cell_type": "markdown",
   "metadata": {},
   "source": [
    "### Part 1\n",
    "Task: Find the two numbers which sum equals 2020. Then multiply them together, this is your answer.\n",
    "\n",
    "Idea: Go through all combinations until we find the correct two numbers. Then multiply them."
   ]
  },
  {
   "cell_type": "code",
   "execution_count": 30,
   "metadata": {},
   "outputs": [
    {
     "name": "stdout",
     "output_type": "stream",
     "text": [
      "Number A: 1263\n",
      "Number B: 757\n",
      "Sum of A & B is: 2020\n",
      "Product of A & B is: 956091\n"
     ]
    }
   ],
   "source": [
    "numbers = open(\"input-task-1.txt\", \"r\")\n",
    "numbers = numbers.read().split(\"\\n\")[0:-1] # Ignore the last element since it's blank\n",
    "numbers = [int(x) for x in numbers] # Convert from string to int\n",
    "numbers\n",
    "\n",
    "# Go through all numbers, except the last one\n",
    "for i in range(0,len(numbers) - 1):\n",
    "    # Go through all numbers besides number A and the already tested combinations\n",
    "    for j in range(i + 1,len(numbers)):\n",
    "        A = numbers[i]\n",
    "        B = numbers[j]\n",
    "        if A + B == 2020:\n",
    "            print(\"Number A: \" + str(A))\n",
    "            print(\"Number B: \" + str(B))\n",
    "            print(\"Sum of A & B is: \" + str(A + B))\n",
    "            print(\"Product of A & B is: \" + str(A * B))    \n",
    "            break;\n",
    "    else:\n",
    "        continue  # only executed if the inner loop did NOT break\n",
    "    break    "
   ]
  },
  {
   "cell_type": "markdown",
   "metadata": {},
   "source": [
    "### Part 2\n",
    "\n",
    "The same as part 1 but find three numbers which sum is equal to 2020"
   ]
  },
  {
   "cell_type": "code",
   "execution_count": 32,
   "metadata": {},
   "outputs": [
    {
     "name": "stdout",
     "output_type": "stream",
     "text": [
      "Number A: 211\n",
      "Number B: 241\n",
      "Number C: 1568\n",
      "A + B + C = 2020\n",
      "A * B * C = 79734368\n"
     ]
    }
   ],
   "source": [
    "# Go through all numbers, except the last one\n",
    "for i in range(0,len(numbers) - 1):\n",
    "    # Go through all numbers besides number A and the already tested combinations\n",
    "    for j in range(i + 1,len(numbers)):\n",
    "        for k in range(j + 1, len(numbers)):\n",
    "            A = numbers[i]\n",
    "            B = numbers[j]\n",
    "            C = numbers[k]\n",
    "            if A + B + C == 2020:\n",
    "                print(\"Number A: \" + str(A))\n",
    "                print(\"Number B: \" + str(B))\n",
    "                print(\"Number C: \" + str(C))\n",
    "                print(\"A + B + C = \" + str(A + B + C))\n",
    "                print(\"A * B * C = \" + str(A * B * C))    \n",
    "                break;\n",
    "    else:\n",
    "        continue  # only executed if the inner loop did NOT break\n",
    "    break "
   ]
  }
 ],
 "metadata": {
  "kernelspec": {
   "display_name": "Python 3",
   "language": "python",
   "name": "python3"
  },
  "language_info": {
   "codemirror_mode": {
    "name": "ipython",
    "version": 3
   },
   "file_extension": ".py",
   "mimetype": "text/x-python",
   "name": "python",
   "nbconvert_exporter": "python",
   "pygments_lexer": "ipython3",
   "version": "3.8.3"
  },
  "toc": {
   "base_numbering": 1,
   "nav_menu": {},
   "number_sections": true,
   "sideBar": true,
   "skip_h1_title": false,
   "title_cell": "Table of Contents",
   "title_sidebar": "Contents",
   "toc_cell": false,
   "toc_position": {},
   "toc_section_display": true,
   "toc_window_display": false
  }
 },
 "nbformat": 4,
 "nbformat_minor": 4
}
