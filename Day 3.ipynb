{
 "cells": [
  {
   "cell_type": "markdown",
   "metadata": {},
   "source": [
    "# Day 3: Toboggan Trajectory"
   ]
  },
  {
   "cell_type": "code",
   "execution_count": 28,
   "metadata": {},
   "outputs": [],
   "source": [
    "import numpy as np"
   ]
  },
  {
   "cell_type": "code",
   "execution_count": 22,
   "metadata": {},
   "outputs": [],
   "source": [
    "train_map = open(\"input-day-3.txt\", \"r\")\n",
    "train_map = train_map.read().split(\"\\n\")[0:-1]\n",
    "\n",
    "map_height = len(train_map)\n",
    "map_width = len(train_map[0])"
   ]
  },
  {
   "cell_type": "markdown",
   "metadata": {},
   "source": [
    "## Task 1\n",
    "\n",
    "Movement rule: down 1, right 3  \n",
    "The map repeats if right edge is reached, just use modulo here"
   ]
  },
  {
   "cell_type": "code",
   "execution_count": 23,
   "metadata": {},
   "outputs": [
    {
     "name": "stdout",
     "output_type": "stream",
     "text": [
      "Tree encounters: 286\n"
     ]
    }
   ],
   "source": [
    "tree_hits = 0\n",
    "x,y = 0,0\n",
    "\n",
    "# While we are inside the map in te y direction\n",
    "while y <= map_height - 1:\n",
    "    \n",
    "    # If this coordinate is a tree\n",
    "    if train_map[y][x] == \"#\":\n",
    "        tree_hits += 1\n",
    "    \n",
    "    # Move to next coordinate\n",
    "    x += 3\n",
    "    y += 1\n",
    "    \n",
    "    # Repeat the map in the x direction\n",
    "    x %= map_width\n",
    "    \n",
    "print(\"Tree encounters: \" + str(tree_hits))"
   ]
  },
  {
   "cell_type": "markdown",
   "metadata": {},
   "source": [
    "## Part 2\n",
    "Same as above but try different slopes"
   ]
  },
  {
   "cell_type": "code",
   "execution_count": 29,
   "metadata": {},
   "outputs": [
    {
     "name": "stdout",
     "output_type": "stream",
     "text": [
      "Tree encounters: [60, 286, 76, 62, 45]\n",
      "3638606400\n"
     ]
    }
   ],
   "source": [
    "slopes = [\n",
    "    [1,1],\n",
    "    [3,1],\n",
    "    [5,1],\n",
    "    [7,1],\n",
    "    [1,2]\n",
    "]\n",
    "\n",
    "slope_trees = []\n",
    "\n",
    "for slope in slopes:\n",
    "\n",
    "    tree_hits = 0\n",
    "    x,y = 0,0\n",
    "\n",
    "    # While we are inside the map in te y direction\n",
    "    while y <= map_height - 1:\n",
    "\n",
    "        # If this coordinate is a tree\n",
    "        if train_map[y][x] == \"#\":\n",
    "            tree_hits += 1\n",
    "\n",
    "        # Move to next coordinate\n",
    "        x += slope[0]\n",
    "        y += slope[1]\n",
    "\n",
    "        # Repeat the map in the x direction\n",
    "        x %= map_width\n",
    "    \n",
    "    slope_trees.append(tree_hits)\n",
    "    \n",
    "print(\"Tree encounters: \" + str(slope_trees))\n",
    "print(np.prod(np.array(slope_trees)))\n"
   ]
  }
 ],
 "metadata": {
  "kernelspec": {
   "display_name": "Python 3",
   "language": "python",
   "name": "python3"
  },
  "language_info": {
   "codemirror_mode": {
    "name": "ipython",
    "version": 3
   },
   "file_extension": ".py",
   "mimetype": "text/x-python",
   "name": "python",
   "nbconvert_exporter": "python",
   "pygments_lexer": "ipython3",
   "version": "3.8.3"
  },
  "toc": {
   "base_numbering": 1,
   "nav_menu": {},
   "number_sections": true,
   "sideBar": true,
   "skip_h1_title": false,
   "title_cell": "Table of Contents",
   "title_sidebar": "Contents",
   "toc_cell": false,
   "toc_position": {},
   "toc_section_display": true,
   "toc_window_display": false
  }
 },
 "nbformat": 4,
 "nbformat_minor": 4
}
